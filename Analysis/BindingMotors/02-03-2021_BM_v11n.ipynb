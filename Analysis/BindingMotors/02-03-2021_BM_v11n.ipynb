{
 "cells": [
  {
   "cell_type": "code",
   "execution_count": 48,
   "metadata": {},
   "outputs": [],
   "source": [
    "import numpy as np\n",
    "import pandas as pd\n",
    "import matplotlib.pyplot as plt\n",
    "import glob\n",
    "\n",
    "#from scipy.interpolate import spline\n",
    "# jupyter nbconvert xxx.ipynb --no-input"
   ]
  },
  {
   "cell_type": "code",
   "execution_count": 58,
   "metadata": {},
   "outputs": [],
   "source": [
    "outputdiv = 100000\n",
    "beads = 13\n",
    "segments = beads-1\n",
    "\n",
    "r_ATP500 = np.array([0.70,0.80,0.88,0.90,0.92,0.94,0.96,0.98,1.00])"
   ]
  },
  {
   "cell_type": "code",
   "execution_count": 52,
   "metadata": {},
   "outputs": [],
   "source": [
    "ATP500files = glob.glob('Mstates/ATP500/MStates_Ts0.**.txt')\n",
    "ATP500files = sorted(ATP500files, key=lambda x:x[-20:])\n",
    "\n",
    "ATP2000files = glob.glob('Mstates/ATP2000/MStates_Ts0.**.txt')\n",
    "ATP2000files = sorted(ATP2000files, key=lambda x:x[-20:])"
   ]
  },
  {
   "cell_type": "code",
   "execution_count": 59,
   "metadata": {},
   "outputs": [
    {
     "name": "stdout",
     "output_type": "stream",
     "text": [
      "Mstates/ATP500/MStates_Ts0.01_S77T5ATP500R0.70.txt\n",
      "Mstates/ATP500/MStates_Ts0.01_S77T5ATP500R0.80.txt\n",
      "Mstates/ATP500/MStates_Ts0.01_S77T5ATP500R0.88.txt\n",
      "Mstates/ATP500/MStates_Ts0.01_S77T5ATP500R0.90.txt\n",
      "Mstates/ATP500/MStates_Ts0.01_S77T5ATP500R0.92.txt\n",
      "Mstates/ATP500/MStates_Ts0.01_S77T5ATP500R0.94.txt\n",
      "Mstates/ATP500/MStates_Ts0.01_S77T5ATP500R0.96.txt\n",
      "Mstates/ATP500/MStates_Ts0.01_S77T5ATP500R0.98.txt\n",
      "Mstates/ATP500/MStates_Ts0.01_S77T5ATP500R1.00.txt\n"
     ]
    }
   ],
   "source": [
    "columns = ['ts','im','mt','c','xc','yc','zc','xm','ym','zm','fx','fy','fz'] \n",
    "# ts = timestep, im = motor index, mt = motor type (active = 1, defective = 2)\n",
    "# c = contact  state, xc|yc|zc = binding motor head position, xm|ym|zm = binding motor root position \n",
    "# fx|fy|fz = xyz motor force at the root??\n",
    "act_m = []; act_d = []\n",
    "def_m = []; def_d = []\n",
    "bm_act = []; bm_def = []\n",
    "ms_act = []; ms_def = []\n",
    "\n",
    "for f in ATP500files:\n",
    "    print(f) # confirm data was sorted correctly!\n",
    "    ms = pd.read_csv(f, names=columns, delim_whitespace=True)\n",
    "    m = ms.drop(['im','xc','yc','zc','xm','ym','zm','fx','fy','fz'],axis=1)\n",
    "    m_act = m[m.mt == 1]\n",
    "    ms_act.append(m_act)\n",
    "    bm = m_act.groupby(m_act['ts'],as_index=False).size()\n",
    "    bm_act.append(bm['size'])\n",
    "    act_m.append(bm['size'].mean())\n",
    "    act_d.append(bm['size'].std())\n",
    "    m_def = m[m.mt == 2]\n",
    "    ms_def.append(m_def)\n",
    "    bm = m_def.groupby(m_def['ts'],as_index=False).size()\n",
    "    bm_def.append(bm['size'])\n",
    "    def_m.append(bm['size'].mean())\n",
    "    def_d.append(bm['size'].std())"
   ]
  },
  {
   "cell_type": "code",
   "execution_count": 75,
   "metadata": {},
   "outputs": [
    {
     "data": {
      "text/plain": [
       "0      17\n",
       "1      37\n",
       "2      55\n",
       "3      61\n",
       "4      71\n",
       "       ..\n",
       "496    63\n",
       "497    72\n",
       "498    69\n",
       "499    68\n",
       "500    67\n",
       "Name: size, Length: 501, dtype: int64"
      ]
     },
     "execution_count": 75,
     "metadata": {},
     "output_type": "execute_result"
    }
   ],
   "source": [
    "bm_act[0]"
   ]
  },
  {
   "cell_type": "code",
   "execution_count": 78,
   "metadata": {},
   "outputs": [
    {
     "data": {
      "text/html": [
       "<div>\n",
       "<style scoped>\n",
       "    .dataframe tbody tr th:only-of-type {\n",
       "        vertical-align: middle;\n",
       "    }\n",
       "\n",
       "    .dataframe tbody tr th {\n",
       "        vertical-align: top;\n",
       "    }\n",
       "\n",
       "    .dataframe thead th {\n",
       "        text-align: right;\n",
       "    }\n",
       "</style>\n",
       "<table border=\"1\" class=\"dataframe\">\n",
       "  <thead>\n",
       "    <tr style=\"text-align: right;\">\n",
       "      <th></th>\n",
       "      <th>ts</th>\n",
       "      <th>mt</th>\n",
       "      <th>c</th>\n",
       "    </tr>\n",
       "  </thead>\n",
       "  <tbody>\n",
       "    <tr>\n",
       "      <th>1</th>\n",
       "      <td>0</td>\n",
       "      <td>1</td>\n",
       "      <td>11.651672</td>\n",
       "    </tr>\n",
       "    <tr>\n",
       "      <th>3</th>\n",
       "      <td>0</td>\n",
       "      <td>1</td>\n",
       "      <td>1.925152</td>\n",
       "    </tr>\n",
       "    <tr>\n",
       "      <th>4</th>\n",
       "      <td>0</td>\n",
       "      <td>1</td>\n",
       "      <td>2.118088</td>\n",
       "    </tr>\n",
       "    <tr>\n",
       "      <th>5</th>\n",
       "      <td>0</td>\n",
       "      <td>1</td>\n",
       "      <td>3.847817</td>\n",
       "    </tr>\n",
       "    <tr>\n",
       "      <th>6</th>\n",
       "      <td>0</td>\n",
       "      <td>1</td>\n",
       "      <td>3.983622</td>\n",
       "    </tr>\n",
       "    <tr>\n",
       "      <th>...</th>\n",
       "      <td>...</td>\n",
       "      <td>...</td>\n",
       "      <td>...</td>\n",
       "    </tr>\n",
       "    <tr>\n",
       "      <th>105468</th>\n",
       "      <td>50000000</td>\n",
       "      <td>1</td>\n",
       "      <td>12.616308</td>\n",
       "    </tr>\n",
       "    <tr>\n",
       "      <th>105470</th>\n",
       "      <td>50000000</td>\n",
       "      <td>1</td>\n",
       "      <td>13.037731</td>\n",
       "    </tr>\n",
       "    <tr>\n",
       "      <th>105472</th>\n",
       "      <td>50000000</td>\n",
       "      <td>1</td>\n",
       "      <td>5.958855</td>\n",
       "    </tr>\n",
       "    <tr>\n",
       "      <th>105475</th>\n",
       "      <td>50000000</td>\n",
       "      <td>1</td>\n",
       "      <td>11.911949</td>\n",
       "    </tr>\n",
       "    <tr>\n",
       "      <th>105480</th>\n",
       "      <td>50000000</td>\n",
       "      <td>1</td>\n",
       "      <td>11.688055</td>\n",
       "    </tr>\n",
       "  </tbody>\n",
       "</table>\n",
       "<p>32047 rows × 3 columns</p>\n",
       "</div>"
      ],
      "text/plain": [
       "              ts  mt          c\n",
       "1              0   1  11.651672\n",
       "3              0   1   1.925152\n",
       "4              0   1   2.118088\n",
       "5              0   1   3.847817\n",
       "6              0   1   3.983622\n",
       "...          ...  ..        ...\n",
       "105468  50000000   1  12.616308\n",
       "105470  50000000   1  13.037731\n",
       "105472  50000000   1   5.958855\n",
       "105475  50000000   1  11.911949\n",
       "105480  50000000   1  11.688055\n",
       "\n",
       "[32047 rows x 3 columns]"
      ]
     },
     "execution_count": 78,
     "metadata": {},
     "output_type": "execute_result"
    }
   ],
   "source": [
    "ms_act[0]"
   ]
  },
  {
   "cell_type": "code",
   "execution_count": 107,
   "metadata": {},
   "outputs": [],
   "source": [
    "# binding motor data for active motors binding in segment 1-2 => act_seg[0], ...\n",
    "act_seg = [[] for _ in range(segments)]\n",
    "def_seg = [[] for _ in range(segments)]\n",
    "act_seg_m = []; act_seg_d = []\n",
    "def_seg_m = []; def_seg_m = []\n",
    "\n",
    "#for j in range(len(ms_act)):\n",
    "j=0\n",
    "for i in range(segments):\n",
    "    act_seg[i] = ms_act[j][ms_act[j].c.between(i+1,i+2)]\n",
    "    def_seg[i] = ms_def[j][ms_def[j].c.between(i+1,i+2)]\n",
    "\n",
    "for i in range(segments):\n",
    "    bm_seg_ = act_seg[i].groupby(act_seg[i]['ts'], as_index=False).size()\n",
    "    act_seg_m.append(bm_seg_['size'].mean())\n",
    "    bm_seg_ = def_seg[i].groupby(def_seg[i]['ts'], as_index=False).size()\n",
    "    def_seg_m.append(bm_seg_['size'].mean())"
   ]
  },
  {
   "cell_type": "code",
   "execution_count": null,
   "metadata": {},
   "outputs": [],
   "source": []
  },
  {
   "cell_type": "code",
   "execution_count": 108,
   "metadata": {},
   "outputs": [
    {
     "data": {
      "text/plain": [
       "9"
      ]
     },
     "execution_count": 108,
     "metadata": {},
     "output_type": "execute_result"
    }
   ],
   "source": [
    "len(ms_act)"
   ]
  },
  {
   "cell_type": "code",
   "execution_count": 109,
   "metadata": {},
   "outputs": [
    {
     "data": {
      "text/html": [
       "<div>\n",
       "<style scoped>\n",
       "    .dataframe tbody tr th:only-of-type {\n",
       "        vertical-align: middle;\n",
       "    }\n",
       "\n",
       "    .dataframe tbody tr th {\n",
       "        vertical-align: top;\n",
       "    }\n",
       "\n",
       "    .dataframe thead th {\n",
       "        text-align: right;\n",
       "    }\n",
       "</style>\n",
       "<table border=\"1\" class=\"dataframe\">\n",
       "  <thead>\n",
       "    <tr style=\"text-align: right;\">\n",
       "      <th></th>\n",
       "      <th>ts</th>\n",
       "      <th>mt</th>\n",
       "      <th>c</th>\n",
       "    </tr>\n",
       "  </thead>\n",
       "  <tbody>\n",
       "    <tr>\n",
       "      <th>12</th>\n",
       "      <td>0</td>\n",
       "      <td>1</td>\n",
       "      <td>12.625263</td>\n",
       "    </tr>\n",
       "    <tr>\n",
       "      <th>32</th>\n",
       "      <td>100000</td>\n",
       "      <td>1</td>\n",
       "      <td>12.235309</td>\n",
       "    </tr>\n",
       "    <tr>\n",
       "      <th>34</th>\n",
       "      <td>100000</td>\n",
       "      <td>1</td>\n",
       "      <td>12.514093</td>\n",
       "    </tr>\n",
       "    <tr>\n",
       "      <th>59</th>\n",
       "      <td>100000</td>\n",
       "      <td>1</td>\n",
       "      <td>12.748402</td>\n",
       "    </tr>\n",
       "    <tr>\n",
       "      <th>61</th>\n",
       "      <td>100000</td>\n",
       "      <td>1</td>\n",
       "      <td>12.629686</td>\n",
       "    </tr>\n",
       "    <tr>\n",
       "      <th>...</th>\n",
       "      <td>...</td>\n",
       "      <td>...</td>\n",
       "      <td>...</td>\n",
       "    </tr>\n",
       "    <tr>\n",
       "      <th>105231</th>\n",
       "      <td>49900000</td>\n",
       "      <td>1</td>\n",
       "      <td>12.809237</td>\n",
       "    </tr>\n",
       "    <tr>\n",
       "      <th>105283</th>\n",
       "      <td>50000000</td>\n",
       "      <td>1</td>\n",
       "      <td>12.444408</td>\n",
       "    </tr>\n",
       "    <tr>\n",
       "      <th>105301</th>\n",
       "      <td>50000000</td>\n",
       "      <td>1</td>\n",
       "      <td>12.136218</td>\n",
       "    </tr>\n",
       "    <tr>\n",
       "      <th>105388</th>\n",
       "      <td>50000000</td>\n",
       "      <td>1</td>\n",
       "      <td>12.545135</td>\n",
       "    </tr>\n",
       "    <tr>\n",
       "      <th>105468</th>\n",
       "      <td>50000000</td>\n",
       "      <td>1</td>\n",
       "      <td>12.616308</td>\n",
       "    </tr>\n",
       "  </tbody>\n",
       "</table>\n",
       "<p>3048 rows × 3 columns</p>\n",
       "</div>"
      ],
      "text/plain": [
       "              ts  mt          c\n",
       "12             0   1  12.625263\n",
       "32        100000   1  12.235309\n",
       "34        100000   1  12.514093\n",
       "59        100000   1  12.748402\n",
       "61        100000   1  12.629686\n",
       "...          ...  ..        ...\n",
       "105231  49900000   1  12.809237\n",
       "105283  50000000   1  12.444408\n",
       "105301  50000000   1  12.136218\n",
       "105388  50000000   1  12.545135\n",
       "105468  50000000   1  12.616308\n",
       "\n",
       "[3048 rows x 3 columns]"
      ]
     },
     "execution_count": 109,
     "metadata": {},
     "output_type": "execute_result"
    }
   ],
   "source": [
    "act_seg[11]"
   ]
  },
  {
   "cell_type": "code",
   "execution_count": 110,
   "metadata": {},
   "outputs": [
    {
     "data": {
      "text/plain": [
       "[<matplotlib.lines.Line2D at 0x7f8f2cc46eb8>]"
      ]
     },
     "execution_count": 110,
     "metadata": {},
     "output_type": "execute_result"
    },
    {
     "data": {
      "image/png": "[encoded data removed]",
      "text/plain": [
       "<Figure size 432x288 with 1 Axes>"
      ]
     },
     "metadata": {
      "needs_background": "light"
     },
     "output_type": "display_data"
    }
   ],
   "source": [
    "plt.plot(act_seg_m)"
   ]
  },
  {
   "cell_type": "code",
   "execution_count": 111,
   "metadata": {},
   "outputs": [
    {
     "data": {
      "text/plain": [
       "[<matplotlib.lines.Line2D at 0x7f8f2cbaa128>]"
      ]
     },
     "execution_count": 111,
     "metadata": {},
     "output_type": "execute_result"
    },
    {
     "data": {
      "image/png": "[encoded data removed]",
      "text/plain": [
       "<Figure size 432x288 with 1 Axes>"
      ]
     },
     "metadata": {
      "needs_background": "light"
     },
     "output_type": "display_data"
    }
   ],
   "source": [
    "plt.plot(def_seg_m)"
   ]
  },
  {
   "cell_type": "code",
   "execution_count": 112,
   "metadata": {},
   "outputs": [
    {
     "data": {
      "image/png": "[encoded data removed]",
      "text/plain": [
       "<Figure size 576x576 with 2 Axes>"
      ]
     },
     "metadata": {
      "needs_background": "light"
     },
     "output_type": "display_data"
    }
   ],
   "source": [
    "fig = plt.figure(figsize=(8,8))\n",
    "ax = fig.add_subplot(211)\n",
    "ax2 = fig.add_subplot(212)\n",
    "#plt.subplots_adjust(hspace=0.15)\n",
    "\n",
    "bins = np.arange(1.5,13.5)\n",
    "ymax = 21; ystep = 2\n",
    "\n",
    "ax.bar(bins,act_seg_m,\\\n",
    "       facecolor='green', alpha=0.7, ec='black', label='Active motor')\n",
    "\n",
    "ax.set_xticks(np.arange(1,14,1))\n",
    "ax.set_yticks(np.arange(0,ymax,ystep))\n",
    "ax.spines['top'].set_visible(False)\n",
    "ax.spines['right'].set_visible(False)\n",
    "ax.spines['bottom'].set_bounds(1,13)\n",
    "ax.spines['left'].set_bounds(0,ymax-1)\n",
    "ax.invert_xaxis()\n",
    "ax.tick_params(axis='x', which='both', pad=15)\n",
    "ax.legend(loc = 'upper left')\n",
    "ax.set_title('R = 0.92', fontsize=15)\n",
    "#======================================================\n",
    "\n",
    "ax2.bar(bins,def_seg_m,\\\n",
    "        facecolor='blue', alpha=0.7, ec='black', label='Defective motor')\n",
    "\n",
    "ax2.set_xticks(np.arange(1,14,1))\n",
    "ax2.set_yticks(np.arange(0,ymax,ystep))\n",
    "ax2.spines['bottom'].set_position('zero')\n",
    "ax2.spines['bottom'].set_bounds(1,13)\n",
    "ax2.spines['left'].set_bounds(0,ymax-1)\n",
    "ax2.invert_yaxis()\n",
    "ax2.invert_xaxis()\n",
    "ax2.tick_params(axis='x', direction='in')#, length=6, width=2, colors='r',grid_color='r', grid_alpha=0.5)\n",
    "ax2.set_xticklabels([])\n",
    "ax2.spines['top'].set_visible(False)\n",
    "ax2.spines['right'].set_visible(False)\n",
    "ax2.legend(loc = 'lower left')\n",
    "\n",
    "#fig.text(1.07, 0.5, 'Actin binding position', ha='center', fontsize=15)\n",
    "fig.text(0.04, 0.5, 'Mean binding occurrences', va='center', rotation='vertical', fontsize=15)\n",
    "\n",
    "#plt.savefig('fig5/motors_MNpos5s133R95.svg', fmt='.svg', dpi=1200, bbox_inches='tight')\n",
    "#plt.savefig('fig5/motors_MNpos5s133R95.png', fmt='.png', dpi=1200, bbox_inches='tight')\n",
    "\n",
    "plt.show()"
   ]
  },
  {
   "cell_type": "code",
   "execution_count": 84,
   "metadata": {},
   "outputs": [
    {
     "data": {
      "text/plain": [
       "[4.569979716024341,\n",
       " 4.392712550607287,\n",
       " 4.050607287449393,\n",
       " 4.554192229038855,\n",
       " 4.041407867494824,\n",
       " 3.951020408163265,\n",
       " 4.0,\n",
       " 3.68801652892562,\n",
       " 3.8961303462321792,\n",
       " 3.9098360655737703,\n",
       " 3.9363449691991788,\n",
       " 3.8230452674897117]"
      ]
     },
     "execution_count": 84,
     "metadata": {},
     "output_type": "execute_result"
    }
   ],
   "source": [
    "act_seg_m"
   ]
  },
  {
   "cell_type": "code",
   "execution_count": 77,
   "metadata": {},
   "outputs": [
    {
     "data": {
      "text/html": [
       "<div>\n",
       "<style scoped>\n",
       "    .dataframe tbody tr th:only-of-type {\n",
       "        vertical-align: middle;\n",
       "    }\n",
       "\n",
       "    .dataframe tbody tr th {\n",
       "        vertical-align: top;\n",
       "    }\n",
       "\n",
       "    .dataframe thead th {\n",
       "        text-align: right;\n",
       "    }\n",
       "</style>\n",
       "<table border=\"1\" class=\"dataframe\">\n",
       "  <thead>\n",
       "    <tr style=\"text-align: right;\">\n",
       "      <th></th>\n",
       "      <th>ts</th>\n",
       "      <th>size</th>\n",
       "    </tr>\n",
       "  </thead>\n",
       "  <tbody>\n",
       "    <tr>\n",
       "      <th>0</th>\n",
       "      <td>100000</td>\n",
       "      <td>2</td>\n",
       "    </tr>\n",
       "    <tr>\n",
       "      <th>1</th>\n",
       "      <td>200000</td>\n",
       "      <td>6</td>\n",
       "    </tr>\n",
       "    <tr>\n",
       "      <th>2</th>\n",
       "      <td>300000</td>\n",
       "      <td>4</td>\n",
       "    </tr>\n",
       "    <tr>\n",
       "      <th>3</th>\n",
       "      <td>400000</td>\n",
       "      <td>3</td>\n",
       "    </tr>\n",
       "    <tr>\n",
       "      <th>4</th>\n",
       "      <td>500000</td>\n",
       "      <td>2</td>\n",
       "    </tr>\n",
       "    <tr>\n",
       "      <th>...</th>\n",
       "      <td>...</td>\n",
       "      <td>...</td>\n",
       "    </tr>\n",
       "    <tr>\n",
       "      <th>488</th>\n",
       "      <td>49600000</td>\n",
       "      <td>7</td>\n",
       "    </tr>\n",
       "    <tr>\n",
       "      <th>489</th>\n",
       "      <td>49700000</td>\n",
       "      <td>3</td>\n",
       "    </tr>\n",
       "    <tr>\n",
       "      <th>490</th>\n",
       "      <td>49800000</td>\n",
       "      <td>8</td>\n",
       "    </tr>\n",
       "    <tr>\n",
       "      <th>491</th>\n",
       "      <td>49900000</td>\n",
       "      <td>8</td>\n",
       "    </tr>\n",
       "    <tr>\n",
       "      <th>492</th>\n",
       "      <td>50000000</td>\n",
       "      <td>7</td>\n",
       "    </tr>\n",
       "  </tbody>\n",
       "</table>\n",
       "<p>493 rows × 2 columns</p>\n",
       "</div>"
      ],
      "text/plain": [
       "           ts  size\n",
       "0      100000     2\n",
       "1      200000     6\n",
       "2      300000     4\n",
       "3      400000     3\n",
       "4      500000     2\n",
       "..        ...   ...\n",
       "488  49600000     7\n",
       "489  49700000     3\n",
       "490  49800000     8\n",
       "491  49900000     8\n",
       "492  50000000     7\n",
       "\n",
       "[493 rows x 2 columns]"
      ]
     },
     "execution_count": 77,
     "metadata": {},
     "output_type": "execute_result"
    }
   ],
   "source": [
    "sth = act_seg[0].groupby(act_seg[0]['ts'], as_index=False).size()\n",
    "sth#['size'].mean()"
   ]
  },
  {
   "cell_type": "code",
   "execution_count": 72,
   "metadata": {},
   "outputs": [
    {
     "data": {
      "text/html": [
       "<div>\n",
       "<style scoped>\n",
       "    .dataframe tbody tr th:only-of-type {\n",
       "        vertical-align: middle;\n",
       "    }\n",
       "\n",
       "    .dataframe tbody tr th {\n",
       "        vertical-align: top;\n",
       "    }\n",
       "\n",
       "    .dataframe thead th {\n",
       "        text-align: right;\n",
       "    }\n",
       "</style>\n",
       "<table border=\"1\" class=\"dataframe\">\n",
       "  <thead>\n",
       "    <tr style=\"text-align: right;\">\n",
       "      <th></th>\n",
       "      <th>ts</th>\n",
       "      <th>mt</th>\n",
       "      <th>c</th>\n",
       "    </tr>\n",
       "  </thead>\n",
       "  <tbody>\n",
       "    <tr>\n",
       "      <th>53</th>\n",
       "      <td>100000</td>\n",
       "      <td>1</td>\n",
       "      <td>1.341099</td>\n",
       "    </tr>\n",
       "    <tr>\n",
       "      <th>54</th>\n",
       "      <td>100000</td>\n",
       "      <td>1</td>\n",
       "      <td>1.676975</td>\n",
       "    </tr>\n",
       "    <tr>\n",
       "      <th>79</th>\n",
       "      <td>200000</td>\n",
       "      <td>1</td>\n",
       "      <td>1.506133</td>\n",
       "    </tr>\n",
       "    <tr>\n",
       "      <th>97</th>\n",
       "      <td>200000</td>\n",
       "      <td>1</td>\n",
       "      <td>1.935329</td>\n",
       "    </tr>\n",
       "    <tr>\n",
       "      <th>99</th>\n",
       "      <td>200000</td>\n",
       "      <td>1</td>\n",
       "      <td>1.578420</td>\n",
       "    </tr>\n",
       "    <tr>\n",
       "      <th>...</th>\n",
       "      <td>...</td>\n",
       "      <td>...</td>\n",
       "      <td>...</td>\n",
       "    </tr>\n",
       "    <tr>\n",
       "      <th>30250</th>\n",
       "      <td>50000000</td>\n",
       "      <td>1</td>\n",
       "      <td>1.238395</td>\n",
       "    </tr>\n",
       "    <tr>\n",
       "      <th>30255</th>\n",
       "      <td>50000000</td>\n",
       "      <td>1</td>\n",
       "      <td>1.601292</td>\n",
       "    </tr>\n",
       "    <tr>\n",
       "      <th>30256</th>\n",
       "      <td>50000000</td>\n",
       "      <td>1</td>\n",
       "      <td>1.486999</td>\n",
       "    </tr>\n",
       "    <tr>\n",
       "      <th>30259</th>\n",
       "      <td>50000000</td>\n",
       "      <td>1</td>\n",
       "      <td>1.659756</td>\n",
       "    </tr>\n",
       "    <tr>\n",
       "      <th>30260</th>\n",
       "      <td>50000000</td>\n",
       "      <td>1</td>\n",
       "      <td>1.726510</td>\n",
       "    </tr>\n",
       "  </tbody>\n",
       "</table>\n",
       "<p>2253 rows × 3 columns</p>\n",
       "</div>"
      ],
      "text/plain": [
       "             ts  mt         c\n",
       "53       100000   1  1.341099\n",
       "54       100000   1  1.676975\n",
       "79       200000   1  1.506133\n",
       "97       200000   1  1.935329\n",
       "99       200000   1  1.578420\n",
       "...         ...  ..       ...\n",
       "30250  50000000   1  1.238395\n",
       "30255  50000000   1  1.601292\n",
       "30256  50000000   1  1.486999\n",
       "30259  50000000   1  1.659756\n",
       "30260  50000000   1  1.726510\n",
       "\n",
       "[2253 rows x 3 columns]"
      ]
     },
     "execution_count": 72,
     "metadata": {},
     "output_type": "execute_result"
    }
   ],
   "source": [
    "act_seg[0]"
   ]
  },
  {
   "cell_type": "code",
   "execution_count": 54,
   "metadata": {},
   "outputs": [
    {
     "data": {
      "image/png": "[encoded data removed]",
      "text/plain": [
       "<Figure size 360x360 with 1 Axes>"
      ]
     },
     "metadata": {
      "needs_background": "light"
     },
     "output_type": "display_data"
    }
   ],
   "source": [
    "fig, ax = plt.subplots(1,1, figsize=(5,5))\n",
    "\n",
    "ax.errorbar(r_ATP500,act_m,act_d, capsize=3, linestyle='--', linewidth=1, elinewidth=1, color='gray', marker='o', markerfacecolor='lightgrey', ecolor='green', label='Active')\n",
    "ax.errorbar(r_ATP500,def_m,act_d, capsize=3, linestyle='--', linewidth=1, elinewidth=1, color='gray', marker='o', markerfacecolor='lightgrey', ecolor='blue', label='Defective')\n",
    "\n",
    "#ax[1].errorbar(r_pN,ac_def_pN['spec1'],ac_def_pN['dev1'], capsize=3, linestyle='--', linewidth=1, elinewidth=1, color='gray', marker='o', markerfacecolor='yellow', ecolor='green', label='Active')\n",
    "#ax[1].errorbar(r_pN,ac_def_pN['spec2'],ac_def_pN['dev2'], capsize=3, linestyle='--', linewidth=1, elinewidth=1, color='gray', marker='o', markerfacecolor='blue', ecolor='blue', label='Defective')\n",
    "\n",
    "ax.plot([0.92,0.92],[0.1,149.0], linestyle='--', lw=0.5, color='gray')\n",
    "\n",
    "ax.spines['right'].set_visible(False)\n",
    "ax.spines['top'].set_visible(False)\n",
    "\n",
    "ax.spines['bottom'].set_position(('axes',-0.01))\n",
    "ax.spines['left'].set_position(('axes',-0.05))\n",
    "ax.spines['left'].set_bounds(0,180)\n",
    "\n",
    "ax.xaxis.set_ticks_position('bottom')\n",
    "ax.yaxis.set_ticks_position('left')\n",
    "\n",
    "ax.set_xticks(np.arange(0.68,1.1,step=0.08))\n",
    "ax.set_yticks(np.arange(0,181,30))\n",
    "#ax.set_ylim(ymin=0)\n",
    "\n",
    "#ax[1].tick_params(labelsize=18, direction='out', length=6, width=1) # colors='r', grid_color='r', grid_alpha=0.5\n",
    "ax.minorticks_on()\n",
    "ax.tick_params('both',direction='in',top=False,right=False,length=8, width=0.5,which='major', labelsize=14)\n",
    "ax.tick_params('both',direction='in',top=False,right=False,length=4, width=0.4,which='minor', labelsize=14)\n",
    "\n",
    "ax.set_xlabel('Assay active ratio', fontsize=18)\n",
    "ax.set_ylabel('Mean binding myosin', fontsize=18)\n",
    "#================================================================================\n",
    "\n",
    "\n",
    "\n",
    "fig.tight_layout()\n",
    "#plt.savefig('fig/speed_binding_R07_08t5ATP500.pdf', format='pdf', dpi=500, bbox_inches='tight')\n",
    "#plt.savefig('fig/speed_binding_R07_08t5F4.6pN.pdf', format='pdf', dpi=500, bbox_inches='tight')\n",
    "#plt.savefig('fig/speed_binding_R07_08t5F4.6pNMD.pdf', format='pdf', dpi=500, bbox_inches='tight')\n",
    "plt.show()"
   ]
  },
  {
   "cell_type": "code",
   "execution_count": 57,
   "metadata": {},
   "outputs": [
    {
     "data": {
      "text/plain": [
       "0      21\n",
       "1      38\n",
       "2      41\n",
       "3      36\n",
       "4      41\n",
       "       ..\n",
       "496    57\n",
       "497    48\n",
       "498    50\n",
       "499    46\n",
       "500    47\n",
       "Name: size, Length: 501, dtype: int64"
      ]
     },
     "execution_count": 57,
     "metadata": {},
     "output_type": "execute_result"
    }
   ],
   "source": [
    "bm_act[5]"
   ]
  },
  {
   "cell_type": "code",
   "execution_count": 33,
   "metadata": {},
   "outputs": [],
   "source": [
    "columns = ['ts','im','mt','c','xc','yc','zc','xm','ym','zm','fx','fy','fz'] \n",
    "m = pd.read_csv('Mstates/ATP500/MStates_Ts0.01_S77T5ATP500R0.92.txt', names=columns, delim_whitespace=True)\n",
    "\n",
    "m = m.drop(['im','xc','yc','zc','xm','ym','zm','fx','fy','fz'],axis=1)\n",
    "m_act = m[m.mt == 1]\n",
    "m_def = m[m.mt == 2]"
   ]
  },
  {
   "cell_type": "code",
   "execution_count": 30,
   "metadata": {},
   "outputs": [
    {
     "data": {
      "text/plain": [
       "17"
      ]
     },
     "execution_count": 30,
     "metadata": {},
     "output_type": "execute_result"
    }
   ],
   "source": [
    "for i in range(len(m_def)):\n",
    "len(m_def[m_def.ts == 50000000])"
   ]
  },
  {
   "cell_type": "code",
   "execution_count": 47,
   "metadata": {},
   "outputs": [
    {
     "data": {
      "text/plain": [
       "0       6\n",
       "1      13\n",
       "2      18\n",
       "3      20\n",
       "4      20\n",
       "       ..\n",
       "496    19\n",
       "497    14\n",
       "498    20\n",
       "499    19\n",
       "500    17\n",
       "Name: size, Length: 501, dtype: int64"
      ]
     },
     "execution_count": 47,
     "metadata": {},
     "output_type": "execute_result"
    }
   ],
   "source": [
    "bm = m_def.groupby(m_def['ts'],as_index=False).size()\n",
    "bm['size']"
   ]
  },
  {
   "cell_type": "code",
   "execution_count": 46,
   "metadata": {},
   "outputs": [
    {
     "data": {
      "text/plain": [
       "(array([12., 65., 99., 88., 63., 72., 52., 28., 16.,  6.]),\n",
       " array([ 4. ,  7.8, 11.6, 15.4, 19.2, 23. , 26.8, 30.6, 34.4, 38.2, 42. ]),\n",
       " <BarContainer object of 10 artists>)"
      ]
     },
     "execution_count": 46,
     "metadata": {},
     "output_type": "execute_result"
    },
    {
     "data": {
      "image/png": "[encoded data removed]",
      "text/plain": [
       "<Figure size 432x288 with 1 Axes>"
      ]
     },
     "metadata": {
      "needs_background": "light"
     },
     "output_type": "display_data"
    }
   ],
   "source": [
    "plt.hist(bm['size'])"
   ]
  },
  {
   "cell_type": "code",
   "execution_count": 34,
   "metadata": {},
   "outputs": [
    {
     "data": {
      "text/html": [
       "<div>\n",
       "<style scoped>\n",
       "    .dataframe tbody tr th:only-of-type {\n",
       "        vertical-align: middle;\n",
       "    }\n",
       "\n",
       "    .dataframe tbody tr th {\n",
       "        vertical-align: top;\n",
       "    }\n",
       "\n",
       "    .dataframe thead th {\n",
       "        text-align: right;\n",
       "    }\n",
       "</style>\n",
       "<table border=\"1\" class=\"dataframe\">\n",
       "  <thead>\n",
       "    <tr style=\"text-align: right;\">\n",
       "      <th></th>\n",
       "      <th>ts</th>\n",
       "      <th>mt</th>\n",
       "      <th>c</th>\n",
       "    </tr>\n",
       "  </thead>\n",
       "  <tbody>\n",
       "    <tr>\n",
       "      <th>1</th>\n",
       "      <td>0</td>\n",
       "      <td>1</td>\n",
       "      <td>3.144075</td>\n",
       "    </tr>\n",
       "    <tr>\n",
       "      <th>2</th>\n",
       "      <td>0</td>\n",
       "      <td>1</td>\n",
       "      <td>4.460668</td>\n",
       "    </tr>\n",
       "    <tr>\n",
       "      <th>3</th>\n",
       "      <td>0</td>\n",
       "      <td>1</td>\n",
       "      <td>3.082512</td>\n",
       "    </tr>\n",
       "    <tr>\n",
       "      <th>4</th>\n",
       "      <td>0</td>\n",
       "      <td>1</td>\n",
       "      <td>8.021651</td>\n",
       "    </tr>\n",
       "    <tr>\n",
       "      <th>6</th>\n",
       "      <td>0</td>\n",
       "      <td>1</td>\n",
       "      <td>7.206278</td>\n",
       "    </tr>\n",
       "    <tr>\n",
       "      <th>...</th>\n",
       "      <td>...</td>\n",
       "      <td>...</td>\n",
       "      <td>...</td>\n",
       "    </tr>\n",
       "    <tr>\n",
       "      <th>36497</th>\n",
       "      <td>50000000</td>\n",
       "      <td>1</td>\n",
       "      <td>9.536387</td>\n",
       "    </tr>\n",
       "    <tr>\n",
       "      <th>36499</th>\n",
       "      <td>50000000</td>\n",
       "      <td>1</td>\n",
       "      <td>9.707130</td>\n",
       "    </tr>\n",
       "    <tr>\n",
       "      <th>36500</th>\n",
       "      <td>50000000</td>\n",
       "      <td>1</td>\n",
       "      <td>8.669828</td>\n",
       "    </tr>\n",
       "    <tr>\n",
       "      <th>36501</th>\n",
       "      <td>50000000</td>\n",
       "      <td>1</td>\n",
       "      <td>8.823624</td>\n",
       "    </tr>\n",
       "    <tr>\n",
       "      <th>36502</th>\n",
       "      <td>50000000</td>\n",
       "      <td>1</td>\n",
       "      <td>8.865891</td>\n",
       "    </tr>\n",
       "  </tbody>\n",
       "</table>\n",
       "<p>26649 rows × 3 columns</p>\n",
       "</div>"
      ],
      "text/plain": [
       "             ts  mt         c\n",
       "1             0   1  3.144075\n",
       "2             0   1  4.460668\n",
       "3             0   1  3.082512\n",
       "4             0   1  8.021651\n",
       "6             0   1  7.206278\n",
       "...         ...  ..       ...\n",
       "36497  50000000   1  9.536387\n",
       "36499  50000000   1  9.707130\n",
       "36500  50000000   1  8.669828\n",
       "36501  50000000   1  8.823624\n",
       "36502  50000000   1  8.865891\n",
       "\n",
       "[26649 rows x 3 columns]"
      ]
     },
     "execution_count": 34,
     "metadata": {},
     "output_type": "execute_result"
    }
   ],
   "source": [
    "m_act"
   ]
  },
  {
   "cell_type": "code",
   "execution_count": null,
   "metadata": {},
   "outputs": [],
   "source": []
  }
 ],
 "metadata": {
  "kernelspec": {
   "display_name": "Python 3",
   "language": "python",
   "name": "python3"
  },
  "language_info": {
   "codemirror_mode": {
    "name": "ipython",
    "version": 3
   },
   "file_extension": ".py",
   "mimetype": "text/x-python",
   "name": "python",
   "nbconvert_exporter": "python",
   "pygments_lexer": "ipython3",
   "version": "3.6.7"
  }
 },
 "nbformat": 4,
 "nbformat_minor": 4
}
