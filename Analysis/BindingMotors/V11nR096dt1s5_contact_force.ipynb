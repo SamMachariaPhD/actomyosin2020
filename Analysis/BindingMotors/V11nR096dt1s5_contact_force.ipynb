{
 "cells": [
  {
   "cell_type": "code",
   "execution_count": 1,
   "metadata": {},
   "outputs": [],
   "source": [
    "import numpy as np\n",
    "import pandas as pd\n",
    "import matplotlib.pyplot as plt\n",
    "from ast import literal_eval\n",
    "\n",
    "#from scipy.interpolate import spline\n",
    "# jupyter nbconvert xxx.ipynb --no-input"
   ]
  },
  {
   "cell_type": "code",
   "execution_count": 2,
   "metadata": {},
   "outputs": [],
   "source": [
    "figNameSvg = 'fig/v11nR096A_Defe_ctiveLifetime.svg'\n",
    "figNamePng = 'fig/v11nR096A_Defe_ctiveLifetime.png'\n",
    "\n",
    "Ts = 501\n",
    "outputdiv = 100000\n",
    "beads = 13\n",
    "segments = beads-1"
   ]
  },
  {
   "cell_type": "code",
   "execution_count": 3,
   "metadata": {},
   "outputs": [],
   "source": [
    "columns = ['ts','im','mt','c','xc','yc','zc','xm','ym','zm','fx','fy','fz'] \n",
    "# ts = timestep, im = motor index, mt = motor type (active = 1, defective = 2)\n",
    "# c = contact  state, xc|yc|zc = binding motor head position, xm|ym|zm = binding motor root position \n",
    "# fx|fy|fz = xyz motor force at the root??\n",
    "ms = pd.read_csv('dataDt1s5/MotorStates_A001_R096_273s5.txt', names=columns, delim_whitespace=True)"
   ]
  },
  {
   "cell_type": "code",
   "execution_count": 4,
   "metadata": {},
   "outputs": [],
   "source": [
    "# Separate active motor and defective binding motors.\n",
    "ms_act = ms[ms.mt == 1]\n",
    "ms_act = ms_act.reset_index(drop=True)\n",
    "ms_def = ms[ms.mt == 2]\n",
    "ms_def = ms_def.reset_index(drop=True)"
   ]
  },
  {
   "cell_type": "code",
   "execution_count": 7,
   "metadata": {},
   "outputs": [],
   "source": [
    "#act_seg12 = ms_act[ms_act.c.between(1,2)]"
   ]
  },
  {
   "cell_type": "code",
   "execution_count": 8,
   "metadata": {},
   "outputs": [],
   "source": [
    "# binding motor data for active motors binding in segment 1-2 => act_seg[0], ...\n",
    "act_seg = [[] for _ in range(segments)]\n",
    "def_seg = [[] for _ in range(segments)]\n",
    "\n",
    "for i in range(segments):\n",
    "    act_seg[i] = ms_act[ms_act.c.between(i+1,i+2)]\n",
    "    def_seg[i] = ms_def[ms_def.c.between(i+1,i+2)]"
   ]
  },
  {
   "cell_type": "code",
   "execution_count": 9,
   "metadata": {},
   "outputs": [],
   "source": [
    "#len(act_seg[11][act_seg[11].ts == 27000000]['c'])"
   ]
  },
  {
   "cell_type": "code",
   "execution_count": 10,
   "metadata": {},
   "outputs": [],
   "source": [
    "act_bm_seg = [[] for _ in range(segments)]\n",
    "def_bm_seg = [[] for _ in range(segments)]\n",
    "\n",
    "for i in np.arange(0,Ts*outputdiv,outputdiv):\n",
    "    for j in range(segments):\n",
    "        act_bm = len(act_seg[j][act_seg[j].ts == i]['c'])\n",
    "        act_bm_seg[j].append(act_bm)\n",
    "        def_bm = len(def_seg[j][def_seg[j].ts == i]['c'])\n",
    "        def_bm_seg[j].append(def_bm)"
   ]
  },
  {
   "cell_type": "code",
   "execution_count": 11,
   "metadata": {},
   "outputs": [],
   "source": [
    "av_act_bm_seg = []; av_def_bm_seg = []\n",
    "dv_act_bm_seg = []; dv_def_bm_seg = []\n",
    "\n",
    "for i in range(segments):\n",
    "    av_act = np.array(act_bm_seg[i]).mean()\n",
    "    dv_act = np.array(act_bm_seg[i]).std()\n",
    "    av_act_bm_seg.append(av_act)\n",
    "    dv_act_bm_seg.append(dv_act)\n",
    "    av_def = np.array(def_bm_seg[i]).mean()\n",
    "    dv_def = np.array(def_bm_seg[i]).std()\n",
    "    av_def_bm_seg.append(av_def)\n",
    "    dv_def_bm_seg.append(dv_def)"
   ]
  },
  {
   "cell_type": "code",
   "execution_count": 12,
   "metadata": {},
   "outputs": [
    {
     "data": {
      "image/png": "[encoded data removed]",
      "text/plain": [
       "<Figure size 576x576 with 2 Axes>"
      ]
     },
     "metadata": {
      "needs_background": "light"
     },
     "output_type": "display_data"
    }
   ],
   "source": [
    "fig = plt.figure(figsize=(8,8))\n",
    "ax = fig.add_subplot(211)\n",
    "ax2 = fig.add_subplot(212)\n",
    "#plt.subplots_adjust(hspace=0.15)\n",
    "\n",
    "bins = np.arange(1.5,13.5)\n",
    "ymax = 21; ystep = 2\n",
    "\n",
    "ax.bar(bins,av_act_bm_seg, yerr=av_act_bm_seg, align='center', ecolor='red', error_kw=dict(lw=3,capsize=3,capthick=1),\\\n",
    "       facecolor='green', alpha=0.7, ec='black', label='Active motor')\n",
    "\n",
    "ax.set_xticks(np.arange(1,14,1))\n",
    "ax.set_yticks(np.arange(0,ymax,ystep))\n",
    "ax.spines['top'].set_visible(False)\n",
    "ax.spines['right'].set_visible(False)\n",
    "ax.spines['bottom'].set_bounds(1,13)\n",
    "ax.spines['left'].set_bounds(0,ymax-1)\n",
    "ax.invert_xaxis()\n",
    "ax.tick_params(axis='x', which='both', pad=15)\n",
    "ax.legend(loc = 'upper left')\n",
    "ax.set_title('R = 0.96', fontsize=15)\n",
    "#======================================================\n",
    "\n",
    "ax2.bar(bins,av_def_bm_seg, yerr=dv_def_bm_seg, align='center', ecolor='red', error_kw=dict(lw=3,capsize=3,capthick=1),\\\n",
    "        facecolor='blue', alpha=0.7, ec='black', label='Defective motor')\n",
    "\n",
    "ax2.set_xticks(np.arange(1,14,1))\n",
    "ax2.set_yticks(np.arange(0,ymax,ystep))\n",
    "ax2.spines['bottom'].set_position('zero')\n",
    "ax2.spines['bottom'].set_bounds(1,13)\n",
    "ax2.spines['left'].set_bounds(0,ymax-1)\n",
    "ax2.invert_yaxis()\n",
    "ax2.invert_xaxis()\n",
    "ax2.tick_params(axis='x', direction='in')#, length=6, width=2, colors='r',grid_color='r', grid_alpha=0.5)\n",
    "ax2.set_xticklabels([])\n",
    "ax2.spines['top'].set_visible(False)\n",
    "ax2.spines['right'].set_visible(False)\n",
    "ax2.legend(loc = 'lower left')\n",
    "\n",
    "fig.text(1.07, 0.5, 'Actin binding position', ha='center', fontsize=15)\n",
    "fig.text(0.04, 0.5, 'Mean binding occurrences', va='center', rotation='vertical', fontsize=15)\n",
    "\n",
    "#plt.savefig('fig5/motors_MNpos5s133R95.svg', fmt='.svg', dpi=1200, bbox_inches='tight')\n",
    "#plt.savefig('fig5/motors_MNpos5s133R95.png', fmt='.png', dpi=1200, bbox_inches='tight')\n",
    "\n",
    "plt.show()"
   ]
  },
  {
   "cell_type": "markdown",
   "metadata": {},
   "source": [
    "$Effective\\ segment\\ force = active\\ binding\\ motors\\ \\sum{F_{act}} + defective\\ binding\\ motors\\ \\sum{F_{def}}$"
   ]
  },
  {
   "cell_type": "markdown",
   "metadata": {},
   "source": [
    "$F_{xyz} = \\sqrt{{F_x}^2 + {F_y}^2 + {F_z}^2}$"
   ]
  },
  {
   "cell_type": "code",
   "execution_count": null,
   "metadata": {},
   "outputs": [],
   "source": []
  },
  {
   "cell_type": "code",
   "execution_count": 5,
   "metadata": {},
   "outputs": [],
   "source": [
    "# binding motor data for active motors binding in segment 1-2 => act_seg[0], ...\n",
    "act_seg = [[] for _ in range(segments)]\n",
    "def_seg = [[] for _ in range(segments)]\n",
    "\n",
    "for i in range(segments):\n",
    "    act_seg[i] = ms_act[ms_act.c.between(i+1,i+2)]\n",
    "    def_seg[i] = ms_def[ms_def.c.between(i+1,i+2)]"
   ]
  },
  {
   "cell_type": "code",
   "execution_count": 6,
   "metadata": {},
   "outputs": [],
   "source": [
    "#tst = np.array([2.1, 1.6, 8.9])\n",
    "#np.sqrt(tst[0]**2 + tst[1]**2 + tst[2]**2) == np.sqrt(tst.dot(tst)) # True"
   ]
  },
  {
   "cell_type": "code",
   "execution_count": 8,
   "metadata": {},
   "outputs": [],
   "source": [
    "act_F_seg = [[] for _ in range(segments)]\n",
    "def_F_seg = [[] for _ in range(segments)]\n",
    "act_F_i = []; def_F_i = []\n",
    "ts_count = 0\n",
    "\n",
    "for i in np.arange(0,Ts*outputdiv,outputdiv):\n",
    "    for j in range(segments):\n",
    "        count = len(act_seg[j][act_seg[j].ts == i])\n",
    "        for k in range(count):\n",
    "            frc = np.array([act_seg[j][act_seg[j].ts == i]['fx'].iloc[k],\\\n",
    "                           act_seg[j][act_seg[j].ts == i]['fy'].iloc[k],\\\n",
    "                           act_seg[j][act_seg[j].ts == i]['fz'].iloc[k]])\n",
    "            frc_i = np.sqrt(frc.dot(frc))\n",
    "            drag = frc_i #*(mag_ts_seg[ts_count][j] / bondlength)\n",
    "            if np.isfinite(drag) == False:\n",
    "                print('act: Ts %s, Seg %s, Count %s'%(i,j,k))\n",
    "            act_F_i.append(drag)\n",
    "        for _ in act_F_i:\n",
    "            if np.isfinite(_) == False:\n",
    "                print(_)\n",
    "        act_F_i = np.array(act_F_i)\n",
    "        act_F_seg[j].append(np.NaN if np.all(act_F_i!=act_F_i) else np.nansum(act_F_i))\n",
    "        act_F_i = []\n",
    "    ts_count+=1\n",
    "#=============================================================\n",
    "ts_count = 0\n",
    "for i in np.arange(0,Ts*outputdiv,outputdiv):\n",
    "    for j in range(segments):\n",
    "        count = len(def_seg[j][def_seg[j].ts == i])\n",
    "        for k in range(count):\n",
    "            frc = np.array([def_seg[j][def_seg[j].ts == i]['fx'].iloc[k],\\\n",
    "                           def_seg[j][def_seg[j].ts == i]['fy'].iloc[k],\\\n",
    "                           def_seg[j][def_seg[j].ts == i]['fz'].iloc[k]])\n",
    "            frc_i = np.sqrt(frc.dot(frc))\n",
    "            drag = frc_i #*(mag_ts_seg[ts_count][j] / bondlength)\n",
    "            if np.isfinite(drag) == False:\n",
    "                print('def: Ts %s, Seg %s, Count %s'%(i,j,k))\n",
    "            def_F_i.append(drag)\n",
    "        def_F_i = np.array(def_F_i)\n",
    "        def_F_seg[j].append(np.NaN if np.all(def_F_i!=def_F_i) else np.nansum(def_F_i))\n",
    "        def_F_i = []\n",
    "    ts_count+=1"
   ]
  },
  {
   "cell_type": "code",
   "execution_count": 9,
   "metadata": {},
   "outputs": [],
   "source": [
    "av_act_bm_seg = []; av_def_bm_seg = []\n",
    "dv_act_bm_seg = []; dv_def_bm_seg = []\n",
    "\n",
    "for i in range(segments):\n",
    "    av_act = np.array(act_F_seg[i])\n",
    "    #dv_act = np.array(act_F_seg[i])\n",
    "    av_act_bm_seg.append( np.NaN if np.all(av_act != av_act) else np.nanmean(av_act) )\n",
    "    dv_act_bm_seg.append( np.NaN if np.all(av_act != av_act) else np.nanstd(av_act) )\n",
    "    av_def = np.array(def_F_seg[i])\n",
    "    #dv_def = np.array(def_F_seg[i]).std()\n",
    "    av_def_bm_seg.append( np.NaN if np.all(av_def != av_def) else np.nanmean(av_def) )\n",
    "    dv_def_bm_seg.append( np.NaN if np.all(av_def != av_def) else np.nanstd(av_def) )"
   ]
  },
  {
   "cell_type": "code",
   "execution_count": 10,
   "metadata": {},
   "outputs": [
    {
     "data": {
      "image/png": "[encoded data removed]",
      "text/plain": [
       "<Figure size 576x576 with 2 Axes>"
      ]
     },
     "metadata": {
      "needs_background": "light"
     },
     "output_type": "display_data"
    }
   ],
   "source": [
    "fig = plt.figure(figsize=(8,8))\n",
    "ax = fig.add_subplot(211)\n",
    "ax2 = fig.add_subplot(212)\n",
    "#plt.subplots_adjust(hspace=0.15)\n",
    "\n",
    "bins = np.arange(1.5,13.5)\n",
    "ymax = 80; ystep = 10\n",
    "\n",
    "ax.bar(bins,av_act_bm_seg, yerr=av_act_bm_seg, align='center', ecolor='red', error_kw=dict(lw=3,capsize=3,capthick=1),\\\n",
    "       facecolor='green', alpha=0.7, ec='black', label='Active motor')\n",
    "\n",
    "ax.set_xticks(np.arange(1,14,1))\n",
    "ax.set_yticks(np.arange(0,ymax,ystep))\n",
    "ax.spines['top'].set_visible(False)\n",
    "ax.spines['right'].set_visible(False)\n",
    "ax.spines['bottom'].set_bounds(1,13)\n",
    "#ax.spines['left'].set_bounds(0,ymax-1)\n",
    "ax.invert_xaxis()\n",
    "ax.tick_params(axis='x', which='both', pad=15)\n",
    "ax.legend(loc = 'upper left')\n",
    "ax.set_title('R = 0.96', fontsize=15)\n",
    "#======================================================\n",
    "\n",
    "ax2.bar(bins,av_def_bm_seg, yerr=dv_def_bm_seg, align='center', ecolor='red', error_kw=dict(lw=3,capsize=3,capthick=1),\\\n",
    "        facecolor='blue', alpha=0.7, ec='black', label='Defective motor')\n",
    "\n",
    "ax2.set_xticks(np.arange(1,14,1))\n",
    "ax2.set_yticks(np.arange(0,ymax,ystep))\n",
    "ax2.spines['bottom'].set_position('zero')\n",
    "ax2.spines['bottom'].set_bounds(1,13)\n",
    "#ax2.spines['left'].set_bounds(0,ymax-1)\n",
    "ax2.invert_yaxis()\n",
    "ax2.invert_xaxis()\n",
    "ax2.tick_params(axis='x', direction='in')#, length=6, width=2, colors='r',grid_color='r', grid_alpha=0.5)\n",
    "ax2.set_xticklabels([])\n",
    "ax2.spines['top'].set_visible(False)\n",
    "ax2.spines['right'].set_visible(False)\n",
    "ax2.legend(loc = 'lower left')\n",
    "\n",
    "fig.text(1.07, 0.5, 'Actin binding position', ha='center', fontsize=15)\n",
    "fig.text(0.04, 0.5, 'Mean drag force (pN)', va='center', rotation='vertical', fontsize=15)\n",
    "\n",
    "#plt.savefig('fig5/motors_MNpos5s133R95.svg', fmt='.svg', dpi=1200, bbox_inches='tight')\n",
    "#plt.savefig('fig5/motors_MNpos5s133R95.png', fmt='.png', dpi=1200, bbox_inches='tight')\n",
    "\n",
    "plt.show()"
   ]
  },
  {
   "cell_type": "code",
   "execution_count": 11,
   "metadata": {},
   "outputs": [],
   "source": [
    "eff_F_seg = [[] for _ in range(segments)]\n",
    "eff_F_i = []\n",
    "\n",
    "for i in np.arange(0,Ts,1): #Ts\n",
    "    for j in range(segments): #segment\n",
    "        eff_F_i = np.nansum([ act_F_seg[j][i], -1*def_F_seg[j][i] ])\n",
    "        eff_F_seg[j].append(eff_F_i)  # np.sum(eff_F_i)\n",
    "\n",
    "#============================================================="
   ]
  },
  {
   "cell_type": "code",
   "execution_count": 12,
   "metadata": {},
   "outputs": [],
   "source": [
    "Ef_m = []; Ef_d = []\n",
    "\n",
    "for i in range(segments):\n",
    "    Ef_m.append(np.nanmean(np.array(eff_F_seg[i])))\n",
    "    Ef_d.append(np.nanstd(np.array(eff_F_seg[i])))"
   ]
  },
  {
   "cell_type": "code",
   "execution_count": 15,
   "metadata": {},
   "outputs": [
    {
     "data": {
      "image/png": "[encoded data removed]",
      "text/plain": [
       "<Figure size 648x432 with 1 Axes>"
      ]
     },
     "metadata": {
      "needs_background": "light"
     },
     "output_type": "display_data"
    }
   ],
   "source": [
    "fig, ax = plt.subplots(1,1, figsize=(9,6))\n",
    "\n",
    "ax.bar(bins,Ef_m, yerr=Ef_d, align='center', ecolor='red', error_kw=dict(lw=3,capsize=3,capthick=1),\\\n",
    "       facecolor='lime', ec='black', alpha=0.7, label='Effective force')\n",
    "ax.spines['bottom'].set_position('zero')\n",
    "ax.invert_xaxis()\n",
    "ax.set_xticks(np.arange(1,14,1))\n",
    "ax.set_yticks(np.arange(-60,61,10))\n",
    "ax.spines['bottom'].set_bounds(1,13)\n",
    "ax.spines['left'].set_bounds(-60,60)\n",
    "ax.spines['top'].set_visible(False)\n",
    "ax.spines['right'].set_visible(False)\n",
    "\n",
    "ax.set_title('R096 | Active - defective drag along actin filament', fontsize=16)\n",
    "ax.set_ylabel('Drag difference (pN)', fontsize=14)\n",
    "\n",
    "plt.show()"
   ]
  },
  {
   "cell_type": "code",
   "execution_count": 16,
   "metadata": {},
   "outputs": [
    {
     "name": "stdout",
     "output_type": "stream",
     "text": [
      "[NbConvertApp] Converting notebook V11nR096dt1s5_contact_force.ipynb to html\n",
      "[NbConvertApp] Writing 635484 bytes to V11nR096dt1s5_contact_force.html\n"
     ]
    }
   ],
   "source": [
    "!jupyter nbconvert V11nR096dt1s5_contact_force.ipynb --no-input --to html"
   ]
  },
  {
   "cell_type": "code",
   "execution_count": null,
   "metadata": {},
   "outputs": [],
   "source": []
  }
 ],
 "metadata": {
  "kernelspec": {
   "display_name": "Python 3",
   "language": "python",
   "name": "python3"
  },
  "language_info": {
   "codemirror_mode": {
    "name": "ipython",
    "version": 3
   },
   "file_extension": ".py",
   "mimetype": "text/x-python",
   "name": "python",
   "nbconvert_exporter": "python",
   "pygments_lexer": "ipython3",
   "version": "3.6.7"
  }
 },
 "nbformat": 4,
 "nbformat_minor": 4
}
