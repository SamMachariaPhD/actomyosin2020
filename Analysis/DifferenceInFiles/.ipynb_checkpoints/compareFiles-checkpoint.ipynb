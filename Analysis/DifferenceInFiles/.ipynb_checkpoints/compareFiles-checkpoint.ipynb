{
 "cells": [
  {
   "cell_type": "code",
   "execution_count": 1,
   "metadata": {},
   "outputs": [],
   "source": [
    "File1 = 'data/MotilityAssayActin2MotorsParameters_v5.f90' # Ref FM1,FM2 = 9.2 pN -- same speed as others at R1.0\n",
    "File2 = 'data/MotilityAssayActin2MotorsParameters_v5x.f90' # FM1,FM2 = 9.2 pN -- lower speed at R1.0\n",
    "\n",
    "File3 = 'data/MotilityAssayActin2MotorsMain_v9.f90'\n",
    "File4 = 'data/MotilityAssayActin2MotorsMain_v9x.f90'\n",
    "\n",
    "File5 = 'data/MotilityAssayActin2MotorsParameters_v5_F10.f90' # FM1 = 9.2,FM2 = 10.0 pN\n",
    "File6 = 'data/MotilityAssayActin2MotorsMain_v9_F10.f90'"
   ]
  },
  {
   "cell_type": "code",
   "execution_count": 2,
   "metadata": {},
   "outputs": [],
   "source": [
    "with open(File1,'r') as f:\n",
    "    f1 = set(f.readlines())\n",
    "\n",
    "with open(File2,'r') as f:\n",
    "    f2 = set(f.readlines())\n",
    "    \n",
    "with open(File3,'r') as f:\n",
    "    f3 = set(f.readlines())\n",
    "    \n",
    "with open(File4,'r') as f:\n",
    "    f4 = set(f.readlines())\n",
    "    \n",
    "with open(File5,'r') as f:\n",
    "    f5 = set(f.readlines())\n",
    "    \n",
    "with open(File6,'r') as f:\n",
    "    f6 = set(f.readlines())"
   ]
  },
  {
   "cell_type": "code",
   "execution_count": 3,
   "metadata": {},
   "outputs": [
    {
     "name": "stdout",
     "output_type": "stream",
     "text": [
      "\t\t\t\tVerticalLength = 0.5*DBLE(NumBeads-1)*BondLength + 1.0_DP\n",
      "\n"
     ]
    }
   ],
   "source": [
    "for line in list(f1-f2):\n",
    "    print(line)"
   ]
  },
  {
   "cell_type": "code",
   "execution_count": 4,
   "metadata": {},
   "outputs": [
    {
     "name": "stdout",
     "output_type": "stream",
     "text": [
      "\t\t\t\tVerticalLength = 0.2*DBLE(NumBeads-1)*BondLength + 1.0_DP\n",
      "\n"
     ]
    }
   ],
   "source": [
    "for line in list(f2-f1):\n",
    "    print(line)"
   ]
  },
  {
   "cell_type": "code",
   "execution_count": 5,
   "metadata": {},
   "outputs": [],
   "source": [
    "for line in list(f3-f4):\n",
    "    print(line)"
   ]
  },
  {
   "cell_type": "code",
   "execution_count": 6,
   "metadata": {},
   "outputs": [],
   "source": [
    "for line in list(f4-f3):\n",
    "    print(line)"
   ]
  },
  {
   "cell_type": "code",
   "execution_count": 7,
   "metadata": {},
   "outputs": [
    {
     "name": "stdout",
     "output_type": "stream",
     "text": [
      "\t\t\t\tF_Motor_Detach2 = 9.2_DP,&\n",
      "\n"
     ]
    }
   ],
   "source": [
    "for line in list(f1-f5):\n",
    "    print(line)"
   ]
  },
  {
   "cell_type": "code",
   "execution_count": 8,
   "metadata": {},
   "outputs": [
    {
     "name": "stdout",
     "output_type": "stream",
     "text": [
      "\t\t\t\tF_Motor_Detach2 = 10.0_DP,&\n",
      "\n"
     ]
    }
   ],
   "source": [
    "for line in list(f5-f1):\n",
    "    print(line)"
   ]
  },
  {
   "cell_type": "code",
   "execution_count": 9,
   "metadata": {},
   "outputs": [],
   "source": [
    "for line in list(f3-f6):\n",
    "    print(line)"
   ]
  },
  {
   "cell_type": "code",
   "execution_count": 10,
   "metadata": {},
   "outputs": [],
   "source": [
    "for line in list(f6-f3):\n",
    "    print(line)"
   ]
  },
  {
   "cell_type": "code",
   "execution_count": null,
   "metadata": {},
   "outputs": [],
   "source": []
  }
 ],
 "metadata": {
  "kernelspec": {
   "display_name": "Python 3",
   "language": "python",
   "name": "python3"
  },
  "language_info": {
   "codemirror_mode": {
    "name": "ipython",
    "version": 3
   },
   "file_extension": ".py",
   "mimetype": "text/x-python",
   "name": "python",
   "nbconvert_exporter": "python",
   "pygments_lexer": "ipython3",
   "version": "3.6.7"
  }
 },
 "nbformat": 4,
 "nbformat_minor": 2
}
