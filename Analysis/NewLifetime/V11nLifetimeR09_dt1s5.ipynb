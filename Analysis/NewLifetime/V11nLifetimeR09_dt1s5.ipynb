{
 "cells": [
  {
   "cell_type": "code",
   "execution_count": 1,
   "metadata": {},
   "outputs": [],
   "source": [
    "import numpy as np\n",
    "import pandas as pd\n",
    "import matplotlib.pyplot as plt\n",
    "from ast import literal_eval\n",
    "\n",
    "#from scipy.interpolate import spline\n",
    "# jupyter nbconvert xxx.ipynb --no-input"
   ]
  },
  {
   "cell_type": "code",
   "execution_count": 2,
   "metadata": {},
   "outputs": [],
   "source": [
    "figNameSvg = 'fig/v11nR09A_Defe_ctiveLifetime.svg'\n",
    "figNamePng = 'fig/v11nR09A_Defe_ctiveLifetime.png'"
   ]
  },
  {
   "cell_type": "code",
   "execution_count": 4,
   "metadata": {},
   "outputs": [],
   "source": [
    "Ts = 0.01 # 0.01\n",
    "\n",
    "columns = ['ts','im','mt','c','xc','yc','zc','xm','ym','zm','fx','fy','fz'] \n",
    "# ts = timestep, im = motor index, mt = motor type (active = 1, defective = 2)\n",
    "# c = contact  state, xc|yc|zc = binding motor head position, xm|ym|zm = binding motor root position \n",
    "# fx|fy|fz = xyz motor force at the root??\n",
    "ms = pd.read_csv('dataDt1s5/MotorStates_A001_R09_273s5.txt', names=columns, delim_whitespace=True)\n",
    "#ms = pd.read_csv('dataDt1s5/MotorStates_A001_R09_273s5Ts00001.txt', names=columns, delim_whitespace=True)"
   ]
  },
  {
   "cell_type": "code",
   "execution_count": 5,
   "metadata": {},
   "outputs": [],
   "source": [
    "# Separate active motor and defective binding motors.\n",
    "ms_act = ms[ms.mt == 1]\n",
    "ms_act = ms_act.reset_index(drop=True)\n",
    "ms_def = ms[ms.mt == 2]\n",
    "ms_def = ms_def.reset_index(drop=True)"
   ]
  },
  {
   "cell_type": "code",
   "execution_count": 6,
   "metadata": {},
   "outputs": [],
   "source": [
    "act_xy = np.around( ms_act[['im','c','xm','ym']], 6).values.tolist()\n",
    "def_xy = np.around( ms_def[['im','c','xm','ym']], 6).values.tolist()"
   ]
  },
  {
   "cell_type": "markdown",
   "metadata": {},
   "source": [
    "## R = 0.9"
   ]
  },
  {
   "cell_type": "markdown",
   "metadata": {},
   "source": [
    "#### Lifetime metric: during one lifetime, a binding motor, ($xm,ym$) must retain index '$im$', and also contact state, '$c$' in the next immediate time step '$ts$'."
   ]
  },
  {
   "cell_type": "code",
   "execution_count": 7,
   "metadata": {},
   "outputs": [],
   "source": [
    "m1lyf = {}\n",
    "for i in act_xy:\n",
    "    if str(i) not in m1lyf:\n",
    "        m1lyf[str(i)]=0\n",
    "    else:\n",
    "        m1lyf[str(i)] += 1\n",
    "#=========================================================        \n",
    "m2lyf = {}\n",
    "for i in def_xy:\n",
    "    if str(i) not in m2lyf:\n",
    "        m2lyf[str(i)]=0\n",
    "    else:\n",
    "        m2lyf[str(i)] += 1"
   ]
  },
  {
   "cell_type": "code",
   "execution_count": 8,
   "metadata": {},
   "outputs": [],
   "source": [
    "m1lyftym = np.fromiter(m1lyf.values(), dtype=int) # pick dictionary values\n",
    "m1lyf_Ag = pd.DataFrame({'life':m1lyftym}) # make pandas dataframe\n",
    "# Make a nice list from the dictionary keys.\n",
    "m1lyf_lst = []\n",
    "for i in list(m1lyf.keys()):\n",
    "    m1lyf_lst.append(literal_eval(i))\n",
    "m1lyf_lst = np.array(m1lyf_lst) # nice list\n",
    "#=========================================================   \n",
    "m2lyftym = np.fromiter(m2lyf.values(), dtype=int) # pick dictionary values\n",
    "m2lyf_Ag = pd.DataFrame({'life':m2lyftym}) # make pandas dataframe\n",
    "# Make a nice list from the dictionary keys.\n",
    "m2lyf_lst = []\n",
    "for i in list(m2lyf.keys()):\n",
    "    m2lyf_lst.append(literal_eval(i))\n",
    "m2lyf_lst = np.array(m2lyf_lst) # nice list"
   ]
  },
  {
   "cell_type": "code",
   "execution_count": 9,
   "metadata": {},
   "outputs": [],
   "source": [
    "m1Ag_mtr = pd.DataFrame({'xp':m1lyf_lst[:,2], 'yp':m1lyf_lst[:,3]}) # pandas dataframe of aggressive binding m1\n",
    "m1Aglyf = pd.concat([m1Ag_mtr,m1lyf_Ag], axis=1)\n",
    "m1Aglyf = m1Aglyf[m1Aglyf.life > 0]\n",
    "#=========================================================   \n",
    "m2Ag_mtr = pd.DataFrame({'xp':m2lyf_lst[:,2], 'yp':m2lyf_lst[:,3]}) # pandas dataframe of aggressive binding m1\n",
    "m2Aglyf = pd.concat([m2Ag_mtr,m2lyf_Ag], axis=1)\n",
    "m2Aglyf = m2Aglyf[m2Aglyf.life > 0]\n",
    "\n",
    "m1Aglyf.to_csv('dataDt1s5/R090act_with_lyf.csv', header=False, index=False) # x,y,life\n",
    "m2Aglyf.to_csv('dataDt1s5/R090def_with_lyf.csv', header=False, index=False) # x,y,life"
   ]
  },
  {
   "cell_type": "code",
   "execution_count": 10,
   "metadata": {},
   "outputs": [
    {
     "data": {
      "image/png": "[encoded data removed]",
      "text/plain": [
       "<Figure size 720x432 with 2 Axes>"
      ]
     },
     "metadata": {
      "needs_background": "light"
     },
     "output_type": "display_data"
    }
   ],
   "source": [
    "# Make lifetime histogram.\n",
    "\n",
    "dt = Ts; tolerance = 0.001\n",
    "act_bin_size = 0.001\n",
    "act_max_lyf = round(np.max(Ts*m1Aglyf['life']), 2)\n",
    "act_bins = np.arange(0.0,round(act_max_lyf+tolerance, 3),act_bin_size)\n",
    "max_act_bound = 2700; m1_inc = 300\n",
    "\n",
    "def_bin_size = 0.002\n",
    "def_max_lyf = round(np.max(Ts*m2Aglyf['life']), 2)\n",
    "def_bins = np.arange(0.0,round(def_max_lyf+tolerance, 3),def_bin_size)\n",
    "max_def_bound = 50; m2_inc = 5\n",
    "\n",
    "\n",
    "fig, ax = plt.subplots(1,2, sharex=False, sharey=False, figsize=(10,6))\n",
    "#fig.add_subplot(231, frameon=False)\n",
    "\n",
    "\n",
    "ax[0].hist(Ts*m1Aglyf['life'], bins=act_bins, color = 'green', ec='black', alpha=1, label=act_bin_size) # , hatch='/'\n",
    "##ax[0].set_xticks(np.arange(0.0,round(act_max_lyf+tolerance, 3),act_bin_size*2))\n",
    "ax[0].set_xticks(np.arange(0.0,0.11,0.02))\n",
    "ax[0].set_yticks(np.arange(0,max_act_bound+1,m1_inc))\n",
    "ax[0].tick_params(labelsize=14)\n",
    "#ax[0].set_xlabel('Lifetime (sec)', fontsize=16)\n",
    "#ax[0].set_ylabel('Number of occurrences', fontsize=16)\n",
    "ax[0].spines['top'].set_visible(False)\n",
    "ax[0].spines['right'].set_visible(False)\n",
    "ax[0].spines['bottom'].set_bounds(0,0.1)#act_max_lyf+act_bin_size)\n",
    "ax[0].spines['left'].set_bounds(0,2700)\n",
    "#ax[0].legend(loc='upper left')\n",
    "mlyf = round(np.mean(Ts*m1Aglyf['life']), 7)\n",
    "ax[0].set_title('Active | $\\mu$ = %s'%mlyf, fontsize=16)\n",
    "ax[0].legend()\n",
    "\n",
    "#fig.add_subplot(232, frameon=False)\n",
    "#bins = np.arange(0.0,1.1,0.025)\n",
    "ax[1].hist(Ts*m2Aglyf['life'], bins=def_bins, color = 'blue', ec='black', alpha=1, label=def_bin_size)\n",
    "##ax[1].set_xticks(np.arange(0.0,round(def_max_lyf+tolerance, 3),def_bin_size*4))\n",
    "ax[1].set_xticks(np.arange(0.0,2.1,0.4))\n",
    "ax[1].set_yticks(np.arange(0,max_def_bound+1,m2_inc))\n",
    "ax[1].tick_params(labelsize=14, labelleft=True) # False -- if y scale is the same\n",
    "#ax[1].set_xlabel('Lifetime (sec)', fontsize=16)\n",
    "#ax[1].set_ylabel('Number of occurrences', fontsize=16)\n",
    "ax[1].spines['top'].set_visible(False)\n",
    "ax[1].spines['right'].set_visible(False)\n",
    "ax[1].spines['bottom'].set_bounds(0,2) #def_max_lyf+def_bin_size)\n",
    "ax[1].spines['left'].set_bounds(0,max_def_bound)\n",
    "#ax[1].legend(loc='upper left')\n",
    "mlyf = round(np.mean(Ts*m2Aglyf['life']), 7)\n",
    "ax[1].set_title('Defective | $\\mu$ = %s'%mlyf, fontsize=16)\n",
    "ax[1].legend()\n",
    "\n",
    "fig.text(0.5,0.04, 'Lifetime (sec)', fontsize=16, va='center', ha='center')\n",
    "fig.text(0.03,0.5, 'Occurrences', fontsize=16, va='center', ha='center', rotation='vertical')\n",
    "\n",
    "plt.subplots_adjust(hspace=0.3)\n",
    "\n",
    "#plt.savefig(figNameSvg, fmt='.svg', dpi=1200, bbox_inches='tight')\n",
    "#plt.savefig(figNamePng, format='png', dpi=500, bbox_inches='tight')\n",
    "\n",
    "plt.show()"
   ]
  },
  {
   "cell_type": "code",
   "execution_count": 10,
   "metadata": {},
   "outputs": [
    {
     "name": "stdout",
     "output_type": "stream",
     "text": [
      "[NbConvertApp] Converting notebook V11nLifetimeR09_dt1s5.ipynb to html\n",
      "[NbConvertApp] Writing 596697 bytes to V11nLifetimeR09_dt1s5.html\n"
     ]
    }
   ],
   "source": [
    "!jupyter nbconvert V11nLifetimeR09_dt1s5.ipynb --no-input --to html"
   ]
  },
  {
   "cell_type": "code",
   "execution_count": null,
   "metadata": {},
   "outputs": [],
   "source": []
  }
 ],
 "metadata": {
  "kernelspec": {
   "display_name": "Python 3",
   "language": "python",
   "name": "python3"
  },
  "language_info": {
   "codemirror_mode": {
    "name": "ipython",
    "version": 3
   },
   "file_extension": ".py",
   "mimetype": "text/x-python",
   "name": "python",
   "nbconvert_exporter": "python",
   "pygments_lexer": "ipython3",
   "version": "3.6.7"
  }
 },
 "nbformat": 4,
 "nbformat_minor": 4
}
