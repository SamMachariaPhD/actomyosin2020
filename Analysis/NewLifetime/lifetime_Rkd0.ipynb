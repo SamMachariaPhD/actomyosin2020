{
 "cells": [
  {
   "cell_type": "code",
   "execution_count": 1,
   "metadata": {},
   "outputs": [],
   "source": [
    "import numpy as np\n",
    "import pandas as pd\n",
    "import matplotlib.pyplot as plt\n",
    "\n",
    "#from scipy.interpolate import spline\n",
    "# jupyter nbconvert xxx.ipynb --no-input"
   ]
  },
  {
   "cell_type": "code",
   "execution_count": 2,
   "metadata": {},
   "outputs": [],
   "source": [
    "r = [0.7, 0.8, 0.9, 0.92, 0.94, 0.96]#, 1.00]\n",
    "Ts = 0.01"
   ]
  },
  {
   "cell_type": "code",
   "execution_count": 3,
   "metadata": {},
   "outputs": [],
   "source": [
    "act_lyf = []; def_lyf = []; act_lyfkd0 = []\n",
    "\n",
    "for i  in [70, 80, 90, 92, 94, 96]:#, 10]:\n",
    "    act_lyf_kd0 = pd.read_csv('dataDt1s5/R0'+str(i)+'act_with_lyfkd0.csv', names=['x','y','lyf'])\n",
    "    act_lyf_ = pd.read_csv('dataDt1s5/R0'+str(i)+'act_with_lyf.csv', names=['x','y','lyf'])\n",
    "    #def_lyf_ = pd.read_csv('dataDt1s5/R0'+str(i)+'def_with_lyf.csv', names=['x','y','lyf'])\n",
    "    act_lyfkd0.append(act_lyf_kd0)\n",
    "    act_lyf.append(act_lyf_)\n",
    "    #def_lyf.append(def_lyf_)"
   ]
  },
  {
   "cell_type": "code",
   "execution_count": 4,
   "metadata": {},
   "outputs": [],
   "source": [
    "act_m = []; def_m = []\n",
    "act_d = []; def_d = []\n",
    "act_mkd0 = []; act_dkd0 = []\n",
    "\n",
    "for i in range(6):\n",
    "    act_kd0 = Ts*act_lyfkd0[i]['lyf']\n",
    "    act_ = Ts*act_lyf[i]['lyf']\n",
    "    #def_ = Ts*def_lyf[i]['lyf']\n",
    "    act_m.append(act_.mean())\n",
    "    act_d.append(act_.std()) # std deviation\n",
    "    act_mkd0.append(act_kd0.mean())\n",
    "    act_dkd0.append(act_kd0.std()) # std deviation\n",
    "    #act_d.append( np.std(act_) / np.sqrt(np.size(act_)) ) # std error of mean\n",
    "    #def_m.append(def_.mean())\n",
    "    #def_d.append(def_.std())"
   ]
  },
  {
   "cell_type": "code",
   "execution_count": 5,
   "metadata": {},
   "outputs": [],
   "source": [
    "#np.std(act_) / np.sqrt(np.size(act_))"
   ]
  },
  {
   "cell_type": "markdown",
   "metadata": {},
   "source": [
    "$active\\ motor\\ lifetime\\ for\\ R = [0.7, 0.8, 0.9, 0.92, 0.94, 0.96, 1.00] $"
   ]
  },
  {
   "cell_type": "code",
   "execution_count": 6,
   "metadata": {},
   "outputs": [],
   "source": [
    "#pd.DataFrame(act_m).to_csv('dataDt1s5/act_m_R010act_with_lyfkd0.csv', header=False, index=False)\n",
    "#pd.DataFrame(act_d).to_csv('dataDt1s5/act_d_R010act_with_lyfkd0.csv', header=False, index=False)"
   ]
  },
  {
   "cell_type": "code",
   "execution_count": 7,
   "metadata": {},
   "outputs": [],
   "source": [
    "#act_m.to_csv(act_m)"
   ]
  },
  {
   "cell_type": "code",
   "execution_count": 15,
   "metadata": {},
   "outputs": [
    {
     "data": {
      "image/png": "[encoded data removed]",
      "text/plain": [
       "<Figure size 576x432 with 1 Axes>"
      ]
     },
     "metadata": {
      "needs_background": "light"
     },
     "output_type": "display_data"
    }
   ],
   "source": [
    "fig, ax = plt.subplots(1,1, figsize=(8,6))\n",
    "\n",
    "'''\n",
    "ax[0].errorbar(r,act_m,act_d, capsize=3, linestyle='--', linewidth=2, elinewidth=1, color='green', marker='o', markersize=8, markerfacecolor='none', ecolor='green', label='Active')\n",
    "ax[0].errorbar(r,def_m,def_d, capsize=3, linestyle='--', linewidth=2, elinewidth=1, color='blue', marker='o', markersize=8, markerfacecolor='none', ecolor='blue', label='Defective')\n",
    "#ax[1].fill_between(r,(ac_def['spec2']-ac_def['dev2']),(ac_def['spec2']+ac_def['dev2']), alpha=0.4, edgecolor='blue', facecolor='#FF9848')\n",
    "#ax.plot(r,dfw1, marker='o', markerfacecolor='salmon', ls='--', color='gray', label='Def. F/k')\n",
    "#ax[1].plot(r,dfw2, marker='o', markerfacecolor='salmon', ls='--', color='brown', label='Def. W')\n",
    "\n",
    "ax[0].spines['right'].set_visible(False)\n",
    "ax[0].spines['top'].set_visible(False)\n",
    "\n",
    "ax[0].spines['bottom'].set_position(('axes',-0.01))\n",
    "ax[0].spines['left'].set_position(('axes',-0.01))\n",
    "ax[0].spines['left'].set_bounds(0,6)\n",
    "\n",
    "ax[0].xaxis.set_ticks_position('bottom')\n",
    "ax[0].yaxis.set_ticks_position('left')\n",
    "\n",
    "ax[0].set_xticks(np.arange(0.68,1.1,step=0.08))\n",
    "ax[0].set_yticks(np.arange(0,7,1))\n",
    "#ax.set_ylim(ymin=0)\n",
    "\n",
    "#ax[1].tick_params(labelsize=18, direction='out', length=6, width=1) # colors='r', grid_color='r', grid_alpha=0.5\n",
    "ax[0].minorticks_on()\n",
    "ax[0].tick_params('both',direction='in',top=False,right=False,length=8, width=0.5,which='major')\n",
    "ax[0].tick_params('both',direction='in',top=False,right=False,length=4, width=0.4,which='minor')\n",
    "\n",
    "#ax[1].set_xlabel('Motor ratio')  # , fontsize=18\n",
    "ax[0].set_ylabel('Mean lifetime', fontsize=14)\n",
    "ax[0].legend(loc='best')\n",
    "\n",
    "#for x,y in zip(r,def_m):\n",
    "#    label = \"{:.4f}\".format(y)\n",
    "#    ax.annotate(label,(x,y),textcoords=\"offset points\",xytext=(0.5,10),ha='left', color='blue')\n",
    "    #https://queirozf.com/entries/add-labels-and-text-to-matplotlib-plots-annotation-examples\n",
    "'''    \n",
    "#================================================================================\n",
    "ax.errorbar(r,act_mkd0,act_dkd0, capsize=3, linestyle='--', linewidth=2, elinewidth=1, color='blue', marker='o', markersize=8, markerfacecolor='none', ecolor='blue', label='Active')\n",
    "ax.errorbar(r,act_m,act_d, capsize=3, linestyle='--', linewidth=2, elinewidth=1, color='green', marker='o', markersize=8, markerfacecolor='none', ecolor='green', label='Active')\n",
    "\n",
    "ax.spines['right'].set_visible(False)\n",
    "ax.spines['top'].set_visible(False)\n",
    "\n",
    "ax.spines['bottom'].set_position(('axes',-0.01))\n",
    "ax.spines['left'].set_position(('axes',-0.01))\n",
    "ax.spines['left'].set_bounds(0,0.030)\n",
    "\n",
    "ax.xaxis.set_ticks_position('bottom')\n",
    "ax.yaxis.set_ticks_position('left')\n",
    "\n",
    "ax.set_xticks(np.arange(0.68,1.1,step=0.08))\n",
    "ax.set_yticks(np.arange(0,0.031,0.005))\n",
    "\n",
    "ax.minorticks_on()\n",
    "ax.tick_params('both',direction='in',top=False,right=False,length=8, width=0.5,which='major')\n",
    "ax.tick_params('both',direction='in',top=False,right=False,length=4, width=0.4,which='minor')\n",
    "\n",
    "#for x,y in zip(r,def_m):\n",
    "#    label = \"{:.4f}\".format(y)\n",
    "#    ax.annotate(label,(x,y),textcoords=\"offset points\",xytext=(0.5,10),ha='left', color='blue')\n",
    "    #https://queirozf.com/entries/add-labels-and-text-to-matplotlib-plots-annotation-examples\n",
    "\n",
    "#===============================================================================\n",
    "ax.set_title('Ts = 0.01', fontsize=18)\n",
    "ax.set_xlabel('Motor ratio', fontsize=16)\n",
    "ax.set_ylabel('Lifetime (sec.)', fontsize=16)\n",
    "\n",
    "#fig.text(0.5,-0.05,'Motor ratio', ha='center', fontsize= 16)\n",
    "\n",
    "fig.tight_layout()\n",
    "#plt.savefig('fig/v11aBindingMotorRatio.svg', fmt='svg', dip='1200', bbox_inches='tight')\n",
    "#plt.savefig('fig/v11aBindingMotorRatio.png', fmt='png', dip='1500', bbox_inches='tight')\n",
    "\n",
    "#plt.savefig('fig/compareLife_R01_09s5dt02.png', format='png', dpi=500, bbox_inches='tight')\n",
    "plt.show()"
   ]
  },
  {
   "cell_type": "code",
   "execution_count": 12,
   "metadata": {},
   "outputs": [
    {
     "data": {
      "image/png": "[encoded data removed]",
      "text/plain": [
       "<Figure size 576x432 with 1 Axes>"
      ]
     },
     "metadata": {
      "needs_background": "light"
     },
     "output_type": "display_data"
    }
   ],
   "source": [
    "fig, ax = plt.subplots(1,1, figsize=(8,6))\n",
    "\n",
    "'''\n",
    "ax[0].errorbar(r,act_m,act_d, capsize=3, linestyle='--', linewidth=2, elinewidth=1, color='green', marker='o', markersize=8, markerfacecolor='none', ecolor='green', label='Active')\n",
    "ax[0].errorbar(r,def_m,def_d, capsize=3, linestyle='--', linewidth=2, elinewidth=1, color='blue', marker='o', markersize=8, markerfacecolor='none', ecolor='blue', label='Defective')\n",
    "#ax[1].fill_between(r,(ac_def['spec2']-ac_def['dev2']),(ac_def['spec2']+ac_def['dev2']), alpha=0.4, edgecolor='blue', facecolor='#FF9848')\n",
    "#ax.plot(r,dfw1, marker='o', markerfacecolor='salmon', ls='--', color='gray', label='Def. F/k')\n",
    "#ax[1].plot(r,dfw2, marker='o', markerfacecolor='salmon', ls='--', color='brown', label='Def. W')\n",
    "\n",
    "ax[0].spines['right'].set_visible(False)\n",
    "ax[0].spines['top'].set_visible(False)\n",
    "\n",
    "ax[0].spines['bottom'].set_position(('axes',-0.01))\n",
    "ax[0].spines['left'].set_position(('axes',-0.01))\n",
    "ax[0].spines['left'].set_bounds(0,6)\n",
    "\n",
    "ax[0].xaxis.set_ticks_position('bottom')\n",
    "ax[0].yaxis.set_ticks_position('left')\n",
    "\n",
    "ax[0].set_xticks(np.arange(0.68,1.1,step=0.08))\n",
    "ax[0].set_yticks(np.arange(0,7,1))\n",
    "#ax.set_ylim(ymin=0)\n",
    "\n",
    "#ax[1].tick_params(labelsize=18, direction='out', length=6, width=1) # colors='r', grid_color='r', grid_alpha=0.5\n",
    "ax[0].minorticks_on()\n",
    "ax[0].tick_params('both',direction='in',top=False,right=False,length=8, width=0.5,which='major')\n",
    "ax[0].tick_params('both',direction='in',top=False,right=False,length=4, width=0.4,which='minor')\n",
    "\n",
    "#ax[1].set_xlabel('Motor ratio')  # , fontsize=18\n",
    "ax[0].set_ylabel('Mean lifetime', fontsize=14)\n",
    "ax[0].legend(loc='best')\n",
    "\n",
    "#for x,y in zip(r,def_m):\n",
    "#    label = \"{:.4f}\".format(y)\n",
    "#    ax.annotate(label,(x,y),textcoords=\"offset points\",xytext=(0.5,10),ha='left', color='blue')\n",
    "    #https://queirozf.com/entries/add-labels-and-text-to-matplotlib-plots-annotation-examples\n",
    "'''    \n",
    "#================================================================================\n",
    "\n",
    "ax.errorbar(r,act_m,act_d, capsize=3, linestyle='--', linewidth=2, elinewidth=1, color='green', marker='o', markersize=8, markerfacecolor='none', ecolor='green', label='Active')\n",
    "\n",
    "ax.spines['right'].set_visible(False)\n",
    "ax.spines['top'].set_visible(False)\n",
    "\n",
    "ax.spines['bottom'].set_position(('axes',-0.01))\n",
    "ax.spines['left'].set_position(('axes',-0.01))\n",
    "ax.spines['left'].set_bounds(0,0.030)\n",
    "\n",
    "ax.xaxis.set_ticks_position('bottom')\n",
    "ax.yaxis.set_ticks_position('left')\n",
    "\n",
    "ax.set_xticks(np.arange(0.68,1.1,step=0.08))\n",
    "ax.set_yticks(np.arange(0,0.031,0.005))\n",
    "\n",
    "ax.minorticks_on()\n",
    "ax.tick_params('both',direction='in',top=False,right=False,length=8, width=0.5,which='major')\n",
    "ax.tick_params('both',direction='in',top=False,right=False,length=4, width=0.4,which='minor')\n",
    "\n",
    "#for x,y in zip(r,def_m):\n",
    "#    label = \"{:.4f}\".format(y)\n",
    "#    ax.annotate(label,(x,y),textcoords=\"offset points\",xytext=(0.5,10),ha='left', color='blue')\n",
    "    #https://queirozf.com/entries/add-labels-and-text-to-matplotlib-plots-annotation-examples\n",
    "\n",
    "#===============================================================================\n",
    "\n",
    "\n",
    "fig.text(0.5,-0.05,'Motor ratio', ha='center', fontsize= 16)\n",
    "\n",
    "fig.tight_layout()\n",
    "#plt.savefig('fig/v11aBindingMotorRatio.svg', fmt='svg', dip='1200', bbox_inches='tight')\n",
    "#plt.savefig('fig/v11aBindingMotorRatio.png', fmt='png', dip='1500', bbox_inches='tight')\n",
    "\n",
    "#plt.savefig('fig/compareLife_R01_09s5dt02.png', format='png', dpi=500, bbox_inches='tight')\n",
    "plt.show()"
   ]
  },
  {
   "cell_type": "code",
   "execution_count": 16,
   "metadata": {},
   "outputs": [
    {
     "name": "stdout",
     "output_type": "stream",
     "text": [
      "[NbConvertApp] Converting notebook lifetime_Rkd0.ipynb to html\n",
      "[NbConvertApp] Writing 608564 bytes to lifetime_Rkd0.html\n"
     ]
    }
   ],
   "source": [
    "!jupyter nbconvert lifetime_Rkd0.ipynb --no-input --to html"
   ]
  },
  {
   "cell_type": "code",
   "execution_count": null,
   "metadata": {},
   "outputs": [],
   "source": []
  }
 ],
 "metadata": {
  "kernelspec": {
   "display_name": "Python 3",
   "language": "python",
   "name": "python3"
  },
  "language_info": {
   "codemirror_mode": {
    "name": "ipython",
    "version": 3
   },
   "file_extension": ".py",
   "mimetype": "text/x-python",
   "name": "python",
   "nbconvert_exporter": "python",
   "pygments_lexer": "ipython3",
   "version": "3.6.7"
  }
 },
 "nbformat": 4,
 "nbformat_minor": 4
}
