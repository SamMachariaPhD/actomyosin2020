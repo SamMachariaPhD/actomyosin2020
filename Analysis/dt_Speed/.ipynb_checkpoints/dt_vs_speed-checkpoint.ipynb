{
 "cells": [
  {
   "cell_type": "code",
   "execution_count": 1,
   "metadata": {},
   "outputs": [],
   "source": [
    "import numpy as np\n",
    "import pandas as pd\n",
    "import matplotlib.pyplot as plt"
   ]
  },
  {
   "cell_type": "code",
   "execution_count": 2,
   "metadata": {},
   "outputs": [],
   "source": [
    "conf = pd.read_csv('data/Conformation_213_5s_F5pN.txt', names=['time','x','y','z'], delim_whitespace=True)\n",
    "\n",
    "dt = 0.01; dt002 = 0.02; dt005 = 0.05; dt01 = 0.1; dt02 = 0.2; dt05 = 0.5; dt1 = 1; dt2 = 2; dt5 = 5\n",
    "x = np.array([0.01,0.02,0.05,0.1,0.2,0.5,1.0,2.0,5.0])"
   ]
  },
  {
   "cell_type": "code",
   "execution_count": 24,
   "metadata": {},
   "outputs": [
    {
     "name": "stderr",
     "output_type": "stream",
     "text": [
      "/home/nitta/anaconda3/lib/python3.6/site-packages/ipykernel_launcher.py:123: RuntimeWarning: invalid value encountered in true_divide\n"
     ]
    }
   ],
   "source": [
    "#============================================================================\n",
    "Head = conf.iloc[0::13,:]\n",
    "Head = Head.reset_index(drop=True)\n",
    "#============================================================================\n",
    "Head002 = Head.iloc[0::2,:]\n",
    "Head002 = Head002.reset_index(drop=True)\n",
    "#============================================================================\n",
    "Head005 = Head.iloc[0::5,:]\n",
    "Head005 = Head005.reset_index(drop=True)\n",
    "#============================================================================\n",
    "Head01 = Head.iloc[0::10,:]\n",
    "Head01 = Head01.reset_index(drop=True)\n",
    "#============================================================================\n",
    "Head02 = Head.iloc[0::20,:]\n",
    "Head02 = Head02.reset_index(drop=True)\n",
    "#============================================================================\n",
    "Head05 = Head.iloc[0::50,:]\n",
    "Head05 = Head05.reset_index(drop=True)\n",
    "#============================================================================\n",
    "Head1 = Head.iloc[0::100,:]\n",
    "Head1 = Head1.reset_index(drop=True)\n",
    "#============================================================================\n",
    "Head2 = Head.iloc[0::200,:]\n",
    "Head2 = Head2.reset_index(drop=True)\n",
    "#============================================================================\n",
    "Head5 = Head.iloc[0::500,:]\n",
    "Head5 = Head5.reset_index(drop=True)\n",
    "#============================================================================\n",
    "\n",
    "#============================================================================\n",
    "dxHead = np.diff(Head['x'])\n",
    "dyHead = np.diff(Head['y'])\n",
    "#============================================================================\n",
    "dxHead002 = np.diff(Head002['x'])\n",
    "dyHead002 = np.diff(Head002['y'])\n",
    "#============================================================================\n",
    "dxHead005 = np.diff(Head005['x'])\n",
    "dyHead005 = np.diff(Head005['y'])\n",
    "#============================================================================\n",
    "dxHead01 = np.diff(Head01['x'])\n",
    "dyHead01 = np.diff(Head01['y'])\n",
    "#============================================================================\n",
    "dxHead02 = np.diff(Head02['x'])\n",
    "dyHead02 = np.diff(Head02['y'])\n",
    "#============================================================================\n",
    "dxHead05 = np.diff(Head05['x'])\n",
    "dyHead05 = np.diff(Head05['y'])\n",
    "#============================================================================\n",
    "dxHead1 = np.diff(Head1['x'])\n",
    "dyHead1 = np.diff(Head1['y'])\n",
    "#============================================================================\n",
    "dxHead2 = np.diff(Head2['x'])\n",
    "dyHead2 = np.diff(Head2['y'])\n",
    "#============================================================================\n",
    "dxHead5 = np.diff(Head5['x'])\n",
    "dyHead5 = np.diff(Head5['y'])\n",
    "#============================================================================\n",
    "\n",
    "#============================================================================\n",
    "distHead = np.sqrt((dxHead**2)+(dyHead**2))\n",
    "spdHead = distHead/(1*dt)\n",
    "avSpdHead = np.mean(spdHead)\n",
    "#============================================================================\n",
    "distHead002 = np.sqrt((dxHead002**2)+(dyHead002**2))\n",
    "spdHead002 = distHead002/(2*dt)\n",
    "avSpdHead002 = np.mean(spdHead002)\n",
    "#============================================================================\n",
    "distHead005 = np.sqrt((dxHead005**2)+(dyHead005**2))\n",
    "spdHead005 = distHead005/(5*dt)\n",
    "avSpdHead005 = np.mean(spdHead005)\n",
    "#============================================================================\n",
    "distHead01 = np.sqrt((dxHead01**2)+(dyHead01**2))\n",
    "spdHead01 = distHead01/(10*dt)\n",
    "avSpdHead01 = np.mean(spdHead01)\n",
    "#============================================================================\n",
    "distHead02 = np.sqrt((dxHead02**2)+(dyHead02**2))\n",
    "spdHead02 = distHead02/(20*dt)\n",
    "avSpdHead02 = np.mean(spdHead02)\n",
    "#============================================================================\n",
    "distHead05 = np.sqrt((dxHead05**2)+(dyHead05**2))\n",
    "spdHead05 = distHead05/(50*dt)\n",
    "avSpdHead05 = np.mean(spdHead05)\n",
    "#============================================================================\n",
    "distHead1 = np.sqrt((dxHead1**2)+(dyHead1**2))\n",
    "spdHead1 = distHead1/(100*dt)\n",
    "avSpdHead1 = np.mean(spdHead1)\n",
    "#============================================================================\n",
    "distHead2 = np.sqrt((dxHead2**2)+(dyHead2**2))\n",
    "spdHead2 = distHead2/(200*dt)\n",
    "avSpdHead2 = np.mean(spdHead2)\n",
    "#============================================================================\n",
    "distHead5 = np.sqrt((dxHead5**2)+(dyHead5**2))\n",
    "spdHead5 = distHead5/(500*dt)\n",
    "avSpdHead5 = np.mean(spdHead5)\n",
    "#============================================================================\n",
    "avSpdH = np.array([avSpdHead,avSpdHead002,avSpdHead005,avSpdHead01,avSpdHead02,avSpdHead05,avSpdHead1,avSpdHead2,avSpdHead5])\n",
    "\n",
    "#============================================================================\n",
    "stdHead = np.sum(((spdHead-avSpdHead)**2)/(np.size(spdHead)-1))\n",
    "stdHead = np.sqrt(stdHead)\n",
    "#============================================================================\n",
    "stdHead002 = np.sum(((spdHead002-avSpdHead002)**2)/(np.size(spdHead002)-1))\n",
    "stdHead002 = np.sqrt(stdHead002)\n",
    "#============================================================================\n",
    "stdHead005 = np.sum(((spdHead005-avSpdHead005)**2)/(np.size(spdHead005)-1))\n",
    "stdHead005 = np.sqrt(stdHead005)\n",
    "#============================================================================\n",
    "stdHead01 = np.sum(((spdHead01-avSpdHead01)**2)/(np.size(spdHead01)-1))\n",
    "stdHead01 = np.sqrt(stdHead01)\n",
    "#============================================================================\n",
    "stdHead02 = np.sum(((spdHead02-avSpdHead02)**2)/(np.size(spdHead02)-1))\n",
    "stdHead02 = np.sqrt(stdHead02)\n",
    "#============================================================================\n",
    "stdHead05 = np.sum(((spdHead05-avSpdHead05)**2)/(np.size(spdHead05)-1))\n",
    "stdHead05 = np.sqrt(stdHead05)\n",
    "#============================================================================\n",
    "stdHead1 = np.sum(((spdHead1-avSpdHead1)**2)/(np.size(spdHead1)-1))\n",
    "stdHead1 = np.sqrt(stdHead1)\n",
    "#============================================================================\n",
    "stdHead2 = np.sum(((spdHead2-avSpdHead2)**2)/(np.size(spdHead2)-1))\n",
    "stdHead2 = np.sqrt(stdHead2)\n",
    "#============================================================================\n",
    "stdHead5 = np.sum(((spdHead5-avSpdHead5)**2)/(np.size(spdHead5)-1))\n",
    "stdHead5 = np.sqrt(stdHead5)\n",
    "#============================================================================\n",
    "stdH = np.array([stdHead,stdHead002,stdHead005,stdHead01,stdHead02,stdHead05,stdHead1,stdHead2,stdHead5])\n",
    "\n",
    "#============================================================================\n",
    "xHead = np.arange(0,spdHead.shape[0])\n",
    "xHead01 = np.arange(0,spdHead.shape[0], step=10)\n",
    "#============================================================================"
   ]
  },
  {
   "cell_type": "code",
   "execution_count": 33,
   "metadata": {},
   "outputs": [],
   "source": [
    "np.savetxt('v9DtvsSpd.csv', np.transpose([x,avSpdH,stdH]), fmt='%.8f', delimiter=',')"
   ]
  },
  {
   "cell_type": "code",
   "execution_count": 34,
   "metadata": {},
   "outputs": [
    {
     "data": {
      "image/png": "[encoded data removed]",
      "text/plain": [
       "<Figure size 1080x864 with 1 Axes>"
      ]
     },
     "metadata": {
      "needs_background": "light"
     },
     "output_type": "display_data"
    }
   ],
   "source": [
    "fig, ax = plt.subplots(figsize=(15,12))\n",
    "\n",
    "ax.errorbar(x,avSpdH,stdH, capsize=3, linestyle='--', marker='x', color='blue', ecolor='green', label='Speed changes')\n",
    "\n",
    "ax.spines['right'].set_visible(False)\n",
    "ax.spines['top'].set_visible(False)\n",
    "\n",
    "ax.set_yticks(np.arange(0,15,2))\n",
    "ax.set_xticks(np.arange(0.0,6.2,1.0))\n",
    "ax.tick_params(labelsize=18)\n",
    "\n",
    "ax.set_xlabel('Change in $\\Delta t$', fontsize=18)\n",
    "ax.set_ylabel('Speed ($\\mu m/s$)', fontsize=18)\n",
    "ax.set_title('R = 0.3, $F_{M_2}$ = 5.0 pN', fontsize=18)\n",
    "\n",
    "ax.legend()\n",
    "\n",
    "#plt.savefig('v9RvsSpd.png', fmt='png', dpi=500, bbox_inches='tight')\n",
    "plt.savefig('v9DtvsSpd.svg', fmt='svg', dpi=3000, bbox_inches='tight')"
   ]
  },
  {
   "cell_type": "code",
   "execution_count": 21,
   "metadata": {},
   "outputs": [
    {
     "data": {
      "text/plain": [
       "1.2955917206113265"
      ]
     },
     "execution_count": 21,
     "metadata": {},
     "output_type": "execute_result"
    }
   ],
   "source": [
    "avSpdHead5"
   ]
  },
  {
   "cell_type": "code",
   "execution_count": null,
   "metadata": {},
   "outputs": [],
   "source": []
  }
 ],
 "metadata": {
  "kernelspec": {
   "display_name": "Python 3",
   "language": "python",
   "name": "python3"
  },
  "language_info": {
   "codemirror_mode": {
    "name": "ipython",
    "version": 3
   },
   "file_extension": ".py",
   "mimetype": "text/x-python",
   "name": "python",
   "nbconvert_exporter": "python",
   "pygments_lexer": "ipython3",
   "version": "3.6.7"
  }
 },
 "nbformat": 4,
 "nbformat_minor": 2
}
