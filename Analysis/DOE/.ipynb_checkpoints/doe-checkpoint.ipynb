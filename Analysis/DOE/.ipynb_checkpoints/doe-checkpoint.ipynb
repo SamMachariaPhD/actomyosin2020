{
 "cells": [
  {
   "cell_type": "code",
   "execution_count": 1,
   "metadata": {},
   "outputs": [],
   "source": [
    "from doepy import build\n",
    "import numpy as np\n",
    "import pandas as pd"
   ]
  },
  {
   "cell_type": "code",
   "execution_count": 2,
   "metadata": {},
   "outputs": [
    {
     "data": {
      "text/plain": [
       "[0.1, 0.2, 0.3, 0.4, 0.5, 0.6, 0.7, 0.8, 0.9, 1.0]"
      ]
     },
     "execution_count": 2,
     "metadata": {},
     "output_type": "execute_result"
    }
   ],
   "source": [
    "r = np.around(np.arange(0.1,1.1,0.1),1).tolist()\n",
    "r"
   ]
  },
  {
   "cell_type": "code",
   "execution_count": 3,
   "metadata": {},
   "outputs": [],
   "source": [
    "b = np.around(np.arange(8,18,1),0).tolist()\n",
    "atp = np.around(np.arange(500,5001,500),0).tolist()\n",
    "md = np.around(np.arange(500,5001,500),0).tolist()\n",
    "s = [132,113,177,213,233,273,173,271,121,212]"
   ]
  },
  {
   "cell_type": "code",
   "execution_count": 4,
   "metadata": {},
   "outputs": [
    {
     "data": {
      "text/plain": [
       "{'R': [0.1, 0.2, 0.3, 0.4, 0.5, 0.6, 0.7, 0.8, 0.9, 1.0],\n",
       " 'B': [8, 9, 10, 11, 12, 13, 14, 15, 16, 17],\n",
       " 'ATP': [500, 1000, 1500, 2000, 2500, 3000, 3500, 4000, 4500, 5000],\n",
       " 'MD': [500, 1000, 1500, 2000, 2500, 3000, 3500, 4000, 4500, 5000],\n",
       " 'S': [132, 113, 177, 213, 233, 273, 173, 271, 121, 212]}"
      ]
     },
     "execution_count": 4,
     "metadata": {},
     "output_type": "execute_result"
    }
   ],
   "source": [
    "params = { 'R':r,'B':b,'ATP':atp, 'MD':md, 'S':s }\n",
    "params"
   ]
  },
  {
   "cell_type": "code",
   "execution_count": 5,
   "metadata": {},
   "outputs": [],
   "source": [
    "expr_all = build.full_fact(params)\n",
    "expr_all.to_csv('out_data/experiments.csv')"
   ]
  },
  {
   "cell_type": "code",
   "execution_count": 6,
   "metadata": {},
   "outputs": [
    {
     "data": {
      "text/plain": [
       "{'R': [0.1, 0.2, 0.3, 0.4, 0.5, 0.6, 0.7, 0.8, 0.9, 1.0],\n",
       " 'B': [13],\n",
       " 'ATP': [500, 1000, 1500, 2000, 2500, 3000, 3500, 4000, 4500, 5000],\n",
       " 'MD': [500, 1000, 1500, 2000, 2500, 3000, 3500, 4000, 4500, 5000],\n",
       " 'S': [132, 113, 177, 213, 233, 273, 173, 271, 121, 212]}"
      ]
     },
     "execution_count": 6,
     "metadata": {},
     "output_type": "execute_result"
    }
   ],
   "source": [
    "paramsB13 = { 'R':r,'B':[13],'ATP':atp, 'MD':md, 'S':s }\n",
    "paramsB13"
   ]
  },
  {
   "cell_type": "code",
   "execution_count": 7,
   "metadata": {},
   "outputs": [],
   "source": [
    "expr_B13 = build.full_fact(paramsB13)\n",
    "expr_B13.to_csv('out_data/expr_B13.csv')"
   ]
  },
  {
   "cell_type": "code",
   "execution_count": 8,
   "metadata": {},
   "outputs": [
    {
     "data": {
      "text/plain": [
       "{'R': [0.1, 0.2, 0.3, 0.4, 0.5, 0.6, 0.7, 0.8, 0.9, 1.0],\n",
       " 'B': [13],\n",
       " 'ATP': [500, 1000, 1500, 2000, 2500, 3000, 3500, 4000, 4500, 5000],\n",
       " 'MD': [500, 1000, 1500, 2000, 2500, 3000, 3500, 4000, 4500, 5000],\n",
       " 'S': [213, 233, 273]}"
      ]
     },
     "execution_count": 8,
     "metadata": {},
     "output_type": "execute_result"
    }
   ],
   "source": [
    "paramsS3 = { 'R':r,'B':[13],'ATP':atp, 'MD':md, 'S':[213,233,273]}\n",
    "paramsS3"
   ]
  },
  {
   "cell_type": "code",
   "execution_count": 9,
   "metadata": {},
   "outputs": [],
   "source": [
    "expr_S3 = build.full_fact(paramsS3)\n",
    "expr_S3.to_csv('out_data/expr_S3.csv')"
   ]
  },
  {
   "cell_type": "code",
   "execution_count": 10,
   "metadata": {},
   "outputs": [
    {
     "data": {
      "text/plain": [
       "{'R': [0.1, 0.2, 0.3, 0.4, 0.5, 0.6, 0.7, 0.8, 0.9, 1.0],\n",
       " 'B': [13],\n",
       " 'ATP': [2000],\n",
       " 'MD': [500, 1000, 1500, 2000, 2500, 3000, 3500, 4000, 4500, 5000],\n",
       " 'S': [213, 233, 273]}"
      ]
     },
     "execution_count": 10,
     "metadata": {},
     "output_type": "execute_result"
    }
   ],
   "source": [
    "paramsATP2000 = { 'R':r,'B':[13],'ATP':[2000], 'MD':md, 'S':[213,233,273]}\n",
    "paramsATP2000"
   ]
  },
  {
   "cell_type": "code",
   "execution_count": 11,
   "metadata": {},
   "outputs": [],
   "source": [
    "expr_ATP2000 = build.full_fact(paramsATP2000)\n",
    "expr_ATP2000.to_csv('out_data/expr_ATP2000.csv')"
   ]
  },
  {
   "cell_type": "code",
   "execution_count": 12,
   "metadata": {},
   "outputs": [
    {
     "data": {
      "text/plain": [
       "{'R': [0.6, 0.8, 1.0],\n",
       " 'B': [13],\n",
       " 'ATP': [2000],\n",
       " 'MD': [500, 1000, 1500, 2000, 2500, 3000, 3500, 4000, 4500, 5000],\n",
       " 'S': [213, 233, 273]}"
      ]
     },
     "execution_count": 12,
     "metadata": {},
     "output_type": "execute_result"
    }
   ],
   "source": [
    "paramsR3 = { 'R':[0.6,0.8,1.0],'B':[13],'ATP':[2000], 'MD':md, 'S':[213,233,273]}\n",
    "paramsR3"
   ]
  },
  {
   "cell_type": "code",
   "execution_count": 13,
   "metadata": {},
   "outputs": [],
   "source": [
    "expr_R3 = build.full_fact(paramsR3)\n",
    "expr_R3.to_csv('out_data/expr_R3.csv')"
   ]
  },
  {
   "cell_type": "code",
   "execution_count": 14,
   "metadata": {},
   "outputs": [
    {
     "data": {
      "text/plain": [
       "{'R': [0.1, 0.2, 0.3, 0.4, 0.5, 0.6, 0.7, 0.8, 0.9, 1.0],\n",
       " 'B': [13],\n",
       " 'ATP': [2000],\n",
       " 'MD': [3000],\n",
       " 'S': [213, 113, 233, 273]}"
      ]
     },
     "execution_count": 14,
     "metadata": {},
     "output_type": "execute_result"
    }
   ],
   "source": [
    "paramsS4 = { 'R':r,'B':[13],'ATP':[2000], 'MD':[3000], 'S':[213,113,233,273]}\n",
    "paramsS4"
   ]
  },
  {
   "cell_type": "code",
   "execution_count": 15,
   "metadata": {},
   "outputs": [],
   "source": [
    "expr_S4 = build.full_fact(paramsS4)\n",
    "expr_S4.to_csv('out_data/expr_S4.csv')"
   ]
  },
  {
   "cell_type": "code",
   "execution_count": 17,
   "metadata": {},
   "outputs": [
    {
     "data": {
      "text/plain": [
       "{'R': [0.7, 0.8, 0.9, 1.0],\n",
       " 'B': [13],\n",
       " 'ATP': [300, 600, 900, 1200, 1500, 1800, 2100, 2400, 2700, 3000, 3300],\n",
       " 'MD': [3000],\n",
       " 'S': [113]}"
      ]
     },
     "execution_count": 17,
     "metadata": {},
     "output_type": "execute_result"
    }
   ],
   "source": [
    "paramsATP4 = { 'R':[0.7,0.8,0.9,1.0],'B':[13],'ATP':np.around(np.arange(300,3301,300),0).tolist(),\\\n",
    "              'MD':[3000], 'S':[113]}\n",
    "paramsATP4"
   ]
  },
  {
   "cell_type": "code",
   "execution_count": 18,
   "metadata": {},
   "outputs": [],
   "source": [
    "expr_ATP4 = build.full_fact(paramsATP4)\n",
    "expr_ATP4.to_csv('out_data/expr_ATP4.csv')"
   ]
  },
  {
   "cell_type": "code",
   "execution_count": 19,
   "metadata": {},
   "outputs": [
    {
     "data": {
      "text/plain": [
       "{'R': [1.0],\n",
       " 'B': [13],\n",
       " 'ATP': [2000],\n",
       " 'MD': [500, 1000, 1500, 2000, 2500, 3000, 3500, 4000, 4500, 5000],\n",
       " 'S': [213, 233, 237],\n",
       " 'T': [5]}"
      ]
     },
     "execution_count": 19,
     "metadata": {},
     "output_type": "execute_result"
    }
   ],
   "source": [
    "changingMD = {'R':[1.0],'B':[13],'ATP':[2000],'MD':md,'S':[213,233,237],'T':[5]}\n",
    "changingMD"
   ]
  },
  {
   "cell_type": "code",
   "execution_count": 21,
   "metadata": {},
   "outputs": [],
   "source": [
    "exp_changingMD = build.full_fact(changingMD)\n",
    "exp_changingMD.to_csv('out_data/exp_changingMD.csv')"
   ]
  },
  {
   "cell_type": "code",
   "execution_count": null,
   "metadata": {},
   "outputs": [],
   "source": []
  }
 ],
 "metadata": {
  "kernelspec": {
   "display_name": "Python 3",
   "language": "python",
   "name": "python3"
  },
  "language_info": {
   "codemirror_mode": {
    "name": "ipython",
    "version": 3
   },
   "file_extension": ".py",
   "mimetype": "text/x-python",
   "name": "python",
   "nbconvert_exporter": "python",
   "pygments_lexer": "ipython3",
   "version": "3.6.7"
  }
 },
 "nbformat": 4,
 "nbformat_minor": 2
}
