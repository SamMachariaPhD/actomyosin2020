{
 "cells": [
  {
   "cell_type": "code",
   "execution_count": 1,
   "metadata": {},
   "outputs": [],
   "source": [
    "import numpy as np\n",
    "import pandas as pd\n",
    "import matplotlib.pyplot as plt\n",
    "from ast import literal_eval"
   ]
  },
  {
   "cell_type": "code",
   "execution_count": 2,
   "metadata": {},
   "outputs": [],
   "source": [
    "Ts = 501\n",
    "segments = 12 # beads = 13"
   ]
  },
  {
   "cell_type": "code",
   "execution_count": 3,
   "metadata": {},
   "outputs": [],
   "source": [
    "f = []; m1 = []; m2 = []\n",
    "\n",
    "for i in range(Ts):\n",
    "    f_ = pd.read_csv('data5/Filament_5s133R0.9Ts'+str(i)+'.csv', names=['x','y','z'], skiprows=1)\n",
    "    f.append(f_)\n",
    "    m1_ = pd.read_csv('data5/Specie1_5s133R0.9Ts'+str(i)+'.csv', names=['x','y','z'], skiprows=1)\n",
    "    m1.append(m1_)\n",
    "    m2_ = pd.read_csv('data5/Specie2_5s133R0.9Ts'+str(i)+'.csv', names=['x','y','z'], skiprows=1)\n",
    "    m2.append(m2_)"
   ]
  },
  {
   "cell_type": "code",
   "execution_count": 4,
   "metadata": {},
   "outputs": [],
   "source": [
    "noDef = pd.DataFrame(np.nan, index=[0], columns=['x','y','z']) # create a nan dataframe for when there're no motors binding\n",
    "\n",
    "if len(m1[0]) == 0:\n",
    "    m1all = noDef.drop(['z'], axis=1)\n",
    "else:\n",
    "    m1all = m1[0].drop(['z'], axis=1)\n",
    "    \n",
    "if len(m2[0]) == 0:\n",
    "    m2all = noDef.drop(['z'], axis=1)\n",
    "else:\n",
    "    m2all = m2[0].drop(['z'], axis=1)\n",
    "#----------------------------------------------\n",
    "for i in range(1,Ts):\n",
    "    if len(m1[i]) == 0: # if no motors binding\n",
    "        m1all = m1all.append(noDef.drop(['z'], axis=1)) # append with nan \n",
    "    else:\n",
    "        m1all = m1all.append(m1[i].drop(['z'], axis=1))\n",
    "\n",
    "for i in range(1,Ts):\n",
    "    if len(m2[i]) == 0:\n",
    "        m2all = m2all.append(noDef.drop(['z'], axis=1))\n",
    "    else:\n",
    "        m2all = m2all.append(m2[i].drop(['z'], axis=1))"
   ]
  },
  {
   "cell_type": "code",
   "execution_count": 5,
   "metadata": {},
   "outputs": [],
   "source": [
    "# Identify the time step\n",
    "\n",
    "Ts_count = 0\n",
    "m1_ts_no = []\n",
    "\n",
    "for i in m1all.index == 0: # check all index having 0 (starting point of a time step)\n",
    "    if i == True:\n",
    "        m1_ts_no.append(Ts_count)\n",
    "        Ts_count+=1\n",
    "    else:\n",
    "        m1_ts_no.append(Ts_count-1)\n",
    "\n",
    "m1_ts_no = np.array(m1_ts_no) # make np array\n",
    "m1_ts_no = pd.DataFrame({'Ts':m1_ts_no}) # make pd dataframe"
   ]
  },
  {
   "cell_type": "code",
   "execution_count": 6,
   "metadata": {},
   "outputs": [],
   "source": [
    "# Identify the time step\n",
    "\n",
    "Ts_count = 0\n",
    "m2_ts_no = []\n",
    "\n",
    "for i in m2all.index == 0: # check all index having 0 (starting point of a time step)\n",
    "    if i == True:\n",
    "        m2_ts_no.append(Ts_count)\n",
    "        Ts_count+=1\n",
    "    else:\n",
    "        m2_ts_no.append(Ts_count-1)\n",
    "\n",
    "m2_ts_no = np.array(m2_ts_no)\n",
    "m2_ts_no = pd.DataFrame({'Ts':m2_ts_no})"
   ]
  },
  {
   "cell_type": "code",
   "execution_count": 7,
   "metadata": {},
   "outputs": [],
   "source": [
    "m1dups = 1*m1all.duplicated() # check all duplicates. if duplicated, assign True\n",
    "m1dups = pd.DataFrame({'label':m1dups}) # make a dataframe of 0 or/and 1\n",
    "\n",
    "m2dups = 1*m2all.duplicated()\n",
    "m2dups = pd.DataFrame({'label':m2dups})"
   ]
  },
  {
   "cell_type": "code",
   "execution_count": 8,
   "metadata": {},
   "outputs": [],
   "source": [
    "m1_ts_no_ = m1_ts_no.reset_index(drop=True)\n",
    "m2_ts_no_ = m2_ts_no.reset_index(drop=True)\n",
    "\n",
    "m1all_ = m1all.reset_index(drop=True)\n",
    "m2all_ = m2all.reset_index(drop=True)\n",
    "\n",
    "m1dups_ = m1dups.reset_index(drop=True)\n",
    "m2dups_ = m2dups.reset_index(drop=True)\n",
    "\n",
    "m1r08 = pd.concat([m1_ts_no_,m1all_,m1dups_],axis=1)\n",
    "m2r08 = pd.concat([m2_ts_no_,m2all_,m2dups_],axis=1)\n",
    "\n",
    "m1r08.to_csv('data09/all_active5s133R09.csv', index=False, float_format='%.5f')\n",
    "m2r08.to_csv('data09/all_inactive5s133R09.csv', index=False, float_format='%.5f')\n",
    "\n",
    "m1r08_srt = m1r08.sort_values(['x','Ts'],ascending=[True,True]) # sort ascending in priority of x\n",
    "m2r08_srt = m2r08.sort_values(['x','Ts'],ascending=[True,True])\n",
    "\n",
    "m1r08_srt.to_csv('data09/all_active5s133R09_srt.csv', index=False, float_format='%.5f')\n",
    "m2r08_srt.to_csv('data09/all_inactive5s133R09_srt.csv', index=False, float_format='%.5f')"
   ]
  },
  {
   "cell_type": "code",
   "execution_count": 9,
   "metadata": {},
   "outputs": [],
   "source": [
    "m1r08_new = m1r08_srt.reset_index(drop=True)\n",
    "m2r08_new = m2r08_srt.reset_index(drop=True)\n",
    "\n",
    "m1xy = np.around( m1r08_new[m1r08_new.columns[1:3]], 5).values.tolist()\n",
    "m2xy = np.around( m2r08_new[m2r08_new.columns[1:3]], 5).values.tolist()"
   ]
  },
  {
   "cell_type": "markdown",
   "metadata": {},
   "source": [
    "Types of active/defective binding motors\n",
    "## 1. Disappearing motor\n",
    "A disappearing motor has a lifetime of less than 0.01 sec.\n",
    "\n",
    "There are two kinds of a disappearing motors.\n",
    "### (i) Unique-disappearing motor (labelled as 0.0)\n",
    "Unique-disappearing motor,Uq, appears in only one time step then disappears forever.\n",
    "### (ii) Persistent-disappearing motor (labelled as 0.1)\n",
    "Persistent-disappearing motor,Pe, appears in more than one time step but does not live up to the next immediate time step\n",
    "\n",
    "## 2. Aggressive motor (labelled as 1.0)\n",
    "Aggressive motor,Ag, has a lifetime of 0.01 sec. or more. It exists in more that one consecutive time step.\n",
    "\n",
    "NB: An aggressive motor can become a persistent-disappering motor and vice versa.\n",
    "\n",
    "- some aggressive motors are hopping -- incessant on and off "
   ]
  },
  {
   "cell_type": "code",
   "execution_count": 10,
   "metadata": {},
   "outputs": [
    {
     "name": "stderr",
     "output_type": "stream",
     "text": [
      "/home/nitta/anaconda3/lib/python3.6/site-packages/pandas/core/indexing.py:205: SettingWithCopyWarning: \n",
      "A value is trying to be set on a copy of a slice from a DataFrame\n",
      "\n",
      "See the caveats in the documentation: http://pandas.pydata.org/pandas-docs/stable/user_guide/indexing.html#returning-a-view-versus-a-copy\n",
      "  self._setitem_with_indexer(indexer, value)\n"
     ]
    }
   ],
   "source": [
    "idx = 0\n",
    "\n",
    "for i in m1xy:\n",
    "    if m1xy[idx+1] == m1xy[idx]:\n",
    "        if np.absolute(m1r08_new['Ts'][idx+1] - m1r08_new['Ts'][idx]) == 1: # identify an aggressive motor (label 1.0)\n",
    "            m1r08_new['label'].loc[idx] = 1.0\n",
    "            m1r08_new['label'].loc[idx+1] = 1.0\n",
    "        elif np.absolute(m1r08_new['Ts'][idx+1] - m1r08_new['Ts'][idx]) != 1: # identify a persistent disappearing motor (label 0.1)\n",
    "            try:\n",
    "                if m1xy[idx+1] != m1xy[idx+2]:\n",
    "                    #m1r08_new['label'].loc[idx] = 0.1#7 over-egged pudding --> re-labelling 1.0 to 0.1\n",
    "                    m1r08_new['label'].loc[idx+1] = 0.1\n",
    "                elif m1xy[idx+1] == m1xy[idx+2]:\n",
    "                    if np.absolute(m1r08_new['Ts'][idx+1] - m1r08_new['Ts'][idx+2]) != 1:\n",
    "                        m1r08_new['label'].loc[idx+1] = 0.1\n",
    "                    elif np.absolute(m1r08_new['Ts'][idx+1] - m1r08_new['Ts'][idx+2]) == 1:\n",
    "                        if m1xy[idx+1] == m1xy[idx+2] and m1xy[idx] == m1xy[idx-1] and (np.absolute(m1r08_new['Ts'][idx+1] - m1r08_new['Ts'][idx]) != 1) and (np.absolute(m1r08_new['Ts'][idx] - m1r08_new['Ts'][idx-1]) == 1):\n",
    "                            m1r08_new['label'].loc[idx] = 1.0 # Aggressive rare/special\n",
    "                        else:\n",
    "                            m1r08_new['label'].loc[idx] = 0.1\n",
    "            except Exception as e:\n",
    "                if str(e) == 'list index out of range':\n",
    "                    pass\n",
    "                else:\n",
    "                    print('Unknown error!')\n",
    "    elif m1xy[idx+1] != m1xy[idx]: # identify a unique disappearing motor (label 0.0)\n",
    "        try:\n",
    "            if m1xy[idx+1] != m1xy[idx+2]:\n",
    "                m1r08_new['label'].loc[idx+1] = 0.0\n",
    "            elif m1xy[idx+1] == m1xy[idx+2]:\n",
    "                if np.absolute(m1r08_new['Ts'][idx+1] - m1r08_new['Ts'][idx+2]) != 1: # a persistent disappearing motor\n",
    "                    m1r08_new['label'].loc[idx+1] = 0.1\n",
    "        except Exception as e:\n",
    "            if str(e) == 'list index out of range':\n",
    "                m1r08_new['label'].loc[idx+1] = 0.0\n",
    "            else:\n",
    "                print('Unknown error!')\n",
    "    if idx < (len(m1xy)-2):\n",
    "        idx+=1\n",
    "\n",
    "m1r08_new.to_csv('data09/all_active5s133R09_srt_labelled.csv', index=False, float_format='%.5f')"
   ]
  },
  {
   "cell_type": "code",
   "execution_count": 11,
   "metadata": {},
   "outputs": [],
   "source": [
    "idx = 0\n",
    "\n",
    "for i in m2xy:\n",
    "    if m2xy[idx+1] == m2xy[idx]:\n",
    "        if np.absolute(m2r08_new['Ts'][idx+1] - m2r08_new['Ts'][idx]) == 1: # identify an aggressive motor (label 1.0)\n",
    "            m2r08_new['label'].loc[idx] = 1.0\n",
    "            m2r08_new['label'].loc[idx+1] = 1.0\n",
    "        elif np.absolute(m2r08_new['Ts'][idx+1] - m2r08_new['Ts'][idx]) != 1: # identify a persistent disappearing motor (label 0.1)\n",
    "            try:\n",
    "                if m2xy[idx+1] != m2xy[idx+2]:\n",
    "                    m2r08_new['label'].loc[idx+1] = 0.1\n",
    "                elif m2xy[idx+1] == m2xy[idx+2]:\n",
    "                    if np.absolute(m2r08_new['Ts'][idx+1] - m2r08_new['Ts'][idx+2]) != 1:\n",
    "                        m2r08_new['label'].loc[idx+1] = 0.1\n",
    "                    elif np.absolute(m2r08_new['Ts'][idx+1] - m2r08_new['Ts'][idx+2]) == 1:\n",
    "                        if m2xy[idx+1] == m2xy[idx+2] and m2xy[idx] == m2xy[idx-1] and (np.absolute(m2r08_new['Ts'][idx+1] - m2r08_new['Ts'][idx]) != 1) and (np.absolute(m2r08_new['Ts'][idx] - m2r08_new['Ts'][idx-1]) == 1):\n",
    "                            m2r08_new['label'].loc[idx] = 1.0 # Aggressive rare/special\n",
    "                        else:\n",
    "                            m2r08_new['label'].loc[idx] = 0.1\n",
    "            except Exception as e:\n",
    "                if str(e) == 'list index out of range':\n",
    "                    pass\n",
    "                else:\n",
    "                    print('Unknown error!')\n",
    "    elif m2xy[idx+1] != m2xy[idx]: # identify a unique disappearing motor (label 0.0)\n",
    "        try:\n",
    "            if m2xy[idx+1] != m2xy[idx+2]:\n",
    "                m2r08_new['label'].loc[idx+1] = 0.0\n",
    "            elif m2xy[idx+1] == m2xy[idx+2]:\n",
    "                if np.absolute(m2r08_new['Ts'][idx+1] - m2r08_new['Ts'][idx+2]) != 1: # a persistent disappearing motor\n",
    "                    m2r08_new['label'].loc[idx+1] = 0.1\n",
    "        except Exception as e:\n",
    "            if str(e) == 'list index out of range':\n",
    "                m2r08_new['label'].loc[idx+1] = 0.0\n",
    "            else:\n",
    "                print('Unknown error!')\n",
    "    if idx < (len(m2xy)-2):\n",
    "        idx+=1\n",
    "\n",
    "m2r08_new.to_csv('data09/all_inactive5s133R09_srt_labelled.csv', index=False, float_format='%.5f')"
   ]
  },
  {
   "cell_type": "code",
   "execution_count": 12,
   "metadata": {},
   "outputs": [],
   "source": [
    "m1r08_Ag = m1r08_new[m1r08_new.label == 1.0] # m1r08dups\n",
    "m1r08_Ag = m1r08_Ag.reset_index(drop=True) # m1r08dupsx\n",
    "\n",
    "m1r08_Pe = m1r08_new[m1r08_new.label == 0.1]\n",
    "m1r08_Pe = m1r08_Pe.reset_index(drop=True)\n",
    "\n",
    "m1r08_Uq = m1r08_new[m1r08_new.label == 0.0]\n",
    "m1r08_Uq = m1r08_Uq.reset_index(drop=True)\n",
    "#=================================================\n",
    "m2r08_Ag = m2r08_new[m2r08_new.label == 1.0]\n",
    "m2r08_Ag = m2r08_Ag.reset_index(drop=True)\n",
    "\n",
    "m2r08_Pe = m2r08_new[m2r08_new.label == 0.1]\n",
    "m2r08_Pe = m2r08_Pe.reset_index(drop=True)\n",
    "\n",
    "m2r08_Uq = m2r08_new[m2r08_new.label == 0.0]\n",
    "m2r08_Uq = m2r08_Uq.reset_index(drop=True)"
   ]
  },
  {
   "cell_type": "code",
   "execution_count": 13,
   "metadata": {},
   "outputs": [],
   "source": [
    "m1ltym = {} # life time\n",
    "idx = 0\n",
    "m1Ag_on_ = [] # time step where the aggressive motor started\n",
    "arr = np.around( m1r08_Ag[m1r08_Ag.columns[1:3]], 5).values.tolist()\n",
    "\n",
    "for x in arr:\n",
    "    if str(x) not in m1ltym:\n",
    "        m1ltym[str(x)]=0\n",
    "        m1Ag_on_.append(m1r08_Ag[m1r08_Ag.columns[0]].iloc[idx])\n",
    "    else:\n",
    "        if np.absolute(m1r08_Ag[m1r08_Ag.columns[0]].iloc[idx] - m1r08_Ag[m1r08_Ag.columns[0]].iloc[idx-1]) == 1:\n",
    "            m1ltym[str(x)] += 1\n",
    "        #if (m1ltym[str(x)] >2) and ( np.absolute(m1r08_Ag[m1r08_Ag.columns[0]].iloc[idx] - m1r08_Ag[m1r08_Ag.columns[0]].iloc[idx-1]) != np.absolute(m1r08_Ag[m1r08_Ag.columns[0]].iloc[idx-1] - m1r08_Ag[m1r08_Ag.columns[0]].iloc[idx-2]) ):\n",
    "            #m1ltym[str(x)] -= 1 \n",
    "        #if (m1ltym[str(x)] == 5) and ( np.absolute(m1r08_Ag[m1r08_Ag.columns[0]].iloc[idx] - m1r08_Ag[m1r08_Ag.columns[0]].iloc[idx-1]) != np.absolute(m1r08_Ag[m1r08_Ag.columns[0]].iloc[idx-1] - m1r08_Ag[m1r08_Ag.columns[0]].iloc[idx-2]) ):\n",
    "            #m1ltym[str(x)] = 4 \n",
    "    idx+=1\n",
    "    \n",
    "#==================================================\n",
    "\n",
    "m1Ag_onx = np.array(m1Ag_on_) # make np array\n",
    "m1Ag_on = pd.DataFrame({'Ts':m1Ag_onx}) # make pd dataframe\n",
    "\n",
    "m1lftym = np.fromiter(m1ltym.values(), dtype=int) # pick dictionary values\n",
    "m1lftym_Ag = pd.DataFrame({'life':m1lftym}) # make them to be pandas dataframe\n",
    "\n",
    "#m1Ag_mtr = pd.DataFrame({'mtr':np.array(list(m1ltym.keys()))}) # pick dictionary keys and make pd df\n",
    "\n",
    "# make a nice list from the dictionary keys, then make a pandas dataframe\n",
    "# NB: from ast import literal_eval\n",
    "\n",
    "m1ltym_list = []\n",
    "\n",
    "for i in list(m1ltym.keys()):\n",
    "    m1ltym_list.append(literal_eval(i))\n",
    "    \n",
    "m1ltym_list = np.array(m1ltym_list)\n",
    "m1Ag_mtr = pd.DataFrame({'x':m1ltym_list[:,0], 'y':m1ltym_list[:,1]})\n",
    "\n",
    "m1r08_Aglf = pd.concat([m1Ag_on,m1Ag_mtr,m1lftym_Ag],axis=1) # combine, sort, and clean\n",
    "m1r08_Aglf = m1r08_Aglf.sort_values(['Ts'],ascending=[True])\n",
    "m1r08_Aglf = m1r08_Aglf.reset_index(drop=True)\n",
    "\n",
    "m1r08_Aglf.to_csv('data09/active5s133R09_aggressive.csv', index=False, float_format='%.5f')"
   ]
  },
  {
   "cell_type": "code",
   "execution_count": 14,
   "metadata": {},
   "outputs": [],
   "source": [
    "lyf0 = np.zeros((m1r08_new.shape[0],1), dtype=int)\n",
    "lyf0 = pd.DataFrame(lyf0,columns=['life'])\n",
    "m1r08_lyf0 = pd.concat([m1r08_new,lyf0], axis=1)"
   ]
  },
  {
   "cell_type": "code",
   "execution_count": 15,
   "metadata": {},
   "outputs": [],
   "source": [
    "# update the life column of m1r08_lyf0 with the actual life from m1r08_Aglf\n",
    "\n",
    "lyf_list = np.around(m1r08_Aglf[m1r08_Aglf.columns[1:3]], 5).values.tolist()\n",
    "lyf0_list = np.around(m1r08_lyf0[m1r08_lyf0.columns[1:3]], 5).values.tolist()\n",
    "\n",
    "for i in range(len(lyf0_list)):\n",
    "    for j in range(len(lyf_list)):\n",
    "        if lyf_list[j] == lyf0_list[i]:\n",
    "            if m1r08_lyf0['label'].loc[i] == 1.0:\n",
    "                m1r08_lyf0['life'].loc[i] = int(m1r08_Aglf['life'].loc[j])\n",
    "                \n",
    "m1r08_lyf0['label'] = m1r08_lyf0['label'].map(lambda x: '%.1f' % x) # make label column have only one decimal\n",
    "m1r08_lyf0.to_csv('data09/all_active5s133R09_label_life.csv', float_format='%.5f', index=False)"
   ]
  },
  {
   "cell_type": "code",
   "execution_count": 16,
   "metadata": {},
   "outputs": [],
   "source": [
    "m2ltym = {} # life time\n",
    "idx = 0\n",
    "m2Ag_on_ = [] # time step where the aggressive motor started\n",
    "arr = np.around( m2r08_Ag[m2r08_Ag.columns[1:3]], 5).values.tolist()\n",
    "\n",
    "for x in arr:\n",
    "    if str(x) not in m2ltym:\n",
    "        m2ltym[str(x)]=0\n",
    "        m2Ag_on_.append(m2r08_Ag[m2r08_Ag.columns[0]].iloc[idx])\n",
    "    else:\n",
    "        if np.absolute(m2r08_Ag[m2r08_Ag.columns[0]].iloc[idx] - m2r08_Ag[m2r08_Ag.columns[0]].iloc[idx-1]) == 1:\n",
    "            m2ltym[str(x)] += 1\n",
    "    idx+=1\n",
    "    \n",
    "#==================================================\n",
    "\n",
    "m2Ag_onx = np.array(m2Ag_on_) # make np array\n",
    "m2Ag_on = pd.DataFrame({'Ts':m2Ag_onx}) # make pd dataframe\n",
    "\n",
    "m2lftym = np.fromiter(m2ltym.values(), dtype=int) # pick dictionary values\n",
    "m2lftym_Ag = pd.DataFrame({'life':m2lftym}) # make them to be pandas dataframe\n",
    "\n",
    "#m2Ag_mtr = pd.DataFrame({'mtr':np.array(list(m2ltym.keys()))}) # pick dictionary keys and make pd df\n",
    "\n",
    "# make a nice list from the dictionary keys, then make a pandas dataframe\n",
    "# NB: from ast import literal_eval\n",
    "\n",
    "m2ltym_list = []\n",
    "\n",
    "for i in list(m2ltym.keys()):\n",
    "    m2ltym_list.append(literal_eval(i))\n",
    "    \n",
    "m2ltym_list = np.array(m2ltym_list)\n",
    "m2Ag_mtr = pd.DataFrame({'x':m2ltym_list[:,0], 'y':m2ltym_list[:,1]})\n",
    "\n",
    "m2r08_Aglf = pd.concat([m2Ag_on,m2Ag_mtr,m2lftym_Ag],axis=1) # combine, sort, and clean\n",
    "m2r08_Aglf = m2r08_Aglf.sort_values(['Ts'],ascending=[True])\n",
    "m2r08_Aglf = m2r08_Aglf.reset_index(drop=True)\n",
    "\n",
    "m2r08_Aglf.to_csv('data09/inactive5s133R09_aggressive.csv', index=False, float_format='%.5f')"
   ]
  },
  {
   "cell_type": "code",
   "execution_count": 17,
   "metadata": {},
   "outputs": [],
   "source": [
    "lyf0 = np.zeros((m2r08_new.shape[0],1), dtype=int)\n",
    "lyf0 = pd.DataFrame(lyf0,columns=['life'])\n",
    "m2r08_lyf0 = pd.concat([m2r08_new,lyf0], axis=1)"
   ]
  },
  {
   "cell_type": "code",
   "execution_count": 18,
   "metadata": {},
   "outputs": [],
   "source": [
    "# update the life column of m1r08_lyf0 with the actual life from m1r08_Aglf\n",
    "\n",
    "lyf_list = np.around(m2r08_Aglf[m2r08_Aglf.columns[1:3]], 5).values.tolist()\n",
    "lyf0_list = np.around(m2r08_lyf0[m2r08_lyf0.columns[1:3]], 5).values.tolist()\n",
    "\n",
    "for i in range(len(lyf0_list)):\n",
    "    for j in range(len(lyf_list)):\n",
    "        if lyf_list[j] == lyf0_list[i]:\n",
    "            if m2r08_lyf0['label'].loc[i] == 1.0:\n",
    "                m2r08_lyf0['life'].loc[i] = int(m2r08_Aglf['life'].loc[j])\n",
    "                \n",
    "m2r08_lyf0['label'] = m2r08_lyf0['label'].map(lambda x: '%.1f' % x) # make label column have only one decimal\n",
    "m2r08_lyf0.to_csv('data09/all_inactive5s133R09_label_life.csv', float_format='%.5f', index=False)"
   ]
  },
  {
   "cell_type": "code",
   "execution_count": 19,
   "metadata": {},
   "outputs": [],
   "source": [
    "m1r08_lyf_ = m1r08_lyf0.sort_values(['Ts'], ascending=[True])\n",
    "m2r08_lyf_ = m2r08_lyf0.sort_values(['Ts'], ascending=[True])"
   ]
  },
  {
   "cell_type": "code",
   "execution_count": 20,
   "metadata": {},
   "outputs": [
    {
     "data": {
      "image/png": "[encoded data removed]",
      "text/plain": [
       "<Figure size 432x288 with 1 Axes>"
      ]
     },
     "metadata": {
      "needs_background": "light"
     },
     "output_type": "display_data"
    }
   ],
   "source": [
    "plt.plot(m2r08_lyf_['Ts'],0.01*m2r08_lyf_['life'],'b-')\n",
    "\n",
    "plt.xlabel('Time step')\n",
    "plt.ylabel('Life time (sec)')\n",
    "plt.title('R = 0.8, Defective')\n",
    "\n",
    "plt.show()"
   ]
  },
  {
   "cell_type": "code",
   "execution_count": 21,
   "metadata": {},
   "outputs": [
    {
     "data": {
      "image/png": "[encoded data removed]",
      "text/plain": [
       "<Figure size 432x288 with 1 Axes>"
      ]
     },
     "metadata": {
      "needs_background": "light"
     },
     "output_type": "display_data"
    }
   ],
   "source": [
    "plt.plot(m1r08_lyf_['Ts'],0.01*m1r08_lyf_['life'],'g-')\n",
    "\n",
    "plt.xlabel('Time step')\n",
    "plt.ylabel('Life time (sec)')\n",
    "plt.title('R = 0.8, Active')\n",
    "\n",
    "plt.show()"
   ]
  },
  {
   "cell_type": "code",
   "execution_count": 27,
   "metadata": {},
   "outputs": [
    {
     "data": {
      "image/png": "[encoded data removed]",
      "text/plain": [
       "<Figure size 720x576 with 1 Axes>"
      ]
     },
     "metadata": {
      "needs_background": "light"
     },
     "output_type": "display_data"
    }
   ],
   "source": [
    "fig, ax = plt.subplots(figsize=(10,8))\n",
    "\n",
    "bins = np.arange(0.0,0.041,0.01)\n",
    "\n",
    "ax.hist(0.01*m1r08_lyf0['life'], bins=bins, color = 'green', ec='black', alpha=1, label='Active')\n",
    "ax.set_xticks(np.arange(0.0,0.041,0.01))\n",
    "ax.set_yticks(np.arange(0,16001,2000))\n",
    "ax.tick_params(labelsize=14)\n",
    "ax.set_xlabel('Lifetime (sec)', fontsize=16)\n",
    "ax.set_ylabel('Number of occurrences', fontsize=16)\n",
    "ax.spines['top'].set_visible(False)\n",
    "ax.spines['right'].set_visible(False)\n",
    "ax.spines['bottom'].set_bounds(0,0.04)\n",
    "ax.legend(loc='upper left')\n",
    "mlyf = round(np.mean(0.01*m1r08_lyf0['life']), 2)\n",
    "ax.set_title('R = 0.9 | Mean lifetime = %s'%mlyf, fontsize=16)\n",
    "\n",
    "#plt.savefig('figLife/R09ActiveLife.svg', fmt='.svg', dpi=1200, bbox_inches='tight')\n",
    "#plt.savefig('figLife/R09ActiveLife.png', fmt='.png', dpi=1200, bbox_inches='tight')\n",
    "plt.show()"
   ]
  },
  {
   "cell_type": "code",
   "execution_count": 29,
   "metadata": {},
   "outputs": [
    {
     "data": {
      "image/png": "[encoded data removed]",
      "text/plain": [
       "<Figure size 720x576 with 1 Axes>"
      ]
     },
     "metadata": {
      "needs_background": "light"
     },
     "output_type": "display_data"
    }
   ],
   "source": [
    "fig, ax = plt.subplots(figsize=(10,8))\n",
    "\n",
    "bins = np.arange(0.0,0.111,0.01)\n",
    "\n",
    "ax.hist(0.01*m2r08_lyf0['life'], bins=bins, color='blue', ec='black', alpha=0.7, label='Defective')\n",
    "\n",
    "ax.set_xticks(np.arange(0.0,0.111,0.01))\n",
    "ax.set_yticks(np.arange(0,2001,200))\n",
    "ax.tick_params(labelsize=14)\n",
    "ax.set_xlabel('Lifetime (sec)', fontsize=16)\n",
    "ax.set_ylabel('Number of occurrences', fontsize=16)\n",
    "ax.spines['top'].set_visible(False)\n",
    "ax.spines['right'].set_visible(False)\n",
    "ax.spines['bottom'].set_bounds(0,0.11)\n",
    "ax.legend(loc='upper left')\n",
    "mlyf = round(np.mean(0.01*m2r08_lyf0['life']), 2)\n",
    "ax.set_title('R = 0.9 | Mean lifetime = %s'%mlyf, fontsize=16)\n",
    "\n",
    "#plt.savefig('figLife/R09InactiveLife.svg', fmt='.svg', dpi=1200, bbox_inches='tight')\n",
    "#plt.savefig('figLife/R09InactiveLife.png', fmt='.png', dpi=1200, bbox_inches='tight')\n",
    "plt.show()"
   ]
  },
  {
   "cell_type": "code",
   "execution_count": 28,
   "metadata": {},
   "outputs": [
    {
     "data": {
      "text/plain": [
       "0"
      ]
     },
     "execution_count": 28,
     "metadata": {},
     "output_type": "execute_result"
    }
   ],
   "source": [
    "len(m2r08_Pe)"
   ]
  },
  {
   "cell_type": "code",
   "execution_count": 29,
   "metadata": {},
   "outputs": [
    {
     "data": {
      "text/plain": [
       "1487"
      ]
     },
     "execution_count": 29,
     "metadata": {},
     "output_type": "execute_result"
    }
   ],
   "source": [
    "len(m2r08_Uq)"
   ]
  },
  {
   "cell_type": "code",
   "execution_count": 30,
   "metadata": {},
   "outputs": [
    {
     "data": {
      "text/plain": [
       "757"
      ]
     },
     "execution_count": 30,
     "metadata": {},
     "output_type": "execute_result"
    }
   ],
   "source": [
    "len(m2r08_Ag)"
   ]
  },
  {
   "cell_type": "code",
   "execution_count": 31,
   "metadata": {},
   "outputs": [
    {
     "data": {
      "text/plain": [
       "5802"
      ]
     },
     "execution_count": 31,
     "metadata": {},
     "output_type": "execute_result"
    }
   ],
   "source": [
    "len(m1r08_Pe)"
   ]
  },
  {
   "cell_type": "code",
   "execution_count": 32,
   "metadata": {},
   "outputs": [
    {
     "data": {
      "text/plain": [
       "7634"
      ]
     },
     "execution_count": 32,
     "metadata": {},
     "output_type": "execute_result"
    }
   ],
   "source": [
    "len(m1r08_Uq)"
   ]
  },
  {
   "cell_type": "code",
   "execution_count": 33,
   "metadata": {},
   "outputs": [
    {
     "data": {
      "text/plain": [
       "914"
      ]
     },
     "execution_count": 33,
     "metadata": {},
     "output_type": "execute_result"
    }
   ],
   "source": [
    "len(m1r08_Ag)"
   ]
  },
  {
   "cell_type": "code",
   "execution_count": null,
   "metadata": {},
   "outputs": [],
   "source": []
  },
  {
   "cell_type": "code",
   "execution_count": null,
   "metadata": {},
   "outputs": [],
   "source": []
  }
 ],
 "metadata": {
  "kernelspec": {
   "display_name": "Python 3",
   "language": "python",
   "name": "python3"
  },
  "language_info": {
   "codemirror_mode": {
    "name": "ipython",
    "version": 3
   },
   "file_extension": ".py",
   "mimetype": "text/x-python",
   "name": "python",
   "nbconvert_exporter": "python",
   "pygments_lexer": "ipython3",
   "version": "3.6.7"
  }
 },
 "nbformat": 4,
 "nbformat_minor": 2
}
