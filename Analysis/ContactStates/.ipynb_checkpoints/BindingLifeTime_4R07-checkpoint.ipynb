{
 "cells": [
  {
   "cell_type": "code",
   "execution_count": 1,
   "metadata": {},
   "outputs": [],
   "source": [
    "import numpy as np\n",
    "import pandas as pd\n",
    "from mpl_toolkits.mplot3d import Axes3D\n",
    "import matplotlib.pyplot as plt"
   ]
  },
  {
   "cell_type": "code",
   "execution_count": 2,
   "metadata": {},
   "outputs": [],
   "source": [
    "Ts = 501\n",
    "segments = 12 # beads = 13"
   ]
  },
  {
   "cell_type": "code",
   "execution_count": 3,
   "metadata": {},
   "outputs": [],
   "source": [
    "fil = []\n",
    "\n",
    "for i in range(Ts):\n",
    "    fil_ = pd.read_csv('data5/Filament_5s133R0.7Ts'+str(i)+'.csv', names=['x','y','z'], skiprows=1) \n",
    "    fil.append(fil_)"
   ]
  },
  {
   "cell_type": "code",
   "execution_count": 4,
   "metadata": {},
   "outputs": [],
   "source": [
    "m1r08_Aglf = pd.read_csv('data7/active5s133R07_aggressive.csv')\n",
    "m2r08_Aglf = pd.read_csv('data7/inactive5s133R07_aggressive.csv')"
   ]
  },
  {
   "cell_type": "code",
   "execution_count": 5,
   "metadata": {},
   "outputs": [],
   "source": [
    "m1r08_Ag_upd = pd.read_csv('data7/all_active5s133R07_label_life.csv')\n",
    "m2r08_Ag_upd = pd.read_csv('data7/all_inactive5s133R07_label_life.csv')"
   ]
  },
  {
   "cell_type": "code",
   "execution_count": 6,
   "metadata": {},
   "outputs": [
    {
     "data": {
      "text/plain": [
       "1.0"
      ]
     },
     "execution_count": 6,
     "metadata": {},
     "output_type": "execute_result"
    }
   ],
   "source": [
    "round(m1r08_Ag_upd['life'].mean(), 0)"
   ]
  },
  {
   "cell_type": "code",
   "execution_count": 7,
   "metadata": {},
   "outputs": [
    {
     "data": {
      "text/plain": [
       "19.0"
      ]
     },
     "execution_count": 7,
     "metadata": {},
     "output_type": "execute_result"
    }
   ],
   "source": [
    "round(m2r08_Ag_upd['life'].mean(), 0)"
   ]
  },
  {
   "cell_type": "code",
   "execution_count": 8,
   "metadata": {},
   "outputs": [],
   "source": [
    "m1r08_Ag_upd = m1r08_Ag_upd[m1r08_Ag_upd.life >= 1] # \n",
    "m2r08_Ag_upd = m2r08_Ag_upd[m2r08_Ag_upd.life >= 19]\n",
    "\n",
    "m1r08_Ag_upd = m1r08_Ag_upd.sort_values(['Ts'], ascending=[True])\n",
    "m2r08_Ag_upd = m2r08_Ag_upd.sort_values(['Ts'], ascending=[True])\n",
    "\n",
    "m1r08_Ag_u = m1r08_Ag_upd.set_index('Ts')\n",
    "m2r08_Ag_u = m2r08_Ag_upd.set_index('Ts')"
   ]
  },
  {
   "cell_type": "code",
   "execution_count": 9,
   "metadata": {},
   "outputs": [
    {
     "name": "stdout",
     "output_type": "stream",
     "text": [
      "80\n",
      "32: Timestep with the greates no. of defective aggressive motors\n"
     ]
    }
   ],
   "source": [
    "Ag_in_ts_ = []\n",
    "\n",
    "try:\n",
    "    for i in range(501):\n",
    "        Ag_in_ts_.append(len(m2r08_Ag_u.loc[i]))\n",
    "except Exception as e:\n",
    "    print(e)\n",
    "\n",
    "Ag_in_ts = np.array(Ag_in_ts_)\n",
    "print('%s: Timestep with the greates no. of defective aggressive motors'%(np.max(Ag_in_ts)))"
   ]
  },
  {
   "cell_type": "code",
   "execution_count": 10,
   "metadata": {},
   "outputs": [],
   "source": [
    "plt.style.use('ggplot')\n",
    "\n",
    "#idx = 19\n",
    "i=0\n",
    "unplottedA = []\n",
    "unplottedI = []\n",
    "\n",
    "while i < Ts:\n",
    "    for idx in range(i,i+1):\n",
    "        fig, ax = plt.subplots(figsize=(10,8))\n",
    "\n",
    "        ax.plot(fil[idx]['x'],fil[idx]['y'], marker='o', color='red', markerfacecolor='None', linestyle='-', linewidth=2, label='Actin')\n",
    "        ax.scatter(fil[idx]['x'][0],fil[idx]['y'][0], marker='D', color='black', label='Leading tip')\n",
    "        try:\n",
    "            ax.scatter(m1r08_Ag_u.loc[idx]['x'], m1r08_Ag_u.loc[idx]['y'], marker='o', color='lightgreen', label='Active')\n",
    "        except Exception as e:\n",
    "            unplottedA.append(e)\n",
    "        try:\n",
    "            ax.scatter(m2r08_Ag_u.loc[idx]['x'], m2r08_Ag_u.loc[idx]['y'], marker='o', color='blue', label='Defective') # aggressive\n",
    "        except Exception as e:\n",
    "            unplottedI.append(e)\n",
    "        ax.set_xticks(np.arange(0.4,6.1,0.4))\n",
    "        ax.set_yticks(np.arange(-2.0,2.4,0.4))\n",
    "        \n",
    "        ax.minorticks_on()\n",
    "        ax.tick_params('both', direction='in', top=True, right=True, length=9, width=0.5, which='major') #\n",
    "        ax.tick_params('both', direction='in', top=True, right=True, length=4, width=0.4, which='minor') #\n",
    "\n",
    "        ax.set_xlabel('X ($\\mu m$)', fontsize=15) #\n",
    "        ax.set_ylabel('Y ($\\mu m$)', fontsize=15) #\n",
    "        \n",
    "        ax.text(0.95,-0.06,'@NittaLab', color='grey', horizontalalignment ='center', verticalalignment='center', transform=ax.transAxes)\n",
    "        ax.set_aspect('equal') #\n",
    "        ax.legend(loc = 'upper left')\n",
    "\n",
    "        if i <10:\n",
    "            ax.set_title('R = 0.7 | Def. life $\\geq$ 0.19 sec | Act. life $\\geq$ 0.01 sec | Ts: 00%s'%i, fontsize=16) # > mean\n",
    "            plt.savefig('figInAcAg/'+'00'+str(i)+'.png', fmt='.png', dpi=500, bbox_inches='tight')\n",
    "        if i >9 and i <100:\n",
    "            ax.set_title('R = 0.7 | Def. life $\\geq$ 0.19 sec | Act. life $\\geq$ 0.01 sec | Ts: 0%s'%i, fontsize=16) # > mean\n",
    "            plt.savefig('figInAcAg/'+'0'+str(i)+'.png', fmt='.png', dpi=500, bbox_inches='tight')\n",
    "        if i >99 and i < Ts:\n",
    "            ax.set_title('R = 0.7 | Def. life $\\geq$ 0.19 sec | Act. life $\\geq$ 0.01 sec | Ts: %s'%i, fontsize=16) # > mean\n",
    "            plt.savefig('figInAcAg/'+str(i)+'.png', fmt='.png', dpi=500, bbox_inches='tight')\n",
    "\n",
    "        plt.close()\n",
    "    i+=1\n",
    "\n",
    "#plt.show()\n",
    "plt.close()"
   ]
  },
  {
   "cell_type": "code",
   "execution_count": 11,
   "metadata": {},
   "outputs": [],
   "source": [
    "import cv2\n",
    "import time\n",
    "import glob\n",
    "\n",
    "fRate = 15\n",
    "start = 0\n",
    "dx = 50\n",
    "\n",
    "for film in range(10):\n",
    "    movieName = 'figInAcAg/DefectiveActiveAggressiveTs'+str(start)+'_'+str(start+dx)+'.avi'\n",
    "\n",
    "    frames = []\n",
    "    images = glob.glob('figInAcAg/*.png')\n",
    "    images = sorted(images, key=lambda x:x[-7:])\n",
    "    images = images[start:start+dx]\n",
    "\n",
    "    for i in images:\n",
    "        frame = cv2.imread(i)#; print(i)\n",
    "        H, W, layers = frame.shape\n",
    "        size = (W,H)\n",
    "        frames.append(frame)\n",
    "\n",
    "    out = cv2.VideoWriter(movieName,cv2.VideoWriter_fourcc(*'DIVX'),fRate,size)\n",
    "\n",
    "    for j in range(len(frames)):\n",
    "        out.write(frames[j])\n",
    "    out.release()\n",
    "    start+=dx\n",
    "    time.sleep(15)"
   ]
  },
  {
   "cell_type": "code",
   "execution_count": null,
   "metadata": {},
   "outputs": [],
   "source": []
  },
  {
   "cell_type": "code",
   "execution_count": 17,
   "metadata": {
    "scrolled": true
   },
   "outputs": [
    {
     "data": {
      "image/png": "[encoded data removed]",
      "text/plain": [
       "<Figure size 720x576 with 1 Axes>"
      ]
     },
     "metadata": {},
     "output_type": "display_data"
    }
   ],
   "source": [
    "plt.style.use('ggplot')\n",
    "\n",
    "fig, ax = plt.subplots(figsize=(10,8))\n",
    "#fil[idx]['y']\n",
    "ax.plot(fil[idx]['y'],fil[idx]['z'], marker='o', color='red', markerfacecolor='None', linestyle='-', linewidth=2, label='Actin')\n",
    "#ax.scatter(fil[idx]['x'][0],[0], marker='D', color='black', label='Leading tip')\n",
    "try:\n",
    "    ax.scatter(m1r08_Ag_u.loc[idx]['x'], m1r08_Ag_u.loc[idx]['y'], marker='o', color='lightgreen', label='Active')\n",
    "except Exception as e:\n",
    "    unplottedA.append(e)\n",
    "try:\n",
    "    ax.scatter(m2r08_Ag_u.loc[idx]['x'], m2r08_Ag_u.loc[idx]['y'], marker='o', color='blue', label='Defective') # aggressive\n",
    "except Exception as e:\n",
    "    unplottedI.append(e)\n",
    "ax.set_xticks(np.arange(0.4,6.1,0.4))\n",
    "ax.set_yticks(np.arange(0.0,0.06,0.01))\n",
    "\n",
    "ax.minorticks_on()\n",
    "ax.tick_params('both', direction='in', top=True, right=True, length=9, width=0.5, which='major') #\n",
    "ax.tick_params('both', direction='in', top=True, right=True, length=4, width=0.4, which='minor') #\n",
    "\n",
    "ax.set_xlabel('X ($\\mu m$)', fontsize=15) #\n",
    "ax.set_ylabel('Z ($\\mu m$)', fontsize=15) #\n",
    "\n",
    "ax.text(0.95,-0.06,'@NittaLab', color='grey', horizontalalignment ='center', verticalalignment='center', transform=ax.transAxes)\n",
    "ax.set_aspect('equal') #\n",
    "ax.legend(loc = 'upper left')\n",
    "\n",
    "plt.show()"
   ]
  },
  {
   "cell_type": "code",
   "execution_count": 33,
   "metadata": {},
   "outputs": [
    {
     "data": {
      "image/png": "[encoded data removed]",
      "text/plain": [
       "<Figure size 720x576 with 1 Axes>"
      ]
     },
     "metadata": {},
     "output_type": "display_data"
    }
   ],
   "source": [
    "plt.style.use('ggplot')\n",
    "\n",
    "#idx = 19\n",
    "i=0\n",
    "unplottedA = []\n",
    "unplottedI = []\n",
    "\n",
    "while i < Ts:\n",
    "    for idx in range(i,i+1):\n",
    "        fig = plt.figure(figsize=plt.figaspect(0.5)*1.5)\n",
    "        ax = fig.gca(projection='3d')\n",
    "        # figaspect(0.5) makes the figure twice as wide as it is tall\n",
    "        # *1.5 increases the size of the figure\n",
    "\n",
    "        ax.plot(fil[idx]['x'],fil[idx]['y'],fil[idx]['z'], marker='o', color='red', markerfacecolor='None', linestyle='-', linewidth=2, label='Actin')\n",
    "        ax.scatter(fil[idx]['x'][0],fil[idx]['y'][0],fil[idx]['z'][0], marker='D', color='black', label='Leading tip')\n",
    "        #try:\n",
    "            #ax.scatter(m1r08_Ag_u.loc[idx]['x'], m1r08_Ag_u.loc[idx]['y'], marker='o', color='lightgreen', alpha=0.5, label='Active')\n",
    "        #except Exception as e:\n",
    "            #unplottedA.append(e)\n",
    "        try:\n",
    "            ax.scatter(m2r08_Ag_u.loc[idx]['x'], m2r08_Ag_u.loc[idx]['y'], marker='o', color='blue', label='Defective') # aggressive\n",
    "        except Exception as e:\n",
    "            unplottedI.append(e)\n",
    "        ax.set_xticks(np.arange(0.4,6.1,0.4))\n",
    "        ax.set_yticks(np.arange(-2.0,2.4,0.4))\n",
    "        ax.set_zticks(np.arange(0.0,0.061,0.02))\n",
    "\n",
    "        ax.minorticks_on()\n",
    "        ax.tick_params('both', direction='in', top=True, right=True, length=9, width=0.5, which='major') #\n",
    "        ax.tick_params('both', direction='in', top=True, right=True, length=4, width=0.4, which='minor') #\n",
    "\n",
    "        ax.set_xlabel('X ($\\mu m$)', fontsize=15) #\n",
    "        ax.set_ylabel('Y ($\\mu m$)', fontsize=15) #\n",
    "\n",
    "        if i <10:\n",
    "            #ax.set_title('R = 0.8 | Def. life $\\geq$ 0.04 sec | Act. life $\\geq$ 0.00 sec | Ts: 00%s'%i, fontsize=16) # > mean\n",
    "            plt.savefig('figInAcAg/'+'00'+str(i)+'.png', fmt='.png', dpi=500, bbox_inches='tight')\n",
    "        if i >9 and i <100:\n",
    "            #ax.set_title('R = 0.8 | Def. life $\\geq$ 0.04 sec | Act. life $\\geq$ 0.00 sec | Ts: 0%s'%i, fontsize=16) # > mean\n",
    "            plt.savefig('figInAcAg/'+'0'+str(i)+'.png', fmt='.png', dpi=500, bbox_inches='tight')\n",
    "        if i >99 and i < Ts:\n",
    "            #ax.set_title('R = 0.8 | Def. life $\\geq$ 0.04 sec | Act. life $\\geq$ 0.00 sec | Ts: %s'%i, fontsize=16) # > mean\n",
    "            plt.savefig('figInAcAg/'+str(i)+'.png', fmt='.png', dpi=500, bbox_inches='tight')\n",
    "\n",
    "        plt.close()\n",
    "    i+=1\n",
    "\n",
    "#plt.show()\n",
    "plt.close()\n",
    "\n",
    "#================================================================================\n",
    "\n",
    "import cv2\n",
    "import time\n",
    "import glob\n",
    "\n",
    "fRate = 15\n",
    "start = 0\n",
    "dx = 50\n",
    "\n",
    "for film in range(10):\n",
    "    movieName = 'figInAcAg/DefectiveActiveAggressiveTs'+str(start)+'_'+str(start+dx)+'.avi'\n",
    "\n",
    "    frames = []\n",
    "    images = glob.glob('figInAcAg/*.png')\n",
    "    images = sorted(images, key=lambda x:x[-7:])\n",
    "    images = images[start:start+dx]\n",
    "\n",
    "    for i in images:\n",
    "        frame = cv2.imread(i)#; print(i)\n",
    "        H, W, layers = frame.shape\n",
    "        size = (W,H)\n",
    "        frames.append(frame)\n",
    "\n",
    "    out = cv2.VideoWriter(movieName,cv2.VideoWriter_fourcc(*'DIVX'),fRate,size)\n",
    "\n",
    "    for j in range(len(frames)):\n",
    "        out.write(frames[j])\n",
    "    out.release()\n",
    "    start+=dx\n",
    "    time.sleep(15)"
   ]
  },
  {
   "cell_type": "code",
   "execution_count": null,
   "metadata": {},
   "outputs": [],
   "source": []
  }
 ],
 "metadata": {
  "kernelspec": {
   "display_name": "Python 3",
   "language": "python",
   "name": "python3"
  },
  "language_info": {
   "codemirror_mode": {
    "name": "ipython",
    "version": 3
   },
   "file_extension": ".py",
   "mimetype": "text/x-python",
   "name": "python",
   "nbconvert_exporter": "python",
   "pygments_lexer": "ipython3",
   "version": "3.6.7"
  }
 },
 "nbformat": 4,
 "nbformat_minor": 2
}
