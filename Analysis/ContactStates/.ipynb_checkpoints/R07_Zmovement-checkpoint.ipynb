{
 "cells": [
  {
   "cell_type": "code",
   "execution_count": 1,
   "metadata": {},
   "outputs": [],
   "source": [
    "import numpy as np\n",
    "import pandas as pd\n",
    "import matplotlib.pyplot as plt"
   ]
  },
  {
   "cell_type": "code",
   "execution_count": 2,
   "metadata": {},
   "outputs": [],
   "source": [
    "Ts = 501\n",
    "segments = 12\n",
    "beads = 13"
   ]
  },
  {
   "cell_type": "code",
   "execution_count": 3,
   "metadata": {},
   "outputs": [],
   "source": [
    "f = []\n",
    "\n",
    "for i in range(Ts):\n",
    "    f_ = pd.read_csv('data5/Filament_5s133R0.7Ts'+str(i)+'.csv', names=['x','y','z'], skiprows=1)\n",
    "    f.append(f_)"
   ]
  },
  {
   "cell_type": "code",
   "execution_count": 4,
   "metadata": {},
   "outputs": [],
   "source": [
    "for i in range(Ts):\n",
    "    if len(f[i]) != 13:\n",
    "        print(i)\n",
    "    #print('Checked %s'%i)"
   ]
  },
  {
   "cell_type": "code",
   "execution_count": 5,
   "metadata": {},
   "outputs": [
    {
     "data": {
      "text/plain": [
       "0.00281"
      ]
     },
     "execution_count": 5,
     "metadata": {},
     "output_type": "execute_result"
    }
   ],
   "source": [
    "f[500]['z'][12] # Ts 500 bead 12"
   ]
  },
  {
   "cell_type": "code",
   "execution_count": 6,
   "metadata": {},
   "outputs": [],
   "source": [
    "bead = [[] for _ in range(beads)] # 13 data buckets "
   ]
  },
  {
   "cell_type": "code",
   "execution_count": 7,
   "metadata": {},
   "outputs": [],
   "source": [
    "for i in range(Ts):\n",
    "    for j in range(beads):\n",
    "        bead[j].append(f[i]['z'][j])"
   ]
  },
  {
   "cell_type": "code",
   "execution_count": 8,
   "metadata": {},
   "outputs": [],
   "source": [
    "bmn = [[] for _ in range(beads)]\n",
    "bstd = [[] for _ in range(beads)]"
   ]
  },
  {
   "cell_type": "code",
   "execution_count": 9,
   "metadata": {},
   "outputs": [],
   "source": [
    "for k in range(beads):\n",
    "    bmn[k] = np.mean(bead[k])\n",
    "    bstd[k] = np.std(bead[k])"
   ]
  },
  {
   "cell_type": "code",
   "execution_count": 10,
   "metadata": {},
   "outputs": [],
   "source": [
    "bds = np.arange(1,14,1)"
   ]
  },
  {
   "cell_type": "code",
   "execution_count": 16,
   "metadata": {},
   "outputs": [
    {
     "data": {
      "image/png": "[encoded data removed]",
      "text/plain": [
       "<Figure size 720x576 with 1 Axes>"
      ]
     },
     "metadata": {
      "needs_background": "light"
     },
     "output_type": "display_data"
    }
   ],
   "source": [
    "fig, ax = plt.subplots(figsize=(10,8))\n",
    "\n",
    "ax.errorbar(bds,bmn,bstd, marker='o', color='salmon', linestyle='--', ecolor='gray', mec='red', capsize=3)\n",
    "ax.set_aspect('auto')\n",
    "ax.set_xticks(np.arange(1,14,1))\n",
    "ax.set_yticks(np.arange(0,0.031,0.005))\n",
    "ax.spines['left'].set_bounds(0,0.03)\n",
    "ax.spines['bottom'].set_bounds(1,13)\n",
    "ax.spines['top'].set_visible(False)\n",
    "ax.spines['right'].set_visible(False)\n",
    "ax.set_xlabel('Beads', fontsize=16)\n",
    "ax.set_ylabel('Z ($\\mu m$)', fontsize=16)\n",
    "ax.tick_params(labelsize=14)\n",
    "ax.set_title('R = 0.7', fontsize=16)\n",
    "\n",
    "#plt.savefig('figZmvt/R07beadZmvt.svg', fmt='.svg', dpi=1200, bbox_inches='tight')\n",
    "#plt.savefig('figZmvt/R07beadZmvt.png', fmt='.png', dpi=1200, bbox_inches='tight')\n",
    "\n",
    "plt.show()"
   ]
  },
  {
   "cell_type": "code",
   "execution_count": null,
   "metadata": {},
   "outputs": [],
   "source": []
  }
 ],
 "metadata": {
  "kernelspec": {
   "display_name": "Python 3",
   "language": "python",
   "name": "python3"
  },
  "language_info": {
   "codemirror_mode": {
    "name": "ipython",
    "version": 3
   },
   "file_extension": ".py",
   "mimetype": "text/x-python",
   "name": "python",
   "nbconvert_exporter": "python",
   "pygments_lexer": "ipython3",
   "version": "3.6.7"
  }
 },
 "nbformat": 4,
 "nbformat_minor": 2
}
