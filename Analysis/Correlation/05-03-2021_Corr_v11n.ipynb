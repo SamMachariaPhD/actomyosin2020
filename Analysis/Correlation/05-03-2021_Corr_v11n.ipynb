{
 "cells": [
  {
   "cell_type": "code",
   "execution_count": 1,
   "metadata": {},
   "outputs": [],
   "source": [
    "import numpy as np\n",
    "import matplotlib.pyplot as plt\n",
    "import pandas as pd"
   ]
  },
  {
   "cell_type": "code",
   "execution_count": 2,
   "metadata": {},
   "outputs": [],
   "source": [
    "beads = 13\n",
    "beads2 = 2\n",
    "dt = 0.01\n",
    "dt01 = 0.1"
   ]
  },
  {
   "cell_type": "code",
   "execution_count": 3,
   "metadata": {},
   "outputs": [],
   "source": [
    "#defF = 4.6 pN, actF = 9.2 pN, R = 0.5, B = 13, ATP = 2000, MD = 3000, S = 77, T = 5\n",
    "conf = pd.read_csv('data/Conformation_A001.txt', names=['time','x','y','z'], delim_whitespace=True)\n",
    "bmAc = pd.read_csv('data/bmAc.csv', names=['bm'])\n",
    "bminAc = pd.read_csv('data/bminAc.csv', names=['bm'])\n",
    "#defF = 9.2 pN, actF = 9.2 pN, R = 0.92, B = 13, ATP = 2000, MD = 3000, S = 77, T = 5\n",
    "conf9 = pd.read_csv('data/9/Conformation_A001.txt', names=['time','x','y','z'], delim_whitespace=True)\n",
    "bmAc9 = pd.read_csv('data/9/bmAc.csv', names=['bm'])\n",
    "bminAc9 = pd.read_csv('data/9/bminAc.csv', names=['bm'])\n",
    "#defF = 9.2 pN, actF = 9.2 pN, R = 0.92, B = 13, ATP = 2000, MD = 3000, S = 77, T = 5\n",
    "confb = pd.read_csv('data/b/Conformation_A001.txt', names=['time','x','y','z'], delim_whitespace=True)\n",
    "bmAcb = pd.read_csv('data/b/bmAc.csv', names=['bm'])\n",
    "bminAcb = pd.read_csv('data/b/bminAc.csv', names=['bm'])\n",
    "#defF = 9.2 pN, actF = 9.2 pN, R = 0.92, B = 2, ATP = 2000, MD = 2000, S = 273, T = 5\n",
    "confb2 = pd.read_csv('data/2bds/Conformation_A001.txt', names=['time','x','y','z'], delim_whitespace=True)\n",
    "bmAcb2 = pd.read_csv('data/2bds/bmAc.csv', names=['bm'])\n",
    "bminAcb2 = pd.read_csv('data/2bds/bminAc.csv', names=['bm'])"
   ]
  },
  {
   "cell_type": "code",
   "execution_count": 4,
   "metadata": {},
   "outputs": [],
   "source": [
    "Head = conf.iloc[0::beads,:]\n",
    "Head = Head.reset_index(drop=True)\n",
    "Head01 = Head.iloc[0::10,:]\n",
    "Head01 = Head01.reset_index(drop=True)\n",
    "\n",
    "dxHead = np.diff(Head['x'])\n",
    "dyHead = np.diff(Head['y'])\n",
    "dxHead01 = np.diff(Head01['x'])\n",
    "dyHead01 = np.diff(Head01['y'])\n",
    "\n",
    "distHead = np.sqrt((dxHead**2)+(dyHead**2))\n",
    "spdHead = distHead/(1*dt)\n",
    "avSpdHead = np.mean(spdHead)\n",
    "distHead01 = np.sqrt((dxHead01**2)+(dyHead01**2))\n",
    "spdHead01 = distHead01/(10*dt)\n",
    "avSpdHead01 = np.mean(spdHead01)\n",
    "\n",
    "stdHead = np.sum(((spdHead-avSpdHead)**2)/(np.size(spdHead)-1))\n",
    "stdHead = np.sqrt(stdHead)\n",
    "stdHead01 = np.sum(((spdHead01-avSpdHead01)**2)/(np.size(spdHead01)-1))\n",
    "stdHead01 = np.sqrt(stdHead01)\n",
    "\n",
    "xHead = np.arange(0,spdHead.shape[0])\n",
    "xHead01 = np.arange(0,spdHead.shape[0], step=10)\n",
    "\n",
    "#xHead = np.linspace(0,spdHead.shape[0],spdHead.shape[0])\n",
    "#xHead01 = np.linspace(0,spdHead.shape[0],spdHead.shape[0])\n",
    "\n",
    "Tail = conf.iloc[(beads-1)::beads,:]\n",
    "Tail = Tail.reset_index(drop=True)\n",
    "Tail01 = Tail.iloc[0::10,:]\n",
    "Tail01 = Tail01.reset_index(drop=True)\n",
    "\n",
    "dxTail = np.diff(Tail['x'])\n",
    "dyTail = np.diff(Tail['y'])\n",
    "dxTail01 = np.diff(Tail01['x'])\n",
    "dyTail01 = np.diff(Tail01['y'])\n",
    "\n",
    "distTail = np.sqrt((dxTail**2)+(dyTail**2))\n",
    "spdTail = distTail/(1*dt)\n",
    "avSpdTail = np.mean(spdTail)\n",
    "distTail01 = np.sqrt((dxTail01**2)+(dyTail01**2))\n",
    "spdTail01 = distTail01/(10*dt)\n",
    "avSpdTail01 = np.mean(spdTail01)\n",
    "\n",
    "stdTail = np.sum(((spdTail-avSpdTail)**2)/(np.size(spdTail)-1))\n",
    "stdTail = np.sqrt(stdTail)\n",
    "stdTail01 = np.sum(((spdTail01-avSpdTail01)**2)/(np.size(spdTail01)-1))\n",
    "stdTail01 = np.sqrt(stdTail01)\n",
    "\n",
    "xTail = np.arange(0,spdTail.shape[0])\n",
    "xTail01 = np.arange(0,spdTail.shape[0], step=10)\n",
    "\n",
    "\n",
    "\n",
    "\n",
    "\n",
    "\n",
    "Head9 = conf9.iloc[0::beads,:]\n",
    "Head9 = Head9.reset_index(drop=True)\n",
    "\n",
    "dxHead9 = np.diff(Head9['x'])\n",
    "dyHead9 = np.diff(Head9['y'])\n",
    "\n",
    "distHead9 = np.sqrt((dxHead9**2)+(dyHead9**2))\n",
    "spdHead9 = distHead9/(1*dt)\n",
    "avSpdHead9 = np.mean(spdHead9)\n",
    "\n",
    "stdHead = np.sum(((spdHead-avSpdHead)**2)/(np.size(spdHead)-1))\n",
    "stdHead = np.sqrt(stdHead)\n",
    "stdHead01 = np.sum(((spdHead01-avSpdHead01)**2)/(np.size(spdHead01)-1))\n",
    "stdHead01 = np.sqrt(stdHead01)\n",
    "\n",
    "\n",
    "\n",
    "Headb = confb.iloc[0::beads,:]\n",
    "Headb = Headb.reset_index(drop=True)\n",
    "\n",
    "dxHeadb = np.diff(Headb['x'])\n",
    "dyHeadb = np.diff(Headb['y'])\n",
    "\n",
    "distHeadb = np.sqrt((dxHeadb**2)+(dyHeadb**2))\n",
    "spdHeadb = distHeadb/(1*dt)\n",
    "avSpdHeadb = np.mean(spdHeadb)\n",
    "\n",
    "\n",
    "\n",
    "Headb2 = confb2.iloc[0::beads2,:]\n",
    "Headb2 = Headb2.reset_index(drop=True)\n",
    "\n",
    "dxHeadb2 = np.diff(Headb2['x'])\n",
    "dyHeadb2 = np.diff(Headb2['y'])\n",
    "\n",
    "distHeadb2 = np.sqrt((dxHeadb2**2)+(dyHeadb2**2))\n",
    "spdHeadb2 = distHeadb2/(1*dt)\n",
    "avSpdHeadb2 = np.mean(spdHeadb2)"
   ]
  },
  {
   "cell_type": "code",
   "execution_count": 5,
   "metadata": {},
   "outputs": [],
   "source": [
    "s = spdHead\n",
    "s = np.insert(s,0,0)\n",
    "s = pd.DataFrame(s)\n",
    "alld = pd.concat([s,bmAc,bminAc], axis=1)\n",
    "alld.columns=['spd','act','def']\n",
    "\n",
    "s9 = spdHead9\n",
    "s9 = np.insert(s9,0,0)\n",
    "s9 = pd.DataFrame(s9)\n",
    "alld9 = pd.concat([s9,bmAc9,bminAc9], axis=1)\n",
    "alld9.columns=['spd','act','def']\n",
    "\n",
    "sb = spdHeadb\n",
    "sb = np.insert(sb,0,0)\n",
    "sb = pd.DataFrame(sb)\n",
    "alldb = pd.concat([sb,bmAcb,bminAcb], axis=1)\n",
    "alldb.columns=['spd','act','def']\n",
    "\n",
    "sb2 = spdHeadb2\n",
    "sb2 = np.insert(sb2,0,0)\n",
    "sb2 = pd.DataFrame(sb2)\n",
    "alldb2 = pd.concat([sb2,bmAcb2,bminAcb2], axis=1)\n",
    "alldb2.columns=['spd','act','def']"
   ]
  },
  {
   "cell_type": "code",
   "execution_count": 8,
   "metadata": {},
   "outputs": [],
   "source": [
    "fig, ax = plt.subplots(3,2,figsize=(18,8))\n",
    "x = np.linspace(0,5,501)\n",
    "\n",
    "ax[0,0].plot(x,alld['spd'], color='red')\n",
    "ax[0,0].set_ylabel('Speed ($\\mu m$)', fontsize=16)\n",
    "ax[0,0].set_title('defF = 4.6 pN, R = 0.5', fontsize=16)\n",
    "ax[0,0].minorticks_on()\n",
    "ax[0,0].tick_params('both',direction='in',top=True,right=True,length=8, width=0.5,which='major', labelsize=14)\n",
    "ax[0,0].tick_params('both',direction='in',top=True,right=True,length=4, width=0.4,which='minor', labelsize=14)\n",
    "\n",
    "ax[1,0].plot(x,alld['act'].T, color='green')\n",
    "ax[1,0].set_ylabel('Binding active', fontsize=16)\n",
    "ax[1,0].minorticks_on()\n",
    "ax[1,0].tick_params('both',direction='in',top=True,right=True,length=8, width=0.5,which='major', labelsize=14)\n",
    "ax[1,0].tick_params('both',direction='in',top=True,right=True,length=4, width=0.4,which='minor', labelsize=14)\n",
    "\n",
    "ax[2,0].plot(x,alld['def'].T, color='blue')\n",
    "ax[2,0].set_ylabel('Binding defective', fontsize=16)\n",
    "ax[2,0].set_xlabel('Time (sec.)', fontsize=16)\n",
    "ax[2,0].minorticks_on()\n",
    "ax[2,0].tick_params('both',direction='in',top=True,right=True,length=8, width=0.5,which='major', labelsize=14)\n",
    "ax[2,0].tick_params('both',direction='in',top=True,right=True,length=4, width=0.4,which='minor', labelsize=14)\n",
    "#==================================================================\n",
    "ax[0,1].plot(x,alld9['spd'], color='red')\n",
    "ax[0,1].set_title('defF = 9.2 pN, R = 0.92', fontsize=16)\n",
    "ax[0,1].minorticks_on()\n",
    "ax[0,1].tick_params('both',direction='in',top=True,right=True,length=8, width=0.5,which='major', labelsize=14)\n",
    "ax[0,1].tick_params('both',direction='in',top=True,right=True,length=4, width=0.4,which='minor', labelsize=14)\n",
    "\n",
    "ax[1,1].plot(x,alld9['act'].T, color='green')\n",
    "ax[1,1].minorticks_on()\n",
    "ax[1,1].tick_params('both',direction='in',top=True,right=True,length=8, width=0.5,which='major', labelsize=14)\n",
    "ax[1,1].tick_params('both',direction='in',top=True,right=True,length=4, width=0.4,which='minor', labelsize=14)\n",
    "\n",
    "ax[2,1].plot(x,alld9['def'].T, color='blue')\n",
    "ax[2,1].set_xlabel('Time (sec.)', fontsize=16)\n",
    "ax[2,1].minorticks_on()\n",
    "ax[2,1].tick_params('both',direction='in',top=True,right=True,length=8, width=0.5,which='major', labelsize=14)\n",
    "ax[2,1].tick_params('both',direction='in',top=True,right=True,length=4, width=0.4,which='minor', labelsize=14)\n",
    "\n",
    "#plt.savefig('fig/speed_binding_corr_F4.6-9.2pN.pdf', format='pdf', dpi=500, bbox_inches='tight')\n",
    "#plt.close()"
   ]
  },
  {
   "cell_type": "code",
   "execution_count": 9,
   "metadata": {},
   "outputs": [],
   "source": [
    "fig, ax = plt.subplots(3,2,figsize=(18,8))\n",
    "x = np.linspace(0,5,501)\n",
    "\n",
    "ax[0,0].plot(x,alld['spd'], color='red')\n",
    "ax[0,0].set_ylabel('Speed ($\\mu m$)', fontsize=16)\n",
    "ax[0,0].set_title('defF = 4.6 pN, R = 0.5', fontsize=16)\n",
    "ax[0,0].minorticks_on()\n",
    "ax[0,0].tick_params('both',direction='in',top=True,right=True,length=8, width=0.5,which='major', labelsize=14)\n",
    "ax[0,0].tick_params('both',direction='in',top=True,right=True,length=4, width=0.4,which='minor', labelsize=14)\n",
    "\n",
    "ax[1,0].plot(x,alld['act'].T, color='green')\n",
    "ax[1,0].set_ylabel('Binding active', fontsize=16)\n",
    "ax[1,0].minorticks_on()\n",
    "ax[1,0].tick_params('both',direction='in',top=True,right=True,length=8, width=0.5,which='major', labelsize=14)\n",
    "ax[1,0].tick_params('both',direction='in',top=True,right=True,length=4, width=0.4,which='minor', labelsize=14)\n",
    "\n",
    "ax[2,0].plot(x,alld['def'].T, color='blue')\n",
    "ax[2,0].set_ylabel('Binding defective', fontsize=16)\n",
    "ax[2,0].set_xlabel('Time (sec.)', fontsize=16)\n",
    "ax[2,0].minorticks_on()\n",
    "ax[2,0].tick_params('both',direction='in',top=True,right=True,length=8, width=0.5,which='major', labelsize=14)\n",
    "ax[2,0].tick_params('both',direction='in',top=True,right=True,length=4, width=0.4,which='minor', labelsize=14)\n",
    "#==================================================================\n",
    "ax[0,1].plot(x,alldb['spd'], color='red')\n",
    "ax[0,1].set_title('defF = 9.2 pN, R = 0.92, Bunble', fontsize=16)\n",
    "ax[0,1].minorticks_on()\n",
    "ax[0,1].tick_params('both',direction='in',top=True,right=True,length=8, width=0.5,which='major', labelsize=14)\n",
    "ax[0,1].tick_params('both',direction='in',top=True,right=True,length=4, width=0.4,which='minor', labelsize=14)\n",
    "\n",
    "ax[1,1].plot(x,alldb['act'].T, color='green')\n",
    "ax[1,1].minorticks_on()\n",
    "ax[1,1].tick_params('both',direction='in',top=True,right=True,length=8, width=0.5,which='major', labelsize=14)\n",
    "ax[1,1].tick_params('both',direction='in',top=True,right=True,length=4, width=0.4,which='minor', labelsize=14)\n",
    "\n",
    "ax[2,1].plot(x,alldb['def'].T, color='blue')\n",
    "ax[2,1].set_xlabel('Time (sec.)', fontsize=16)\n",
    "ax[2,1].minorticks_on()\n",
    "ax[2,1].tick_params('both',direction='in',top=True,right=True,length=8, width=0.5,which='major', labelsize=14)\n",
    "ax[2,1].tick_params('both',direction='in',top=True,right=True,length=4, width=0.4,which='minor', labelsize=14)\n",
    "\n",
    "#plt.savefig('fig/speed_binding_corr_F4.6-9.2pN_Bdl.pdf', format='pdf', dpi=500, bbox_inches='tight')\n",
    "#plt.close()"
   ]
  },
  {
   "cell_type": "code",
   "execution_count": 10,
   "metadata": {},
   "outputs": [],
   "source": [
    "fig, ax = plt.subplots(3,2,figsize=(18,8))\n",
    "x = np.linspace(0,5,501)\n",
    "\n",
    "ax[0,0].plot(x,alld['spd'], color='red')\n",
    "ax[0,0].set_ylabel('Speed ($\\mu m$)', fontsize=16)\n",
    "ax[0,0].set_title('defF = 4.6 pN, R = 0.5', fontsize=16)\n",
    "ax[0,0].minorticks_on()\n",
    "ax[0,0].tick_params('both',direction='in',top=True,right=True,length=8, width=0.5,which='major', labelsize=14)\n",
    "ax[0,0].tick_params('both',direction='in',top=True,right=True,length=4, width=0.4,which='minor', labelsize=14)\n",
    "\n",
    "ax[1,0].plot(x,alld['act'].T, color='green')\n",
    "ax[1,0].set_ylabel('Binding active', fontsize=16)\n",
    "ax[1,0].minorticks_on()\n",
    "ax[1,0].tick_params('both',direction='in',top=True,right=True,length=8, width=0.5,which='major', labelsize=14)\n",
    "ax[1,0].tick_params('both',direction='in',top=True,right=True,length=4, width=0.4,which='minor', labelsize=14)\n",
    "\n",
    "ax[2,0].plot(x,alld['def'].T, color='blue')\n",
    "ax[2,0].set_ylabel('Binding defective', fontsize=16)\n",
    "ax[2,0].set_xlabel('Time (sec.)', fontsize=16)\n",
    "ax[2,0].minorticks_on()\n",
    "ax[2,0].tick_params('both',direction='in',top=True,right=True,length=8, width=0.5,which='major', labelsize=14)\n",
    "ax[2,0].tick_params('both',direction='in',top=True,right=True,length=4, width=0.4,which='minor', labelsize=14)\n",
    "#==================================================================\n",
    "ax[0,1].plot(x,alldb2['spd'], color='red')\n",
    "ax[0,1].set_title('defF = 9.2 pN, R = 0.92, 2Beads AF', fontsize=16)\n",
    "ax[0,1].minorticks_on()\n",
    "ax[0,1].tick_params('both',direction='in',top=True,right=True,length=8, width=0.5,which='major', labelsize=14)\n",
    "ax[0,1].tick_params('both',direction='in',top=True,right=True,length=4, width=0.4,which='minor', labelsize=14)\n",
    "\n",
    "ax[1,1].plot(x,alldb2['act'].T, color='green')\n",
    "ax[1,1].minorticks_on()\n",
    "ax[1,1].tick_params('both',direction='in',top=True,right=True,length=8, width=0.5,which='major', labelsize=14)\n",
    "ax[1,1].tick_params('both',direction='in',top=True,right=True,length=4, width=0.4,which='minor', labelsize=14)\n",
    "\n",
    "ax[2,1].plot(x,alldb2['def'].T, color='blue')\n",
    "ax[2,1].set_xlabel('Time (sec.)', fontsize=16)\n",
    "ax[2,1].minorticks_on()\n",
    "ax[2,1].tick_params('both',direction='in',top=True,right=True,length=8, width=0.5,which='major', labelsize=14)\n",
    "ax[2,1].tick_params('both',direction='in',top=True,right=True,length=4, width=0.4,which='minor', labelsize=14)\n",
    "\n",
    "#plt.savefig('fig/speed_binding_corr_F4.6-9.2pN_2B.pdf', format='pdf', dpi=500, bbox_inches='tight')\n",
    "#plt.close()"
   ]
  },
  {
   "cell_type": "markdown",
   "metadata": {},
   "source": [
    "#### defF = 4.6 pN, R = 0.5, B = 13, MD = 3000"
   ]
  },
  {
   "cell_type": "code",
   "execution_count": 11,
   "metadata": {},
   "outputs": [
    {
     "data": {
      "text/html": [
       "<style  type=\"text/css\" >\n",
       "#T_7e4eb66e_7dad_11eb_9676_650ad83c218drow0_col0,#T_7e4eb66e_7dad_11eb_9676_650ad83c218drow1_col1,#T_7e4eb66e_7dad_11eb_9676_650ad83c218drow2_col2{\n",
       "            background-color:  #b40426;\n",
       "            color:  #f1f1f1;\n",
       "        }#T_7e4eb66e_7dad_11eb_9676_650ad83c218drow0_col1,#T_7e4eb66e_7dad_11eb_9676_650ad83c218drow0_col2,#T_7e4eb66e_7dad_11eb_9676_650ad83c218drow2_col0{\n",
       "            background-color:  #3b4cc0;\n",
       "            color:  #f1f1f1;\n",
       "        }#T_7e4eb66e_7dad_11eb_9676_650ad83c218drow1_col0{\n",
       "            background-color:  #3d50c3;\n",
       "            color:  #f1f1f1;\n",
       "        }#T_7e4eb66e_7dad_11eb_9676_650ad83c218drow1_col2,#T_7e4eb66e_7dad_11eb_9676_650ad83c218drow2_col1{\n",
       "            background-color:  #d1493f;\n",
       "            color:  #f1f1f1;\n",
       "        }</style><table id=\"T_7e4eb66e_7dad_11eb_9676_650ad83c218d\" ><thead>    <tr>        <th class=\"blank level0\" ></th>        <th class=\"col_heading level0 col0\" >spd</th>        <th class=\"col_heading level0 col1\" >act</th>        <th class=\"col_heading level0 col2\" >def</th>    </tr></thead><tbody>\n",
       "                <tr>\n",
       "                        <th id=\"T_7e4eb66e_7dad_11eb_9676_650ad83c218dlevel0_row0\" class=\"row_heading level0 row0\" >spd</th>\n",
       "                        <td id=\"T_7e4eb66e_7dad_11eb_9676_650ad83c218drow0_col0\" class=\"data row0 col0\" >1.000000</td>\n",
       "                        <td id=\"T_7e4eb66e_7dad_11eb_9676_650ad83c218drow0_col1\" class=\"data row0 col1\" >-0.530089</td>\n",
       "                        <td id=\"T_7e4eb66e_7dad_11eb_9676_650ad83c218drow0_col2\" class=\"data row0 col2\" >-0.547607</td>\n",
       "            </tr>\n",
       "            <tr>\n",
       "                        <th id=\"T_7e4eb66e_7dad_11eb_9676_650ad83c218dlevel0_row1\" class=\"row_heading level0 row1\" >act</th>\n",
       "                        <td id=\"T_7e4eb66e_7dad_11eb_9676_650ad83c218drow1_col0\" class=\"data row1 col0\" >-0.530089</td>\n",
       "                        <td id=\"T_7e4eb66e_7dad_11eb_9676_650ad83c218drow1_col1\" class=\"data row1 col1\" >1.000000</td>\n",
       "                        <td id=\"T_7e4eb66e_7dad_11eb_9676_650ad83c218drow1_col2\" class=\"data row1 col2\" >0.871025</td>\n",
       "            </tr>\n",
       "            <tr>\n",
       "                        <th id=\"T_7e4eb66e_7dad_11eb_9676_650ad83c218dlevel0_row2\" class=\"row_heading level0 row2\" >def</th>\n",
       "                        <td id=\"T_7e4eb66e_7dad_11eb_9676_650ad83c218drow2_col0\" class=\"data row2 col0\" >-0.547607</td>\n",
       "                        <td id=\"T_7e4eb66e_7dad_11eb_9676_650ad83c218drow2_col1\" class=\"data row2 col1\" >0.871025</td>\n",
       "                        <td id=\"T_7e4eb66e_7dad_11eb_9676_650ad83c218drow2_col2\" class=\"data row2 col2\" >1.000000</td>\n",
       "            </tr>\n",
       "    </tbody></table>"
      ],
      "text/plain": [
       "<pandas.io.formats.style.Styler at 0x7f077eef1630>"
      ]
     },
     "execution_count": 11,
     "metadata": {},
     "output_type": "execute_result"
    }
   ],
   "source": [
    "corr = alld.corr()\n",
    "corr.style.background_gradient(cmap='coolwarm')"
   ]
  },
  {
   "cell_type": "markdown",
   "metadata": {},
   "source": [
    "#### defF = 9.2 pN, R = 0.92, B = 13, MD = 3000"
   ]
  },
  {
   "cell_type": "code",
   "execution_count": 12,
   "metadata": {},
   "outputs": [
    {
     "data": {
      "text/html": [
       "<style  type=\"text/css\" >\n",
       "#T_8574a890_7dad_11eb_9676_650ad83c218drow0_col0,#T_8574a890_7dad_11eb_9676_650ad83c218drow1_col1,#T_8574a890_7dad_11eb_9676_650ad83c218drow2_col2{\n",
       "            background-color:  #b40426;\n",
       "            color:  #f1f1f1;\n",
       "        }#T_8574a890_7dad_11eb_9676_650ad83c218drow0_col1,#T_8574a890_7dad_11eb_9676_650ad83c218drow0_col2,#T_8574a890_7dad_11eb_9676_650ad83c218drow2_col0{\n",
       "            background-color:  #3b4cc0;\n",
       "            color:  #f1f1f1;\n",
       "        }#T_8574a890_7dad_11eb_9676_650ad83c218drow1_col0{\n",
       "            background-color:  #5572df;\n",
       "            color:  #000000;\n",
       "        }#T_8574a890_7dad_11eb_9676_650ad83c218drow1_col2{\n",
       "            background-color:  #e46e56;\n",
       "            color:  #000000;\n",
       "        }#T_8574a890_7dad_11eb_9676_650ad83c218drow2_col1{\n",
       "            background-color:  #e8765c;\n",
       "            color:  #000000;\n",
       "        }</style><table id=\"T_8574a890_7dad_11eb_9676_650ad83c218d\" ><thead>    <tr>        <th class=\"blank level0\" ></th>        <th class=\"col_heading level0 col0\" >spd</th>        <th class=\"col_heading level0 col1\" >act</th>        <th class=\"col_heading level0 col2\" >def</th>    </tr></thead><tbody>\n",
       "                <tr>\n",
       "                        <th id=\"T_8574a890_7dad_11eb_9676_650ad83c218dlevel0_row0\" class=\"row_heading level0 row0\" >spd</th>\n",
       "                        <td id=\"T_8574a890_7dad_11eb_9676_650ad83c218drow0_col0\" class=\"data row0 col0\" >1.000000</td>\n",
       "                        <td id=\"T_8574a890_7dad_11eb_9676_650ad83c218drow0_col1\" class=\"data row0 col1\" >-0.273856</td>\n",
       "                        <td id=\"T_8574a890_7dad_11eb_9676_650ad83c218drow0_col2\" class=\"data row0 col2\" >-0.398619</td>\n",
       "            </tr>\n",
       "            <tr>\n",
       "                        <th id=\"T_8574a890_7dad_11eb_9676_650ad83c218dlevel0_row1\" class=\"row_heading level0 row1\" >act</th>\n",
       "                        <td id=\"T_8574a890_7dad_11eb_9676_650ad83c218drow1_col0\" class=\"data row1 col0\" >-0.273856</td>\n",
       "                        <td id=\"T_8574a890_7dad_11eb_9676_650ad83c218drow1_col1\" class=\"data row1 col1\" >1.000000</td>\n",
       "                        <td id=\"T_8574a890_7dad_11eb_9676_650ad83c218drow1_col2\" class=\"data row1 col2\" >0.782159</td>\n",
       "            </tr>\n",
       "            <tr>\n",
       "                        <th id=\"T_8574a890_7dad_11eb_9676_650ad83c218dlevel0_row2\" class=\"row_heading level0 row2\" >def</th>\n",
       "                        <td id=\"T_8574a890_7dad_11eb_9676_650ad83c218drow2_col0\" class=\"data row2 col0\" >-0.398619</td>\n",
       "                        <td id=\"T_8574a890_7dad_11eb_9676_650ad83c218drow2_col1\" class=\"data row2 col1\" >0.782159</td>\n",
       "                        <td id=\"T_8574a890_7dad_11eb_9676_650ad83c218drow2_col2\" class=\"data row2 col2\" >1.000000</td>\n",
       "            </tr>\n",
       "    </tbody></table>"
      ],
      "text/plain": [
       "<pandas.io.formats.style.Styler at 0x7f077f7f2128>"
      ]
     },
     "execution_count": 12,
     "metadata": {},
     "output_type": "execute_result"
    }
   ],
   "source": [
    "corr = alld9.corr()\n",
    "corr.style.background_gradient(cmap='coolwarm')"
   ]
  },
  {
   "cell_type": "markdown",
   "metadata": {},
   "source": [
    "#### defF = 9.2 pN, R = 0.92, B = 13, MD = 3000 | Bundle: EI=0.41 NOT 0.073"
   ]
  },
  {
   "cell_type": "code",
   "execution_count": 13,
   "metadata": {},
   "outputs": [
    {
     "data": {
      "text/html": [
       "<style  type=\"text/css\" >\n",
       "#T_8653482a_7dad_11eb_9676_650ad83c218drow0_col0,#T_8653482a_7dad_11eb_9676_650ad83c218drow1_col1,#T_8653482a_7dad_11eb_9676_650ad83c218drow2_col2{\n",
       "            background-color:  #b40426;\n",
       "            color:  #f1f1f1;\n",
       "        }#T_8653482a_7dad_11eb_9676_650ad83c218drow0_col1,#T_8653482a_7dad_11eb_9676_650ad83c218drow0_col2,#T_8653482a_7dad_11eb_9676_650ad83c218drow2_col0{\n",
       "            background-color:  #3b4cc0;\n",
       "            color:  #f1f1f1;\n",
       "        }#T_8653482a_7dad_11eb_9676_650ad83c218drow1_col0{\n",
       "            background-color:  #536edd;\n",
       "            color:  #000000;\n",
       "        }#T_8653482a_7dad_11eb_9676_650ad83c218drow1_col2{\n",
       "            background-color:  #ec7f63;\n",
       "            color:  #000000;\n",
       "        }#T_8653482a_7dad_11eb_9676_650ad83c218drow2_col1{\n",
       "            background-color:  #ee8669;\n",
       "            color:  #000000;\n",
       "        }</style><table id=\"T_8653482a_7dad_11eb_9676_650ad83c218d\" ><thead>    <tr>        <th class=\"blank level0\" ></th>        <th class=\"col_heading level0 col0\" >spd</th>        <th class=\"col_heading level0 col1\" >act</th>        <th class=\"col_heading level0 col2\" >def</th>    </tr></thead><tbody>\n",
       "                <tr>\n",
       "                        <th id=\"T_8653482a_7dad_11eb_9676_650ad83c218dlevel0_row0\" class=\"row_heading level0 row0\" >spd</th>\n",
       "                        <td id=\"T_8653482a_7dad_11eb_9676_650ad83c218drow0_col0\" class=\"data row0 col0\" >1.000000</td>\n",
       "                        <td id=\"T_8653482a_7dad_11eb_9676_650ad83c218drow0_col1\" class=\"data row0 col1\" >-0.388047</td>\n",
       "                        <td id=\"T_8653482a_7dad_11eb_9676_650ad83c218drow0_col2\" class=\"data row0 col2\" >-0.511390</td>\n",
       "            </tr>\n",
       "            <tr>\n",
       "                        <th id=\"T_8653482a_7dad_11eb_9676_650ad83c218dlevel0_row1\" class=\"row_heading level0 row1\" >act</th>\n",
       "                        <td id=\"T_8653482a_7dad_11eb_9676_650ad83c218drow1_col0\" class=\"data row1 col0\" >-0.388047</td>\n",
       "                        <td id=\"T_8653482a_7dad_11eb_9676_650ad83c218drow1_col1\" class=\"data row1 col1\" >1.000000</td>\n",
       "                        <td id=\"T_8653482a_7dad_11eb_9676_650ad83c218drow1_col2\" class=\"data row1 col2\" >0.715381</td>\n",
       "            </tr>\n",
       "            <tr>\n",
       "                        <th id=\"T_8653482a_7dad_11eb_9676_650ad83c218dlevel0_row2\" class=\"row_heading level0 row2\" >def</th>\n",
       "                        <td id=\"T_8653482a_7dad_11eb_9676_650ad83c218drow2_col0\" class=\"data row2 col0\" >-0.511390</td>\n",
       "                        <td id=\"T_8653482a_7dad_11eb_9676_650ad83c218drow2_col1\" class=\"data row2 col1\" >0.715381</td>\n",
       "                        <td id=\"T_8653482a_7dad_11eb_9676_650ad83c218drow2_col2\" class=\"data row2 col2\" >1.000000</td>\n",
       "            </tr>\n",
       "    </tbody></table>"
      ],
      "text/plain": [
       "<pandas.io.formats.style.Styler at 0x7f077f7f2710>"
      ]
     },
     "execution_count": 13,
     "metadata": {},
     "output_type": "execute_result"
    }
   ],
   "source": [
    "corr = alldb.corr()\n",
    "corr.style.background_gradient(cmap='coolwarm')"
   ]
  },
  {
   "cell_type": "markdown",
   "metadata": {},
   "source": [
    "#### defF = 9.2 pN, R = 0.92, B = 2, MD = 2000 | 2Beads AF"
   ]
  },
  {
   "cell_type": "code",
   "execution_count": 14,
   "metadata": {},
   "outputs": [
    {
     "data": {
      "text/html": [
       "<style  type=\"text/css\" >\n",
       "#T_872e1450_7dad_11eb_9676_650ad83c218drow0_col0,#T_872e1450_7dad_11eb_9676_650ad83c218drow1_col1,#T_872e1450_7dad_11eb_9676_650ad83c218drow2_col2{\n",
       "            background-color:  #b40426;\n",
       "            color:  #f1f1f1;\n",
       "        }#T_872e1450_7dad_11eb_9676_650ad83c218drow0_col1,#T_872e1450_7dad_11eb_9676_650ad83c218drow0_col2,#T_872e1450_7dad_11eb_9676_650ad83c218drow2_col0{\n",
       "            background-color:  #3b4cc0;\n",
       "            color:  #f1f1f1;\n",
       "        }#T_872e1450_7dad_11eb_9676_650ad83c218drow1_col0{\n",
       "            background-color:  #4f69d9;\n",
       "            color:  #000000;\n",
       "        }#T_872e1450_7dad_11eb_9676_650ad83c218drow1_col2{\n",
       "            background-color:  #dc5d4a;\n",
       "            color:  #000000;\n",
       "        }#T_872e1450_7dad_11eb_9676_650ad83c218drow2_col1{\n",
       "            background-color:  #de614d;\n",
       "            color:  #000000;\n",
       "        }</style><table id=\"T_872e1450_7dad_11eb_9676_650ad83c218d\" ><thead>    <tr>        <th class=\"blank level0\" ></th>        <th class=\"col_heading level0 col0\" >spd</th>        <th class=\"col_heading level0 col1\" >act</th>        <th class=\"col_heading level0 col2\" >def</th>    </tr></thead><tbody>\n",
       "                <tr>\n",
       "                        <th id=\"T_872e1450_7dad_11eb_9676_650ad83c218dlevel0_row0\" class=\"row_heading level0 row0\" >spd</th>\n",
       "                        <td id=\"T_872e1450_7dad_11eb_9676_650ad83c218drow0_col0\" class=\"data row0 col0\" >1.000000</td>\n",
       "                        <td id=\"T_872e1450_7dad_11eb_9676_650ad83c218drow0_col1\" class=\"data row0 col1\" >-0.661319</td>\n",
       "                        <td id=\"T_872e1450_7dad_11eb_9676_650ad83c218drow0_col2\" class=\"data row0 col2\" >-0.780918</td>\n",
       "            </tr>\n",
       "            <tr>\n",
       "                        <th id=\"T_872e1450_7dad_11eb_9676_650ad83c218dlevel0_row1\" class=\"row_heading level0 row1\" >act</th>\n",
       "                        <td id=\"T_872e1450_7dad_11eb_9676_650ad83c218drow1_col0\" class=\"data row1 col0\" >-0.661319</td>\n",
       "                        <td id=\"T_872e1450_7dad_11eb_9676_650ad83c218drow1_col1\" class=\"data row1 col1\" >1.000000</td>\n",
       "                        <td id=\"T_872e1450_7dad_11eb_9676_650ad83c218drow1_col2\" class=\"data row1 col2\" >0.787518</td>\n",
       "            </tr>\n",
       "            <tr>\n",
       "                        <th id=\"T_872e1450_7dad_11eb_9676_650ad83c218dlevel0_row2\" class=\"row_heading level0 row2\" >def</th>\n",
       "                        <td id=\"T_872e1450_7dad_11eb_9676_650ad83c218drow2_col0\" class=\"data row2 col0\" >-0.780918</td>\n",
       "                        <td id=\"T_872e1450_7dad_11eb_9676_650ad83c218drow2_col1\" class=\"data row2 col1\" >0.787518</td>\n",
       "                        <td id=\"T_872e1450_7dad_11eb_9676_650ad83c218drow2_col2\" class=\"data row2 col2\" >1.000000</td>\n",
       "            </tr>\n",
       "    </tbody></table>"
      ],
      "text/plain": [
       "<pandas.io.formats.style.Styler at 0x7f077f7f2630>"
      ]
     },
     "execution_count": 14,
     "metadata": {},
     "output_type": "execute_result"
    }
   ],
   "source": [
    "corr = alldb2.corr()\n",
    "corr.style.background_gradient(cmap='coolwarm')"
   ]
  },
  {
   "cell_type": "code",
   "execution_count": 15,
   "metadata": {},
   "outputs": [
    {
     "name": "stdout",
     "output_type": "stream",
     "text": [
      "[NbConvertApp] Converting notebook 05-03-2021_Corr_v11n.ipynb to html\n",
      "[NbConvertApp] Writing 581823 bytes to 05-03-2021_Corr_v11n.html\n"
     ]
    }
   ],
   "source": [
    "!jupyter nbconvert 05-03-2021_Corr_v11n.ipynb --no-input --to html"
   ]
  },
  {
   "cell_type": "code",
   "execution_count": null,
   "metadata": {},
   "outputs": [],
   "source": []
  }
 ],
 "metadata": {
  "kernelspec": {
   "display_name": "Python 3",
   "language": "python",
   "name": "python3"
  },
  "language_info": {
   "codemirror_mode": {
    "name": "ipython",
    "version": 3
   },
   "file_extension": ".py",
   "mimetype": "text/x-python",
   "name": "python",
   "nbconvert_exporter": "python",
   "pygments_lexer": "ipython3",
   "version": "3.6.7"
  }
 },
 "nbformat": 4,
 "nbformat_minor": 4
}
